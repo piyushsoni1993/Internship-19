{
 "cells": [
  {
   "cell_type": "markdown",
   "id": "8a7749d9",
   "metadata": {},
   "source": [
    "Q1: Write a python program to scrape data for “Data Analyst” Job position in \n",
    "“Bangalore” location. You have to scrape the job-title, job-location, company_name,\n",
    "experience_required. You have to scrape first 10 jobs data.\n",
    "This task will be done in following steps:\n",
    "1. first get the webpage https://www.naukri.com/\n",
    "2. Enter “Data Analyst” in “Skill,Designations,Companies” field and enter “Bangalore” \n",
    "in “enter the location” field.\n",
    "3. Then click the search button.\n",
    "4. Then scrape the data for the first 10 jobs results you get.\n",
    "5. Finally create a dataframe of the scraped data."
   ]
  },
  {
   "cell_type": "code",
   "execution_count": 315,
   "id": "b7864625",
   "metadata": {
    "scrolled": true
   },
   "outputs": [
    {
     "name": "stdout",
     "output_type": "stream",
     "text": [
      "Requirement already satisfied: selenium in c:\\users\\piyush\\anaconda3\\lib\\site-packages (3.141.0)\n",
      "Requirement already satisfied: urllib3 in c:\\users\\piyush\\anaconda3\\lib\\site-packages (from selenium) (1.26.4)\n",
      "Note: you may need to restart the kernel to use updated packages.\n"
     ]
    }
   ],
   "source": [
    "pip install selenium"
   ]
  },
  {
   "cell_type": "code",
   "execution_count": 3,
   "id": "2182ac68",
   "metadata": {},
   "outputs": [],
   "source": [
    "import selenium\n",
    "import pandas as pd\n",
    "from selenium import webdriver\n",
    "from selenium.webdriver.common.keys import Keys\n",
    "import time"
   ]
  },
  {
   "cell_type": "code",
   "execution_count": 4,
   "id": "52b1cbc0",
   "metadata": {
    "scrolled": true
   },
   "outputs": [],
   "source": [
    "driver=webdriver.Chrome(r\"C:\\Users\\Piyush\\Downloads\\chromedriver_win32\\chromedriver.exe\")"
   ]
  },
  {
   "cell_type": "code",
   "execution_count": 32,
   "id": "713553ad",
   "metadata": {
    "scrolled": true
   },
   "outputs": [],
   "source": [
    "url='https://www.naukri.com/'\n",
    "driver.get(url)"
   ]
  },
  {
   "cell_type": "code",
   "execution_count": 33,
   "id": "87cd17b3",
   "metadata": {},
   "outputs": [
    {
     "data": {
      "text/plain": [
       "<selenium.webdriver.remote.webelement.WebElement (session=\"72ebe60185c3c833c4a476d87a9e7368\", element=\"67329bda-148f-4f01-97fa-61cd658e2b7f\")>"
      ]
     },
     "execution_count": 33,
     "metadata": {},
     "output_type": "execute_result"
    }
   ],
   "source": [
    "search_job=driver.find_element_by_xpath('//input[@class=\"sugInp\"]')\n",
    "search_job"
   ]
  },
  {
   "cell_type": "code",
   "execution_count": 34,
   "id": "f1f6689e",
   "metadata": {},
   "outputs": [],
   "source": [
    "#Enter “Data Analyst” in “Skill,Designations,Companies” field\n",
    "\n",
    "search_job.send_keys(\"Data Analyst\")"
   ]
  },
  {
   "cell_type": "code",
   "execution_count": 35,
   "id": "74ac87c5",
   "metadata": {},
   "outputs": [
    {
     "data": {
      "text/plain": [
       "<selenium.webdriver.remote.webelement.WebElement (session=\"72ebe60185c3c833c4a476d87a9e7368\", element=\"10c26e2d-dc95-4091-9100-661fb2f26d2d\")>"
      ]
     },
     "execution_count": 35,
     "metadata": {},
     "output_type": "execute_result"
    }
   ],
   "source": [
    "search_loc=driver.find_element_by_id(\"qsb-location-sugg\")\n",
    "search_loc"
   ]
  },
  {
   "cell_type": "code",
   "execution_count": 36,
   "id": "e65f01f1",
   "metadata": {},
   "outputs": [],
   "source": [
    "#enter “Bangalore” in “enter the location” field\n",
    "\n",
    "search_loc.send_keys(\"Bangalore\")"
   ]
  },
  {
   "cell_type": "code",
   "execution_count": 37,
   "id": "9108c204",
   "metadata": {},
   "outputs": [
    {
     "data": {
      "text/plain": [
       "<selenium.webdriver.remote.webelement.WebElement (session=\"72ebe60185c3c833c4a476d87a9e7368\", element=\"d77a368e-c6d1-4ec5-944d-cf1a3b2eb4e4\")>"
      ]
     },
     "execution_count": 37,
     "metadata": {},
     "output_type": "execute_result"
    }
   ],
   "source": [
    "search_btn=driver.find_element_by_xpath('//button[@class=\"btn\"]')\n",
    "search_btn"
   ]
  },
  {
   "cell_type": "code",
   "execution_count": 38,
   "id": "39d31741",
   "metadata": {},
   "outputs": [],
   "source": [
    "#click the search button\n",
    "\n",
    "search_btn.click()"
   ]
  },
  {
   "cell_type": "code",
   "execution_count": 39,
   "id": "108e0f5f",
   "metadata": {},
   "outputs": [
    {
     "data": {
      "text/plain": [
       "[<selenium.webdriver.remote.webelement.WebElement (session=\"72ebe60185c3c833c4a476d87a9e7368\", element=\"0836abae-cc72-464e-aa58-e9c46a6054da\")>,\n",
       " <selenium.webdriver.remote.webelement.WebElement (session=\"72ebe60185c3c833c4a476d87a9e7368\", element=\"abbc2c6f-077a-4b54-8e3a-04965a2ce494\")>,\n",
       " <selenium.webdriver.remote.webelement.WebElement (session=\"72ebe60185c3c833c4a476d87a9e7368\", element=\"42b85cb9-bb21-41a7-8067-2b05905ab360\")>,\n",
       " <selenium.webdriver.remote.webelement.WebElement (session=\"72ebe60185c3c833c4a476d87a9e7368\", element=\"e19e8b4d-6e13-4963-84d3-e4f5b74f94a7\")>,\n",
       " <selenium.webdriver.remote.webelement.WebElement (session=\"72ebe60185c3c833c4a476d87a9e7368\", element=\"a1e5ef76-cccb-4754-8e52-144b76de6c0e\")>,\n",
       " <selenium.webdriver.remote.webelement.WebElement (session=\"72ebe60185c3c833c4a476d87a9e7368\", element=\"86a56bd6-9191-4392-8865-aa9e6586d15a\")>,\n",
       " <selenium.webdriver.remote.webelement.WebElement (session=\"72ebe60185c3c833c4a476d87a9e7368\", element=\"e4968968-eed7-4569-84ee-0242c597765f\")>,\n",
       " <selenium.webdriver.remote.webelement.WebElement (session=\"72ebe60185c3c833c4a476d87a9e7368\", element=\"4a878021-d10c-43be-a1db-d13a9c5a8b6d\")>,\n",
       " <selenium.webdriver.remote.webelement.WebElement (session=\"72ebe60185c3c833c4a476d87a9e7368\", element=\"acd2f887-931e-4478-8fdc-184c35fa1c07\")>,\n",
       " <selenium.webdriver.remote.webelement.WebElement (session=\"72ebe60185c3c833c4a476d87a9e7368\", element=\"2886e2f2-1028-4c8a-91d0-fbbd3a7febf0\")>,\n",
       " <selenium.webdriver.remote.webelement.WebElement (session=\"72ebe60185c3c833c4a476d87a9e7368\", element=\"6df9c963-68f8-424d-8912-37e3a879d0eb\")>,\n",
       " <selenium.webdriver.remote.webelement.WebElement (session=\"72ebe60185c3c833c4a476d87a9e7368\", element=\"ede7f6b4-4885-486f-a429-ce5c08b73286\")>,\n",
       " <selenium.webdriver.remote.webelement.WebElement (session=\"72ebe60185c3c833c4a476d87a9e7368\", element=\"8010bb31-c0a1-428e-aca1-c37ac299e9b2\")>,\n",
       " <selenium.webdriver.remote.webelement.WebElement (session=\"72ebe60185c3c833c4a476d87a9e7368\", element=\"37e63c8c-cbb9-4ced-b3fa-23a9bcfbbafd\")>,\n",
       " <selenium.webdriver.remote.webelement.WebElement (session=\"72ebe60185c3c833c4a476d87a9e7368\", element=\"76f73b4c-3b10-4111-8529-21e327cee215\")>,\n",
       " <selenium.webdriver.remote.webelement.WebElement (session=\"72ebe60185c3c833c4a476d87a9e7368\", element=\"580dd9b2-4230-4de6-9ddb-24fad401c9d5\")>,\n",
       " <selenium.webdriver.remote.webelement.WebElement (session=\"72ebe60185c3c833c4a476d87a9e7368\", element=\"5fc8abde-571d-40ad-b20a-92919f8aed00\")>,\n",
       " <selenium.webdriver.remote.webelement.WebElement (session=\"72ebe60185c3c833c4a476d87a9e7368\", element=\"686f27a8-57e6-4be8-af32-621293551c43\")>,\n",
       " <selenium.webdriver.remote.webelement.WebElement (session=\"72ebe60185c3c833c4a476d87a9e7368\", element=\"df8b7a02-a54d-467c-a666-46de81403606\")>,\n",
       " <selenium.webdriver.remote.webelement.WebElement (session=\"72ebe60185c3c833c4a476d87a9e7368\", element=\"b89a7497-4f9c-4535-851f-f99668f3897a\")>]"
      ]
     },
     "execution_count": 39,
     "metadata": {},
     "output_type": "execute_result"
    }
   ],
   "source": [
    "job_title=driver.find_elements_by_xpath('//a[@class=\"title fw500 ellipsis\"]')\n",
    "job_title"
   ]
  },
  {
   "cell_type": "code",
   "execution_count": 40,
   "id": "e29d5640",
   "metadata": {},
   "outputs": [
    {
     "data": {
      "text/plain": [
       "['Business Data Analyst',\n",
       " 'Business Data Analyst',\n",
       " 'Senior Data Analyst IDAM Services',\n",
       " 'Data Analyst/Sr.Data Engineer',\n",
       " 'Business Data Analyst - Google Data Studio & SQL',\n",
       " 'Data Analyst - Python/SQL',\n",
       " 'Executive Data Analyst',\n",
       " 'Senior Data Analyst',\n",
       " 'Systems and Data Analyst, Safety and Provisioning',\n",
       " 'Data Analyst with SQL',\n",
       " 'Data Analyst',\n",
       " 'Business Data Analyst - MIS & Reporting',\n",
       " 'Data Analyst',\n",
       " 'Data Analyst - EdTech',\n",
       " 'Lead , Data Analyst',\n",
       " 'Associate System and Data Analyst',\n",
       " 'Data Analyst with SAS & Python',\n",
       " 'Data Analyst',\n",
       " 'Data Analyst',\n",
       " 'Data Analyst']"
      ]
     },
     "execution_count": 40,
     "metadata": {},
     "output_type": "execute_result"
    }
   ],
   "source": [
    "job_titles=[]\n",
    "for i in job_title:\n",
    "    job_titles.append(i.text)\n",
    "    \n",
    "job_titles"
   ]
  },
  {
   "cell_type": "code",
   "execution_count": 41,
   "id": "2611389b",
   "metadata": {},
   "outputs": [
    {
     "data": {
      "text/plain": [
       "[<selenium.webdriver.remote.webelement.WebElement (session=\"72ebe60185c3c833c4a476d87a9e7368\", element=\"58798b44-5729-4bba-92e7-cafcced546cd\")>,\n",
       " <selenium.webdriver.remote.webelement.WebElement (session=\"72ebe60185c3c833c4a476d87a9e7368\", element=\"becf3777-cc79-4e2c-ada1-95bf7346d7b7\")>,\n",
       " <selenium.webdriver.remote.webelement.WebElement (session=\"72ebe60185c3c833c4a476d87a9e7368\", element=\"44f2367f-800d-4ee3-a19c-037a6881aaf7\")>,\n",
       " <selenium.webdriver.remote.webelement.WebElement (session=\"72ebe60185c3c833c4a476d87a9e7368\", element=\"8bc0418b-f437-4cc8-96d5-a042ed532e58\")>,\n",
       " <selenium.webdriver.remote.webelement.WebElement (session=\"72ebe60185c3c833c4a476d87a9e7368\", element=\"dc4b9792-14ca-4b6e-a9f0-7fd446212cde\")>,\n",
       " <selenium.webdriver.remote.webelement.WebElement (session=\"72ebe60185c3c833c4a476d87a9e7368\", element=\"1b507d51-9be4-4fbf-b774-45c6f40c0fe7\")>,\n",
       " <selenium.webdriver.remote.webelement.WebElement (session=\"72ebe60185c3c833c4a476d87a9e7368\", element=\"b649e284-e2f1-4bf4-89c0-daf3f10588ec\")>,\n",
       " <selenium.webdriver.remote.webelement.WebElement (session=\"72ebe60185c3c833c4a476d87a9e7368\", element=\"1ba6580f-ddb1-4335-98e3-9e9df1208604\")>,\n",
       " <selenium.webdriver.remote.webelement.WebElement (session=\"72ebe60185c3c833c4a476d87a9e7368\", element=\"8d87bec4-c1c9-4c7f-a10f-95d396140df6\")>,\n",
       " <selenium.webdriver.remote.webelement.WebElement (session=\"72ebe60185c3c833c4a476d87a9e7368\", element=\"cc143eab-7d27-4d89-8483-2681ce2db3c4\")>,\n",
       " <selenium.webdriver.remote.webelement.WebElement (session=\"72ebe60185c3c833c4a476d87a9e7368\", element=\"c89a5420-f757-43f0-8409-efa323dc8f2d\")>,\n",
       " <selenium.webdriver.remote.webelement.WebElement (session=\"72ebe60185c3c833c4a476d87a9e7368\", element=\"c32b5209-5236-4ef5-b0f4-73e2a1cb165e\")>,\n",
       " <selenium.webdriver.remote.webelement.WebElement (session=\"72ebe60185c3c833c4a476d87a9e7368\", element=\"235fc8c5-be0d-42ac-84d8-d76fa0e1424d\")>,\n",
       " <selenium.webdriver.remote.webelement.WebElement (session=\"72ebe60185c3c833c4a476d87a9e7368\", element=\"61196a53-a343-44c5-a689-0854d668e0f2\")>,\n",
       " <selenium.webdriver.remote.webelement.WebElement (session=\"72ebe60185c3c833c4a476d87a9e7368\", element=\"04449191-8701-41e7-a746-7e9babee8c5b\")>,\n",
       " <selenium.webdriver.remote.webelement.WebElement (session=\"72ebe60185c3c833c4a476d87a9e7368\", element=\"90d8567c-fe8a-4d3c-8c27-c8b02a19de70\")>,\n",
       " <selenium.webdriver.remote.webelement.WebElement (session=\"72ebe60185c3c833c4a476d87a9e7368\", element=\"718c5b3f-f034-4132-93ad-247a8869346f\")>,\n",
       " <selenium.webdriver.remote.webelement.WebElement (session=\"72ebe60185c3c833c4a476d87a9e7368\", element=\"3d001f82-c2da-4678-8cb5-2690328fb976\")>,\n",
       " <selenium.webdriver.remote.webelement.WebElement (session=\"72ebe60185c3c833c4a476d87a9e7368\", element=\"9c9e401f-e5c2-45f8-8caa-8b0f6b8561e5\")>,\n",
       " <selenium.webdriver.remote.webelement.WebElement (session=\"72ebe60185c3c833c4a476d87a9e7368\", element=\"19efea85-3cb5-4582-9289-3cd832a4af20\")>]"
      ]
     },
     "execution_count": 41,
     "metadata": {},
     "output_type": "execute_result"
    }
   ],
   "source": [
    "job_loc=driver.find_elements_by_xpath('//li[@class=\"fleft grey-text br2 placeHolderLi location\"]')\n",
    "job_loc"
   ]
  },
  {
   "cell_type": "code",
   "execution_count": 42,
   "id": "236cdd44",
   "metadata": {},
   "outputs": [
    {
     "data": {
      "text/plain": [
       "['Bangalore/Bengaluru',\n",
       " 'Bangalore/Bengaluru',\n",
       " 'Bangalore/Bengaluru',\n",
       " 'Hyderabad/Secunderabad, Chennai, Bangalore/Bengaluru\\n(WFH during Covid)',\n",
       " 'Bangalore/Bengaluru',\n",
       " 'Bangalore/Bengaluru',\n",
       " 'Bangalore/Bengaluru',\n",
       " 'Hyderabad/Secunderabad, Pune, Gurgaon/Gurugram, Chennai, Bangalore/Bengaluru, Mumbai (All Areas)\\n(WFH during Covid)',\n",
       " 'Bangalore/Bengaluru',\n",
       " 'Noida, Gurgaon/Gurugram, Bangalore/Bengaluru',\n",
       " 'Bengaluru/Bangalore',\n",
       " 'Mumbai, Bangalore/Bengaluru',\n",
       " 'Pune, Bangalore/Bengaluru, Mumbai (All Areas)',\n",
       " 'Bangalore/Bengaluru',\n",
       " 'Bangalore/Bengaluru',\n",
       " 'Bangalore/Bengaluru',\n",
       " 'Gurgaon/Gurugram, Chennai, Bangalore',\n",
       " 'Bangalore/Bengaluru',\n",
       " 'Gurgaon/Gurugram, Bangalore/Bengaluru, Mumbai (All Areas)',\n",
       " 'Bangalore/Bengaluru(Indira Nagar)']"
      ]
     },
     "execution_count": 42,
     "metadata": {},
     "output_type": "execute_result"
    }
   ],
   "source": [
    "job_location=[]\n",
    "for i in job_loc:\n",
    "    job_location.append(i.text)\n",
    "    \n",
    "job_location"
   ]
  },
  {
   "cell_type": "code",
   "execution_count": 43,
   "id": "ec8f84e2",
   "metadata": {},
   "outputs": [
    {
     "data": {
      "text/plain": [
       "[<selenium.webdriver.remote.webelement.WebElement (session=\"72ebe60185c3c833c4a476d87a9e7368\", element=\"cfd27679-2e31-4209-863b-2ee01d957f97\")>,\n",
       " <selenium.webdriver.remote.webelement.WebElement (session=\"72ebe60185c3c833c4a476d87a9e7368\", element=\"7c60187a-292e-45c2-879b-d8afadcb5969\")>,\n",
       " <selenium.webdriver.remote.webelement.WebElement (session=\"72ebe60185c3c833c4a476d87a9e7368\", element=\"70ecfcee-ad47-491f-9236-4e99e49811f3\")>,\n",
       " <selenium.webdriver.remote.webelement.WebElement (session=\"72ebe60185c3c833c4a476d87a9e7368\", element=\"8b903af9-2327-449e-9afb-b91a135af4fb\")>,\n",
       " <selenium.webdriver.remote.webelement.WebElement (session=\"72ebe60185c3c833c4a476d87a9e7368\", element=\"61912634-0584-4b21-af96-a82adc79f788\")>,\n",
       " <selenium.webdriver.remote.webelement.WebElement (session=\"72ebe60185c3c833c4a476d87a9e7368\", element=\"0265f219-98b2-4413-8ab6-48872a335663\")>,\n",
       " <selenium.webdriver.remote.webelement.WebElement (session=\"72ebe60185c3c833c4a476d87a9e7368\", element=\"011d510c-1280-4b5c-a379-bda82dbb208c\")>,\n",
       " <selenium.webdriver.remote.webelement.WebElement (session=\"72ebe60185c3c833c4a476d87a9e7368\", element=\"b9dc2d03-387d-40db-8258-298e760ae632\")>,\n",
       " <selenium.webdriver.remote.webelement.WebElement (session=\"72ebe60185c3c833c4a476d87a9e7368\", element=\"0cba87b5-28b5-4a16-bd91-a0e1d8e91ad2\")>,\n",
       " <selenium.webdriver.remote.webelement.WebElement (session=\"72ebe60185c3c833c4a476d87a9e7368\", element=\"a74d31ea-b45f-4d72-8ecc-a893ffc58a43\")>,\n",
       " <selenium.webdriver.remote.webelement.WebElement (session=\"72ebe60185c3c833c4a476d87a9e7368\", element=\"f8b16418-926d-4806-8f66-7ec384e63914\")>,\n",
       " <selenium.webdriver.remote.webelement.WebElement (session=\"72ebe60185c3c833c4a476d87a9e7368\", element=\"0fc369d6-f8ae-4ee1-9560-800d4de87754\")>,\n",
       " <selenium.webdriver.remote.webelement.WebElement (session=\"72ebe60185c3c833c4a476d87a9e7368\", element=\"36ff2c59-ca48-4795-bb2c-eed1f9aabf47\")>,\n",
       " <selenium.webdriver.remote.webelement.WebElement (session=\"72ebe60185c3c833c4a476d87a9e7368\", element=\"366e42e0-883c-412f-9d0c-23a5dde0fb9a\")>,\n",
       " <selenium.webdriver.remote.webelement.WebElement (session=\"72ebe60185c3c833c4a476d87a9e7368\", element=\"9031126a-c0d6-4e76-adee-e381ad2bdff9\")>,\n",
       " <selenium.webdriver.remote.webelement.WebElement (session=\"72ebe60185c3c833c4a476d87a9e7368\", element=\"4141be52-40d2-4589-9b7e-f7e981d6ba7e\")>,\n",
       " <selenium.webdriver.remote.webelement.WebElement (session=\"72ebe60185c3c833c4a476d87a9e7368\", element=\"6d7c414d-bae3-4ca9-9d02-cbeb658fa630\")>,\n",
       " <selenium.webdriver.remote.webelement.WebElement (session=\"72ebe60185c3c833c4a476d87a9e7368\", element=\"63072f0b-4e9e-4350-bfd8-1ecd78726a03\")>,\n",
       " <selenium.webdriver.remote.webelement.WebElement (session=\"72ebe60185c3c833c4a476d87a9e7368\", element=\"58aea5d0-dd9a-46cb-b572-88168db1b7a8\")>,\n",
       " <selenium.webdriver.remote.webelement.WebElement (session=\"72ebe60185c3c833c4a476d87a9e7368\", element=\"918f5941-6cc3-4bcd-a555-b9ff012226e9\")>]"
      ]
     },
     "execution_count": 43,
     "metadata": {},
     "output_type": "execute_result"
    }
   ],
   "source": [
    "job_comp=driver.find_elements_by_xpath('//a[@class=\"subTitle ellipsis fleft\"]')\n",
    "job_comp"
   ]
  },
  {
   "cell_type": "code",
   "execution_count": 44,
   "id": "622f8feb",
   "metadata": {},
   "outputs": [
    {
     "data": {
      "text/plain": [
       "['Trigent Software',\n",
       " 'Trigent Software',\n",
       " 'GlaxoSmithKline Pharmaceuticals Limited',\n",
       " 'SYREN TECHNOLOGIES PRIVATE LIMITED',\n",
       " 'AVE-Promagne',\n",
       " 'Affine',\n",
       " 'Gokaldas Exports Ltd',\n",
       " 'Virtusa Consulting Services Pvt Ltd',\n",
       " 'AECOM India Private Limited',\n",
       " 'Wipro Limited',\n",
       " 'IBM India Pvt. Limited',\n",
       " 'INTERTRUST GROUP',\n",
       " 'Edge Executive Search Pvt. Ltd.',\n",
       " 'TalentStack',\n",
       " 'Near Pte. Ltd.',\n",
       " 'Boeing',\n",
       " 'Podium Systems',\n",
       " 'Coda Payments',\n",
       " 'FedEx Express',\n",
       " 'Supertails']"
      ]
     },
     "execution_count": 44,
     "metadata": {},
     "output_type": "execute_result"
    }
   ],
   "source": [
    "job_company=[]\n",
    "for i in job_comp:\n",
    "    job_company.append(i.text)\n",
    "    \n",
    "job_company"
   ]
  },
  {
   "cell_type": "code",
   "execution_count": 45,
   "id": "273f581f",
   "metadata": {},
   "outputs": [
    {
     "data": {
      "text/plain": [
       "[<selenium.webdriver.remote.webelement.WebElement (session=\"72ebe60185c3c833c4a476d87a9e7368\", element=\"69518afa-dcdc-4409-a7aa-c9b290177eb1\")>,\n",
       " <selenium.webdriver.remote.webelement.WebElement (session=\"72ebe60185c3c833c4a476d87a9e7368\", element=\"ade56f79-a683-41cf-b090-850d0eca2c96\")>,\n",
       " <selenium.webdriver.remote.webelement.WebElement (session=\"72ebe60185c3c833c4a476d87a9e7368\", element=\"e76ffa41-3eb3-434c-922e-950d25542ee7\")>,\n",
       " <selenium.webdriver.remote.webelement.WebElement (session=\"72ebe60185c3c833c4a476d87a9e7368\", element=\"598171a7-a0cb-4b90-b7eb-71b0ebb33984\")>,\n",
       " <selenium.webdriver.remote.webelement.WebElement (session=\"72ebe60185c3c833c4a476d87a9e7368\", element=\"4cab2d62-f957-437a-8416-fb080a472d49\")>,\n",
       " <selenium.webdriver.remote.webelement.WebElement (session=\"72ebe60185c3c833c4a476d87a9e7368\", element=\"76bfecb1-31a3-4367-b7ca-17c9943b3e34\")>,\n",
       " <selenium.webdriver.remote.webelement.WebElement (session=\"72ebe60185c3c833c4a476d87a9e7368\", element=\"84dd273f-9079-499e-97f1-0153a8b0b42c\")>,\n",
       " <selenium.webdriver.remote.webelement.WebElement (session=\"72ebe60185c3c833c4a476d87a9e7368\", element=\"fb4a381f-403a-4ec8-9043-b6750b539d23\")>,\n",
       " <selenium.webdriver.remote.webelement.WebElement (session=\"72ebe60185c3c833c4a476d87a9e7368\", element=\"96517a18-ed1b-4de3-b978-a30436e9a374\")>,\n",
       " <selenium.webdriver.remote.webelement.WebElement (session=\"72ebe60185c3c833c4a476d87a9e7368\", element=\"36bdd863-d3dc-4380-b5aa-aeccbedb3de5\")>,\n",
       " <selenium.webdriver.remote.webelement.WebElement (session=\"72ebe60185c3c833c4a476d87a9e7368\", element=\"2d0024a6-ad05-4839-9097-71760f74d6dd\")>,\n",
       " <selenium.webdriver.remote.webelement.WebElement (session=\"72ebe60185c3c833c4a476d87a9e7368\", element=\"4e940f1b-8da9-406f-a94e-11fdf5203957\")>,\n",
       " <selenium.webdriver.remote.webelement.WebElement (session=\"72ebe60185c3c833c4a476d87a9e7368\", element=\"55f297e7-c189-409e-aad5-3a1b3c347ab4\")>,\n",
       " <selenium.webdriver.remote.webelement.WebElement (session=\"72ebe60185c3c833c4a476d87a9e7368\", element=\"69a184dd-c3f7-4d06-98e2-85d8436cf409\")>,\n",
       " <selenium.webdriver.remote.webelement.WebElement (session=\"72ebe60185c3c833c4a476d87a9e7368\", element=\"3da52af8-10db-4590-9073-b93ca86430f3\")>,\n",
       " <selenium.webdriver.remote.webelement.WebElement (session=\"72ebe60185c3c833c4a476d87a9e7368\", element=\"e9ce3283-65f1-4ba2-a1ed-a0fed69412d2\")>,\n",
       " <selenium.webdriver.remote.webelement.WebElement (session=\"72ebe60185c3c833c4a476d87a9e7368\", element=\"fc97eac3-0097-474b-89dc-0c745620ef99\")>,\n",
       " <selenium.webdriver.remote.webelement.WebElement (session=\"72ebe60185c3c833c4a476d87a9e7368\", element=\"70885126-3583-4f24-bbd3-9d3b392f3713\")>,\n",
       " <selenium.webdriver.remote.webelement.WebElement (session=\"72ebe60185c3c833c4a476d87a9e7368\", element=\"473d7255-ebef-4e63-9df9-a6bf021b5327\")>,\n",
       " <selenium.webdriver.remote.webelement.WebElement (session=\"72ebe60185c3c833c4a476d87a9e7368\", element=\"c20cc035-4412-4ee9-ae78-66942e587a59\")>]"
      ]
     },
     "execution_count": 45,
     "metadata": {},
     "output_type": "execute_result"
    }
   ],
   "source": [
    "job_exp=driver.find_elements_by_xpath('//li[@class=\"fleft grey-text br2 placeHolderLi experience\"]//span')\n",
    "job_exp"
   ]
  },
  {
   "cell_type": "code",
   "execution_count": 46,
   "id": "75572199",
   "metadata": {},
   "outputs": [
    {
     "data": {
      "text/plain": [
       "['5-10 Yrs',\n",
       " '5-10 Yrs',\n",
       " '4-8 Yrs',\n",
       " '4-9 Yrs',\n",
       " '3-8 Yrs',\n",
       " '3-5 Yrs',\n",
       " '0-3 Yrs',\n",
       " '8-12 Yrs',\n",
       " '2-7 Yrs',\n",
       " '3-5 Yrs',\n",
       " '1-4 Yrs',\n",
       " '3-8 Yrs',\n",
       " '0-2 Yrs',\n",
       " '2-6 Yrs',\n",
       " '6-11 Yrs',\n",
       " '4-8 Yrs',\n",
       " '4-7 Yrs',\n",
       " '3-4 Yrs',\n",
       " '2-6 Yrs',\n",
       " '1-3 Yrs']"
      ]
     },
     "execution_count": 46,
     "metadata": {},
     "output_type": "execute_result"
    }
   ],
   "source": [
    "job_experience=[]\n",
    "for i in job_exp:\n",
    "    job_experience.append(i.text)\n",
    "    \n",
    "job_experience"
   ]
  },
  {
   "cell_type": "code",
   "execution_count": 47,
   "id": "57ab5830",
   "metadata": {
    "scrolled": true
   },
   "outputs": [
    {
     "data": {
      "text/html": [
       "<div>\n",
       "<style scoped>\n",
       "    .dataframe tbody tr th:only-of-type {\n",
       "        vertical-align: middle;\n",
       "    }\n",
       "\n",
       "    .dataframe tbody tr th {\n",
       "        vertical-align: top;\n",
       "    }\n",
       "\n",
       "    .dataframe thead th {\n",
       "        text-align: right;\n",
       "    }\n",
       "</style>\n",
       "<table border=\"1\" class=\"dataframe\">\n",
       "  <thead>\n",
       "    <tr style=\"text-align: right;\">\n",
       "      <th></th>\n",
       "      <th>title</th>\n",
       "      <th>location</th>\n",
       "      <th>company</th>\n",
       "      <th>experience</th>\n",
       "    </tr>\n",
       "  </thead>\n",
       "  <tbody>\n",
       "    <tr>\n",
       "      <th>0</th>\n",
       "      <td>Business Data Analyst</td>\n",
       "      <td>Bangalore/Bengaluru</td>\n",
       "      <td>Trigent Software</td>\n",
       "      <td>5-10 Yrs</td>\n",
       "    </tr>\n",
       "    <tr>\n",
       "      <th>1</th>\n",
       "      <td>Business Data Analyst</td>\n",
       "      <td>Bangalore/Bengaluru</td>\n",
       "      <td>Trigent Software</td>\n",
       "      <td>5-10 Yrs</td>\n",
       "    </tr>\n",
       "    <tr>\n",
       "      <th>2</th>\n",
       "      <td>Senior Data Analyst IDAM Services</td>\n",
       "      <td>Bangalore/Bengaluru</td>\n",
       "      <td>GlaxoSmithKline Pharmaceuticals Limited</td>\n",
       "      <td>4-8 Yrs</td>\n",
       "    </tr>\n",
       "    <tr>\n",
       "      <th>3</th>\n",
       "      <td>Data Analyst/Sr.Data Engineer</td>\n",
       "      <td>Hyderabad/Secunderabad, Chennai, Bangalore/Ben...</td>\n",
       "      <td>SYREN TECHNOLOGIES PRIVATE LIMITED</td>\n",
       "      <td>4-9 Yrs</td>\n",
       "    </tr>\n",
       "    <tr>\n",
       "      <th>4</th>\n",
       "      <td>Business Data Analyst - Google Data Studio &amp; SQL</td>\n",
       "      <td>Bangalore/Bengaluru</td>\n",
       "      <td>AVE-Promagne</td>\n",
       "      <td>3-8 Yrs</td>\n",
       "    </tr>\n",
       "    <tr>\n",
       "      <th>5</th>\n",
       "      <td>Data Analyst - Python/SQL</td>\n",
       "      <td>Bangalore/Bengaluru</td>\n",
       "      <td>Affine</td>\n",
       "      <td>3-5 Yrs</td>\n",
       "    </tr>\n",
       "    <tr>\n",
       "      <th>6</th>\n",
       "      <td>Executive Data Analyst</td>\n",
       "      <td>Bangalore/Bengaluru</td>\n",
       "      <td>Gokaldas Exports Ltd</td>\n",
       "      <td>0-3 Yrs</td>\n",
       "    </tr>\n",
       "    <tr>\n",
       "      <th>7</th>\n",
       "      <td>Senior Data Analyst</td>\n",
       "      <td>Hyderabad/Secunderabad, Pune, Gurgaon/Gurugram...</td>\n",
       "      <td>Virtusa Consulting Services Pvt Ltd</td>\n",
       "      <td>8-12 Yrs</td>\n",
       "    </tr>\n",
       "    <tr>\n",
       "      <th>8</th>\n",
       "      <td>Systems and Data Analyst, Safety and Provisioning</td>\n",
       "      <td>Bangalore/Bengaluru</td>\n",
       "      <td>AECOM India Private Limited</td>\n",
       "      <td>2-7 Yrs</td>\n",
       "    </tr>\n",
       "    <tr>\n",
       "      <th>9</th>\n",
       "      <td>Data Analyst with SQL</td>\n",
       "      <td>Noida, Gurgaon/Gurugram, Bangalore/Bengaluru</td>\n",
       "      <td>Wipro Limited</td>\n",
       "      <td>3-5 Yrs</td>\n",
       "    </tr>\n",
       "  </tbody>\n",
       "</table>\n",
       "</div>"
      ],
      "text/plain": [
       "                                               title  \\\n",
       "0                              Business Data Analyst   \n",
       "1                              Business Data Analyst   \n",
       "2                  Senior Data Analyst IDAM Services   \n",
       "3                      Data Analyst/Sr.Data Engineer   \n",
       "4   Business Data Analyst - Google Data Studio & SQL   \n",
       "5                          Data Analyst - Python/SQL   \n",
       "6                             Executive Data Analyst   \n",
       "7                                Senior Data Analyst   \n",
       "8  Systems and Data Analyst, Safety and Provisioning   \n",
       "9                              Data Analyst with SQL   \n",
       "\n",
       "                                            location  \\\n",
       "0                                Bangalore/Bengaluru   \n",
       "1                                Bangalore/Bengaluru   \n",
       "2                                Bangalore/Bengaluru   \n",
       "3  Hyderabad/Secunderabad, Chennai, Bangalore/Ben...   \n",
       "4                                Bangalore/Bengaluru   \n",
       "5                                Bangalore/Bengaluru   \n",
       "6                                Bangalore/Bengaluru   \n",
       "7  Hyderabad/Secunderabad, Pune, Gurgaon/Gurugram...   \n",
       "8                                Bangalore/Bengaluru   \n",
       "9       Noida, Gurgaon/Gurugram, Bangalore/Bengaluru   \n",
       "\n",
       "                                   company experience  \n",
       "0                         Trigent Software   5-10 Yrs  \n",
       "1                         Trigent Software   5-10 Yrs  \n",
       "2  GlaxoSmithKline Pharmaceuticals Limited    4-8 Yrs  \n",
       "3       SYREN TECHNOLOGIES PRIVATE LIMITED    4-9 Yrs  \n",
       "4                             AVE-Promagne    3-8 Yrs  \n",
       "5                                   Affine    3-5 Yrs  \n",
       "6                     Gokaldas Exports Ltd    0-3 Yrs  \n",
       "7      Virtusa Consulting Services Pvt Ltd   8-12 Yrs  \n",
       "8              AECOM India Private Limited    2-7 Yrs  \n",
       "9                            Wipro Limited    3-5 Yrs  "
      ]
     },
     "execution_count": 47,
     "metadata": {},
     "output_type": "execute_result"
    }
   ],
   "source": [
    "#structured format - dataframe\n",
    "\n",
    "job_desc=pd.DataFrame({})\n",
    "job_desc['title']=job_titles[:10]\n",
    "job_desc['location']=job_location[:10]\n",
    "job_desc['company']=job_company[:10][:10]\n",
    "job_desc['experience']=job_experience[:10]\n",
    "\n",
    "job_desc"
   ]
  },
  {
   "cell_type": "markdown",
   "id": "88d4f9f5",
   "metadata": {},
   "source": [
    "Q2: Write a python program to scrape data for “Data Scientist” Job position in \n",
    "“Bangalore” location. You have to scrape the job-title, job-location,\n",
    "company_name, full job-description. You have to scrape first 10 jobs data.\n",
    "This task will be done in following steps:\n",
    "1. first get the webpage https://www.naukri.com/\n",
    "2. Enter “Data Scientist” in “Skill,Designations,Companies” field and enter \n",
    "“Bangalore” in “enter the location” field.\n",
    "3. Then click the search button.\n",
    "4. Then scrape the data for the first 10 jobs results you get.\n",
    "5. Finally create a dataframe of the scraped data."
   ]
  },
  {
   "cell_type": "code",
   "execution_count": 48,
   "id": "f81a62b0",
   "metadata": {},
   "outputs": [],
   "source": [
    "url='https://www.naukri.com/'\n",
    "driver.get(url)"
   ]
  },
  {
   "cell_type": "code",
   "execution_count": 49,
   "id": "4ce897bd",
   "metadata": {},
   "outputs": [
    {
     "data": {
      "text/plain": [
       "<selenium.webdriver.remote.webelement.WebElement (session=\"72ebe60185c3c833c4a476d87a9e7368\", element=\"f82db5b6-7223-44e4-acaa-2da801a3eb8f\")>"
      ]
     },
     "execution_count": 49,
     "metadata": {},
     "output_type": "execute_result"
    }
   ],
   "source": [
    "search_job=driver.find_element_by_xpath('//input[@class=\"sugInp\"]')\n",
    "search_job"
   ]
  },
  {
   "cell_type": "code",
   "execution_count": 50,
   "id": "172825eb",
   "metadata": {},
   "outputs": [],
   "source": [
    "search_job.send_keys(\"Data Scientist\")"
   ]
  },
  {
   "cell_type": "code",
   "execution_count": 51,
   "id": "31b12bab",
   "metadata": {},
   "outputs": [
    {
     "data": {
      "text/plain": [
       "<selenium.webdriver.remote.webelement.WebElement (session=\"72ebe60185c3c833c4a476d87a9e7368\", element=\"0bb2ba95-6ced-42d8-8b6a-5751db44124e\")>"
      ]
     },
     "execution_count": 51,
     "metadata": {},
     "output_type": "execute_result"
    }
   ],
   "source": [
    "search_loc=driver.find_element_by_id(\"qsb-location-sugg\")\n",
    "search_loc"
   ]
  },
  {
   "cell_type": "code",
   "execution_count": 52,
   "id": "90ec7d56",
   "metadata": {},
   "outputs": [],
   "source": [
    "search_loc.send_keys(\"Bangalore\")"
   ]
  },
  {
   "cell_type": "code",
   "execution_count": 53,
   "id": "c0c9380b",
   "metadata": {},
   "outputs": [
    {
     "data": {
      "text/plain": [
       "<selenium.webdriver.remote.webelement.WebElement (session=\"72ebe60185c3c833c4a476d87a9e7368\", element=\"3c42370c-a646-44d5-8973-db24f85e93cb\")>"
      ]
     },
     "execution_count": 53,
     "metadata": {},
     "output_type": "execute_result"
    }
   ],
   "source": [
    "search_btn=driver.find_element_by_xpath('//button[@class=\"btn\"]')\n",
    "search_btn"
   ]
  },
  {
   "cell_type": "code",
   "execution_count": 54,
   "id": "fdfe5e20",
   "metadata": {},
   "outputs": [],
   "source": [
    "search_btn.click()"
   ]
  },
  {
   "cell_type": "code",
   "execution_count": 55,
   "id": "3f916963",
   "metadata": {},
   "outputs": [
    {
     "data": {
      "text/plain": [
       "[<selenium.webdriver.remote.webelement.WebElement (session=\"72ebe60185c3c833c4a476d87a9e7368\", element=\"0c42586e-9e51-4f34-8da0-a61a13d53e61\")>,\n",
       " <selenium.webdriver.remote.webelement.WebElement (session=\"72ebe60185c3c833c4a476d87a9e7368\", element=\"1b678100-80cf-4c21-8412-a6b13ff65785\")>,\n",
       " <selenium.webdriver.remote.webelement.WebElement (session=\"72ebe60185c3c833c4a476d87a9e7368\", element=\"ef8dd830-d47c-4a6a-a320-91b3700544ea\")>,\n",
       " <selenium.webdriver.remote.webelement.WebElement (session=\"72ebe60185c3c833c4a476d87a9e7368\", element=\"3843bb29-dda9-4d9c-b2df-73aacc7fb0c8\")>,\n",
       " <selenium.webdriver.remote.webelement.WebElement (session=\"72ebe60185c3c833c4a476d87a9e7368\", element=\"567d8701-dff0-4fcf-b4e8-39875af901b0\")>,\n",
       " <selenium.webdriver.remote.webelement.WebElement (session=\"72ebe60185c3c833c4a476d87a9e7368\", element=\"82521ee7-3720-4770-a507-b494aba0f3a8\")>,\n",
       " <selenium.webdriver.remote.webelement.WebElement (session=\"72ebe60185c3c833c4a476d87a9e7368\", element=\"1123519f-fba2-4cec-acf2-06286ded65e1\")>,\n",
       " <selenium.webdriver.remote.webelement.WebElement (session=\"72ebe60185c3c833c4a476d87a9e7368\", element=\"d567e598-8b65-49ee-b2db-64244e6c4421\")>,\n",
       " <selenium.webdriver.remote.webelement.WebElement (session=\"72ebe60185c3c833c4a476d87a9e7368\", element=\"a66d54bc-51b6-4a9d-a859-c69cd2453cdc\")>,\n",
       " <selenium.webdriver.remote.webelement.WebElement (session=\"72ebe60185c3c833c4a476d87a9e7368\", element=\"2a1528ab-ea65-4e91-82d0-a6b7b4bfbdc2\")>,\n",
       " <selenium.webdriver.remote.webelement.WebElement (session=\"72ebe60185c3c833c4a476d87a9e7368\", element=\"18515153-d819-49fd-bbb4-3f197b4588be\")>,\n",
       " <selenium.webdriver.remote.webelement.WebElement (session=\"72ebe60185c3c833c4a476d87a9e7368\", element=\"3801c872-2937-4b16-9125-9c83fa01eb03\")>,\n",
       " <selenium.webdriver.remote.webelement.WebElement (session=\"72ebe60185c3c833c4a476d87a9e7368\", element=\"f6567629-2c34-4c2d-8339-015b6711cd80\")>,\n",
       " <selenium.webdriver.remote.webelement.WebElement (session=\"72ebe60185c3c833c4a476d87a9e7368\", element=\"2bbb2e0a-30a4-4666-a96c-7c06bbe5ad9b\")>,\n",
       " <selenium.webdriver.remote.webelement.WebElement (session=\"72ebe60185c3c833c4a476d87a9e7368\", element=\"0c99e595-d922-401f-b1d2-795c22e8f8c9\")>,\n",
       " <selenium.webdriver.remote.webelement.WebElement (session=\"72ebe60185c3c833c4a476d87a9e7368\", element=\"84dcf9cd-e15b-4e16-8579-7527469c0fda\")>,\n",
       " <selenium.webdriver.remote.webelement.WebElement (session=\"72ebe60185c3c833c4a476d87a9e7368\", element=\"e20b0e7c-5edb-49f6-a4be-92c9122f8858\")>,\n",
       " <selenium.webdriver.remote.webelement.WebElement (session=\"72ebe60185c3c833c4a476d87a9e7368\", element=\"332ff52c-0b0e-438e-b590-170de21aeebb\")>,\n",
       " <selenium.webdriver.remote.webelement.WebElement (session=\"72ebe60185c3c833c4a476d87a9e7368\", element=\"90e460cb-ef9e-43bc-a550-462d2ab9d2af\")>,\n",
       " <selenium.webdriver.remote.webelement.WebElement (session=\"72ebe60185c3c833c4a476d87a9e7368\", element=\"b03f8752-34fa-47ed-adec-8068711333e1\")>]"
      ]
     },
     "execution_count": 55,
     "metadata": {},
     "output_type": "execute_result"
    }
   ],
   "source": [
    "job_title=driver.find_elements_by_xpath('//a[@class=\"title fw500 ellipsis\"]')\n",
    "job_title"
   ]
  },
  {
   "cell_type": "code",
   "execution_count": 56,
   "id": "4dddcabc",
   "metadata": {
    "scrolled": false
   },
   "outputs": [
    {
     "data": {
      "text/plain": [
       "['Lead Data Scientist BFSI',\n",
       " 'Data Scientist: Advanced Analytics',\n",
       " 'Senior Data Scientist',\n",
       " 'SENIOR DATA SCIENTIST',\n",
       " 'Requirement For Data Scientist - Mumbai & Bangalore',\n",
       " 'Hiring For Data Scientist / Statistical Analyst',\n",
       " 'Associate Data Scientist',\n",
       " 'Data Scientist',\n",
       " 'Data Scientist',\n",
       " 'Data Scientist',\n",
       " 'Data Scientist',\n",
       " 'Data Scientist',\n",
       " 'Cognitive Data Scientist',\n",
       " 'Senior Data Scientist, Payments compliance',\n",
       " 'Senior Data Scientist',\n",
       " 'Sr Data Scientist',\n",
       " 'Sr Data Scientist',\n",
       " 'Senior Data Scientist',\n",
       " 'Data Scientist (Python & SQL)',\n",
       " 'Lead Data Scientist BFSI']"
      ]
     },
     "execution_count": 56,
     "metadata": {},
     "output_type": "execute_result"
    }
   ],
   "source": [
    "job_titles=[]\n",
    "for i in job_title:\n",
    "    job_titles.append(i.text)\n",
    "    \n",
    "job_titles"
   ]
  },
  {
   "cell_type": "code",
   "execution_count": 98,
   "id": "cacf8a43",
   "metadata": {},
   "outputs": [
    {
     "data": {
      "text/plain": [
       "['Lead Data Scientist BFSI',\n",
       " 'Data Scientist: Advanced Analytics',\n",
       " 'Senior Data Scientist',\n",
       " 'SENIOR DATA SCIENTIST',\n",
       " 'Requirement For Data Scientist - Mumbai & Bangalore',\n",
       " 'Hiring For Data Scientist / Statistical Analyst',\n",
       " 'Associate Data Scientist',\n",
       " 'Data Scientist',\n",
       " 'Data Scientist',\n",
       " 'Data Scientist']"
      ]
     },
     "execution_count": 98,
     "metadata": {},
     "output_type": "execute_result"
    }
   ],
   "source": [
    "job_titles[:10]"
   ]
  },
  {
   "cell_type": "code",
   "execution_count": 100,
   "id": "67778090",
   "metadata": {},
   "outputs": [
    {
     "data": {
      "text/plain": [
       "20"
      ]
     },
     "execution_count": 100,
     "metadata": {},
     "output_type": "execute_result"
    }
   ],
   "source": [
    "len(job_titles)"
   ]
  },
  {
   "cell_type": "code",
   "execution_count": 58,
   "id": "15eda0d6",
   "metadata": {},
   "outputs": [
    {
     "data": {
      "text/plain": [
       "[<selenium.webdriver.remote.webelement.WebElement (session=\"72ebe60185c3c833c4a476d87a9e7368\", element=\"46819f46-f93e-4745-82ce-c41ece369d71\")>,\n",
       " <selenium.webdriver.remote.webelement.WebElement (session=\"72ebe60185c3c833c4a476d87a9e7368\", element=\"bc87b914-4910-4dbb-b55b-52c26ff8a9f3\")>,\n",
       " <selenium.webdriver.remote.webelement.WebElement (session=\"72ebe60185c3c833c4a476d87a9e7368\", element=\"9d744d97-6428-41fd-b7b4-5c4ca96a6290\")>,\n",
       " <selenium.webdriver.remote.webelement.WebElement (session=\"72ebe60185c3c833c4a476d87a9e7368\", element=\"898ef4dc-cf6c-4747-9e1b-10ca2cfd763c\")>,\n",
       " <selenium.webdriver.remote.webelement.WebElement (session=\"72ebe60185c3c833c4a476d87a9e7368\", element=\"256513da-35b5-41ad-84b2-54eed1ccb578\")>,\n",
       " <selenium.webdriver.remote.webelement.WebElement (session=\"72ebe60185c3c833c4a476d87a9e7368\", element=\"c1dbba78-fa5b-4429-96ab-7870ffd94cff\")>,\n",
       " <selenium.webdriver.remote.webelement.WebElement (session=\"72ebe60185c3c833c4a476d87a9e7368\", element=\"ec205b18-c187-4679-b577-e2d2a3b51e96\")>,\n",
       " <selenium.webdriver.remote.webelement.WebElement (session=\"72ebe60185c3c833c4a476d87a9e7368\", element=\"b99ee763-39d3-4a57-b615-4c5c9fb2fa8c\")>,\n",
       " <selenium.webdriver.remote.webelement.WebElement (session=\"72ebe60185c3c833c4a476d87a9e7368\", element=\"01ff393d-1df1-485d-8aae-e6e04df579dc\")>,\n",
       " <selenium.webdriver.remote.webelement.WebElement (session=\"72ebe60185c3c833c4a476d87a9e7368\", element=\"fa28848f-2044-4cee-b945-eb06fa48467d\")>,\n",
       " <selenium.webdriver.remote.webelement.WebElement (session=\"72ebe60185c3c833c4a476d87a9e7368\", element=\"e7ed9a7e-11b1-4ff3-afe0-cab713a88cd5\")>,\n",
       " <selenium.webdriver.remote.webelement.WebElement (session=\"72ebe60185c3c833c4a476d87a9e7368\", element=\"703ef70e-8994-47af-82de-f5f5f86ab1b8\")>,\n",
       " <selenium.webdriver.remote.webelement.WebElement (session=\"72ebe60185c3c833c4a476d87a9e7368\", element=\"07b7273e-57e1-4d9b-9e07-32787822d478\")>,\n",
       " <selenium.webdriver.remote.webelement.WebElement (session=\"72ebe60185c3c833c4a476d87a9e7368\", element=\"fb22de2a-3a6a-4ad7-8424-025dc1a1f2d6\")>,\n",
       " <selenium.webdriver.remote.webelement.WebElement (session=\"72ebe60185c3c833c4a476d87a9e7368\", element=\"1c5072bf-f24a-46ff-8a30-41ffa6b5f4fb\")>,\n",
       " <selenium.webdriver.remote.webelement.WebElement (session=\"72ebe60185c3c833c4a476d87a9e7368\", element=\"ce70f49b-5255-4c16-ac9b-8e0d6fef4bee\")>,\n",
       " <selenium.webdriver.remote.webelement.WebElement (session=\"72ebe60185c3c833c4a476d87a9e7368\", element=\"cb7c88b5-dc3d-44a0-9e14-42584426e308\")>,\n",
       " <selenium.webdriver.remote.webelement.WebElement (session=\"72ebe60185c3c833c4a476d87a9e7368\", element=\"9e3969b5-864b-4d7d-8609-6cf9b58df889\")>,\n",
       " <selenium.webdriver.remote.webelement.WebElement (session=\"72ebe60185c3c833c4a476d87a9e7368\", element=\"079c33f3-c78e-45fd-abc6-b66cd744aae1\")>,\n",
       " <selenium.webdriver.remote.webelement.WebElement (session=\"72ebe60185c3c833c4a476d87a9e7368\", element=\"72b3d698-7476-40d5-a32f-41b6e2a2263e\")>]"
      ]
     },
     "execution_count": 58,
     "metadata": {},
     "output_type": "execute_result"
    }
   ],
   "source": [
    "job_comp=driver.find_elements_by_xpath('//a[@class=\"subTitle ellipsis fleft\"]')\n",
    "job_comp"
   ]
  },
  {
   "cell_type": "code",
   "execution_count": 59,
   "id": "61981aa7",
   "metadata": {
    "scrolled": true
   },
   "outputs": [
    {
     "data": {
      "text/plain": [
       "['IBM India Pvt. Limited',\n",
       " 'IBM India Pvt. Limited',\n",
       " 'Airbnb',\n",
       " 'Happiest Minds Technologies Pvt.Ltd',\n",
       " 'CRISIL LIMITED',\n",
       " 'ManpowerGroup Services India Private Limited',\n",
       " 'Philips India Limited',\n",
       " 'NeenOpal Intelligent Solutions Private Limited',\n",
       " 'PRESCIENCE DECISION SOLUTIONS PRIVATE LIMITED',\n",
       " 'ELPIS IT SOLUTIONS PVT LTD',\n",
       " 'ELPIS IT SOLUTIONS PVT LTD',\n",
       " 'Oracle India Pvt. Ltd.',\n",
       " 'IBM India Pvt. Limited',\n",
       " 'AIRBNB GLOBAL CAPABILITY CENTER PRIVATE LIMITED',\n",
       " 'ANT work',\n",
       " 'IBM India Pvt. Limited',\n",
       " 'IBM India Pvt. Limited',\n",
       " 'Philips India Limited',\n",
       " 'AVE-Promagne',\n",
       " 'IBM India Pvt. Limited']"
      ]
     },
     "execution_count": 59,
     "metadata": {},
     "output_type": "execute_result"
    }
   ],
   "source": [
    "job_company=[]\n",
    "for i in job_comp:\n",
    "    job_company.append(i.text)\n",
    "    \n",
    "job_company"
   ]
  },
  {
   "cell_type": "code",
   "execution_count": 97,
   "id": "853d7417",
   "metadata": {},
   "outputs": [
    {
     "data": {
      "text/plain": [
       "['IBM India Pvt. Limited',\n",
       " 'IBM India Pvt. Limited',\n",
       " 'Airbnb',\n",
       " 'Happiest Minds Technologies Pvt.Ltd',\n",
       " 'CRISIL LIMITED',\n",
       " 'ManpowerGroup Services India Private Limited',\n",
       " 'Philips India Limited',\n",
       " 'NeenOpal Intelligent Solutions Private Limited',\n",
       " 'PRESCIENCE DECISION SOLUTIONS PRIVATE LIMITED',\n",
       " 'ELPIS IT SOLUTIONS PVT LTD']"
      ]
     },
     "execution_count": 97,
     "metadata": {},
     "output_type": "execute_result"
    }
   ],
   "source": [
    "job_company[:10]"
   ]
  },
  {
   "cell_type": "code",
   "execution_count": 60,
   "id": "ee1705c5",
   "metadata": {},
   "outputs": [
    {
     "data": {
      "text/plain": [
       "20"
      ]
     },
     "execution_count": 60,
     "metadata": {},
     "output_type": "execute_result"
    }
   ],
   "source": [
    "len(job_company)"
   ]
  },
  {
   "cell_type": "code",
   "execution_count": 61,
   "id": "551a31db",
   "metadata": {},
   "outputs": [
    {
     "data": {
      "text/plain": [
       "[<selenium.webdriver.remote.webelement.WebElement (session=\"72ebe60185c3c833c4a476d87a9e7368\", element=\"a2b67689-2c8c-46a2-9561-8c0eefbc5ef6\")>,\n",
       " <selenium.webdriver.remote.webelement.WebElement (session=\"72ebe60185c3c833c4a476d87a9e7368\", element=\"f7daf336-f42a-4c24-8e7b-a604a5a791ae\")>,\n",
       " <selenium.webdriver.remote.webelement.WebElement (session=\"72ebe60185c3c833c4a476d87a9e7368\", element=\"c96579d4-588d-4f18-aba9-a4b0383108ed\")>,\n",
       " <selenium.webdriver.remote.webelement.WebElement (session=\"72ebe60185c3c833c4a476d87a9e7368\", element=\"23da3402-74e1-432a-ad85-91833f23d374\")>,\n",
       " <selenium.webdriver.remote.webelement.WebElement (session=\"72ebe60185c3c833c4a476d87a9e7368\", element=\"b997d5d1-e90b-415c-a994-862b96685b28\")>,\n",
       " <selenium.webdriver.remote.webelement.WebElement (session=\"72ebe60185c3c833c4a476d87a9e7368\", element=\"b2de8ebb-a335-48b0-8563-c3936e6b41c7\")>,\n",
       " <selenium.webdriver.remote.webelement.WebElement (session=\"72ebe60185c3c833c4a476d87a9e7368\", element=\"22f07483-591f-41c4-adde-f9ebf9250fca\")>,\n",
       " <selenium.webdriver.remote.webelement.WebElement (session=\"72ebe60185c3c833c4a476d87a9e7368\", element=\"8a9e8cd5-16cb-45ef-8c92-969796d14b96\")>,\n",
       " <selenium.webdriver.remote.webelement.WebElement (session=\"72ebe60185c3c833c4a476d87a9e7368\", element=\"baf2a4e5-ad35-46f9-b10d-da98495a16a2\")>,\n",
       " <selenium.webdriver.remote.webelement.WebElement (session=\"72ebe60185c3c833c4a476d87a9e7368\", element=\"d43f600d-34e8-4cc8-a88c-171d613d3caf\")>,\n",
       " <selenium.webdriver.remote.webelement.WebElement (session=\"72ebe60185c3c833c4a476d87a9e7368\", element=\"3a3e8e7f-d558-4ff5-8927-da5ef7424c8a\")>,\n",
       " <selenium.webdriver.remote.webelement.WebElement (session=\"72ebe60185c3c833c4a476d87a9e7368\", element=\"f6fdfdd2-6ed7-4b15-933e-b59094fc2ec5\")>,\n",
       " <selenium.webdriver.remote.webelement.WebElement (session=\"72ebe60185c3c833c4a476d87a9e7368\", element=\"06d5d775-a814-42b5-9a4c-6fde33e57c65\")>,\n",
       " <selenium.webdriver.remote.webelement.WebElement (session=\"72ebe60185c3c833c4a476d87a9e7368\", element=\"011d8360-9eed-441e-ae6b-bd03b2a2059a\")>,\n",
       " <selenium.webdriver.remote.webelement.WebElement (session=\"72ebe60185c3c833c4a476d87a9e7368\", element=\"58f17f5d-c70c-4dd9-af13-3dd1e970a9d7\")>,\n",
       " <selenium.webdriver.remote.webelement.WebElement (session=\"72ebe60185c3c833c4a476d87a9e7368\", element=\"9296c235-6eb8-49cd-a380-e2e8ee6deb87\")>,\n",
       " <selenium.webdriver.remote.webelement.WebElement (session=\"72ebe60185c3c833c4a476d87a9e7368\", element=\"6a982f84-e050-420a-8c34-2414c304dea3\")>,\n",
       " <selenium.webdriver.remote.webelement.WebElement (session=\"72ebe60185c3c833c4a476d87a9e7368\", element=\"8ba4e26d-e43f-45c8-a4a4-0e2cbc3692d8\")>,\n",
       " <selenium.webdriver.remote.webelement.WebElement (session=\"72ebe60185c3c833c4a476d87a9e7368\", element=\"6bed1d3f-6522-4cb6-996b-99e2f30fcd68\")>,\n",
       " <selenium.webdriver.remote.webelement.WebElement (session=\"72ebe60185c3c833c4a476d87a9e7368\", element=\"d15b08e4-3f98-4d77-99b1-84aa6b251c7f\")>]"
      ]
     },
     "execution_count": 61,
     "metadata": {},
     "output_type": "execute_result"
    }
   ],
   "source": [
    "job_loc=driver.find_elements_by_xpath('//li[@class=\"fleft grey-text br2 placeHolderLi location\"]//span[1]')\n",
    "job_loc"
   ]
  },
  {
   "cell_type": "code",
   "execution_count": 62,
   "id": "fc98997c",
   "metadata": {
    "scrolled": true
   },
   "outputs": [
    {
     "data": {
      "text/plain": [
       "['Bengaluru/Bangalore',\n",
       " 'Bengaluru/Bangalore',\n",
       " 'Bangalore/Bengaluru',\n",
       " 'Bangalore/Bengaluru',\n",
       " 'Bangalore/Bengaluru, Mumbai (All Areas)',\n",
       " 'Bangalore/Bengaluru',\n",
       " 'Bangalore/Bengaluru',\n",
       " 'Bangalore/Bengaluru',\n",
       " 'Bangalore/Bengaluru',\n",
       " 'Bangalore/Bengaluru',\n",
       " 'Bangalore/Bengaluru',\n",
       " 'Noida, Bangalore/Bengaluru',\n",
       " 'Bengaluru/Bangalore',\n",
       " 'Bangalore/Bengaluru',\n",
       " 'Bangalore/Bengaluru',\n",
       " 'Bengaluru/Bangalore',\n",
       " 'Bangalore/Bengaluru',\n",
       " 'Bangalore/Bengaluru',\n",
       " 'Hyderabad/Secunderabad, Chennai, Bangalore/Bengaluru',\n",
       " 'Bengaluru/Bangalore']"
      ]
     },
     "execution_count": 62,
     "metadata": {},
     "output_type": "execute_result"
    }
   ],
   "source": [
    "job_location=[]\n",
    "for i in job_loc:\n",
    "    job_location.append(i.text)\n",
    "    \n",
    "job_location"
   ]
  },
  {
   "cell_type": "code",
   "execution_count": 96,
   "id": "569d1e45",
   "metadata": {},
   "outputs": [
    {
     "data": {
      "text/plain": [
       "['Bengaluru/Bangalore',\n",
       " 'Bengaluru/Bangalore',\n",
       " 'Bangalore/Bengaluru',\n",
       " 'Bangalore/Bengaluru',\n",
       " 'Bangalore/Bengaluru, Mumbai (All Areas)',\n",
       " 'Bangalore/Bengaluru',\n",
       " 'Bangalore/Bengaluru',\n",
       " 'Bangalore/Bengaluru',\n",
       " 'Bangalore/Bengaluru',\n",
       " 'Bangalore/Bengaluru']"
      ]
     },
     "execution_count": 96,
     "metadata": {},
     "output_type": "execute_result"
    }
   ],
   "source": [
    "job_location[:10]"
   ]
  },
  {
   "cell_type": "code",
   "execution_count": 63,
   "id": "ef749566",
   "metadata": {},
   "outputs": [
    {
     "data": {
      "text/plain": [
       "20"
      ]
     },
     "execution_count": 63,
     "metadata": {},
     "output_type": "execute_result"
    }
   ],
   "source": [
    "len(job_location)"
   ]
  },
  {
   "cell_type": "code",
   "execution_count": 64,
   "id": "509d97d5",
   "metadata": {},
   "outputs": [
    {
     "data": {
      "text/plain": [
       "[<selenium.webdriver.remote.webelement.WebElement (session=\"72ebe60185c3c833c4a476d87a9e7368\", element=\"4c60a7c9-621d-4147-84fd-2d5de1a85af3\")>,\n",
       " <selenium.webdriver.remote.webelement.WebElement (session=\"72ebe60185c3c833c4a476d87a9e7368\", element=\"afff8406-6750-48d8-bc10-d9fcfcc59f24\")>,\n",
       " <selenium.webdriver.remote.webelement.WebElement (session=\"72ebe60185c3c833c4a476d87a9e7368\", element=\"a69d2704-4185-43b5-8d7f-f1273163b2ff\")>,\n",
       " <selenium.webdriver.remote.webelement.WebElement (session=\"72ebe60185c3c833c4a476d87a9e7368\", element=\"89a6b57f-e58b-4f8d-9649-6c693d76f98d\")>,\n",
       " <selenium.webdriver.remote.webelement.WebElement (session=\"72ebe60185c3c833c4a476d87a9e7368\", element=\"a8da482f-60d5-42bf-aad6-b23e8a964b1c\")>,\n",
       " <selenium.webdriver.remote.webelement.WebElement (session=\"72ebe60185c3c833c4a476d87a9e7368\", element=\"d990d576-f9d1-416e-b361-fd892475fc47\")>,\n",
       " <selenium.webdriver.remote.webelement.WebElement (session=\"72ebe60185c3c833c4a476d87a9e7368\", element=\"b013a557-63a7-4f7d-be47-f57683d23e9f\")>,\n",
       " <selenium.webdriver.remote.webelement.WebElement (session=\"72ebe60185c3c833c4a476d87a9e7368\", element=\"011aac7a-8bbc-4eef-9270-6f883fc19553\")>,\n",
       " <selenium.webdriver.remote.webelement.WebElement (session=\"72ebe60185c3c833c4a476d87a9e7368\", element=\"1e00a2c0-ce2a-4b42-9c6c-56e9094110c0\")>,\n",
       " <selenium.webdriver.remote.webelement.WebElement (session=\"72ebe60185c3c833c4a476d87a9e7368\", element=\"6c0dd58d-b63c-47db-be52-61263f7bece8\")>,\n",
       " <selenium.webdriver.remote.webelement.WebElement (session=\"72ebe60185c3c833c4a476d87a9e7368\", element=\"0aa58066-cdb9-4c8b-b5e3-9bcf6f8bb038\")>,\n",
       " <selenium.webdriver.remote.webelement.WebElement (session=\"72ebe60185c3c833c4a476d87a9e7368\", element=\"2013cf4e-1129-4ed6-9500-6ca666f00710\")>,\n",
       " <selenium.webdriver.remote.webelement.WebElement (session=\"72ebe60185c3c833c4a476d87a9e7368\", element=\"24b0df84-b502-4375-b7f0-59649c705020\")>,\n",
       " <selenium.webdriver.remote.webelement.WebElement (session=\"72ebe60185c3c833c4a476d87a9e7368\", element=\"2bc9cc63-ad9c-4b65-a7b3-79d06abb6c42\")>,\n",
       " <selenium.webdriver.remote.webelement.WebElement (session=\"72ebe60185c3c833c4a476d87a9e7368\", element=\"68e3e9fb-a5a5-4b50-96af-c3694a4f4bf7\")>,\n",
       " <selenium.webdriver.remote.webelement.WebElement (session=\"72ebe60185c3c833c4a476d87a9e7368\", element=\"88f0318b-80c5-41f1-a065-890c9422d0cc\")>,\n",
       " <selenium.webdriver.remote.webelement.WebElement (session=\"72ebe60185c3c833c4a476d87a9e7368\", element=\"2a2a6c72-c4e1-4d46-8c73-ea9c204f15c4\")>,\n",
       " <selenium.webdriver.remote.webelement.WebElement (session=\"72ebe60185c3c833c4a476d87a9e7368\", element=\"6b3c6505-c457-47c3-bdc4-b831ccccff6c\")>,\n",
       " <selenium.webdriver.remote.webelement.WebElement (session=\"72ebe60185c3c833c4a476d87a9e7368\", element=\"b96b17c9-b4b5-41de-8382-b04a6d32a933\")>,\n",
       " <selenium.webdriver.remote.webelement.WebElement (session=\"72ebe60185c3c833c4a476d87a9e7368\", element=\"91d5ccd9-8207-4214-9d8e-4b9365cf169d\")>]"
      ]
     },
     "execution_count": 64,
     "metadata": {},
     "output_type": "execute_result"
    }
   ],
   "source": [
    "job_des=driver.find_elements_by_xpath('//div[@class=\"job-description fs12 grey-text\"]')\n",
    "job_des"
   ]
  },
  {
   "cell_type": "code",
   "execution_count": 65,
   "id": "8e15d0c3",
   "metadata": {},
   "outputs": [
    {
     "data": {
      "text/plain": [
       "['IntroductionSoftware Developers at IBM are the backbone of our strategic initiatives to...',\n",
       " 'PhD / Masters in STEM-related fields with knowledge in Quantum ComputingRequired Techni...',\n",
       " 'Professional industry experience in a quantitative analysis role (7+ years preferred) C...',\n",
       " 'Should possess extensive knowledge of and experience in applying data mining and machin...',\n",
       " 'CRISIL (formerly Credit Rating Information Services of India Limited) is an Indian anal...',\n",
       " 'At least 2 years of experience implementing Machine learning algorithms such as Random ...',\n",
       " 'Use predictive modeling to increase and optimize customer experiences, revenue generati...',\n",
       " 'Should have strong mathematical background & analytical bent of mind We are looking ONL...',\n",
       " 'Hi, We at Prescience www.prescienceds.com looking for Data Scientist @ Bangalore .Roles...',\n",
       " 'Job Skills Required: Expert data science skills using supervised and unsupervised learn...',\n",
       " 'Job Skills Required: Expert data science skills using supervised and unsupervised learn...',\n",
       " 'Experience in delivering data science solutions in multiple tenancies is a plus Have a ...',\n",
       " 'IntroductionAs a Data Scientist at IBM, you will help transform our clients data into t...',\n",
       " '4+ years industry experience in a quantitative analysis roleExperience in Payments a st...',\n",
       " 'The ideal candidate should possess programming experience in Python / R (C++ will be a ...',\n",
       " 'Demonstrated extensive experience in building and deploying production quality models i...',\n",
       " 'Demonstrated extensive experience in building and deploying production quality models i...',\n",
       " 'A Master s Degree or PhD in Computer Science, Econometrics, Artificial Intelligence, Ap...',\n",
       " 'Required Technical and Professional Expertise• 6+ years of industry work experience in ...',\n",
       " 'IntroductionSoftware Developers at IBM are the backbone of our strategic initiatives to...']"
      ]
     },
     "execution_count": 65,
     "metadata": {},
     "output_type": "execute_result"
    }
   ],
   "source": [
    "job_desc=[]\n",
    "for i in job_des:\n",
    "    job_desc.append(i.text)\n",
    "    \n",
    "job_desc"
   ]
  },
  {
   "cell_type": "code",
   "execution_count": 95,
   "id": "5ac2a1be",
   "metadata": {},
   "outputs": [
    {
     "data": {
      "text/plain": [
       "['IntroductionSoftware Developers at IBM are the backbone of our strategic initiatives to...',\n",
       " 'PhD / Masters in STEM-related fields with knowledge in Quantum ComputingRequired Techni...',\n",
       " 'Professional industry experience in a quantitative analysis role (7+ years preferred) C...',\n",
       " 'Should possess extensive knowledge of and experience in applying data mining and machin...',\n",
       " 'CRISIL (formerly Credit Rating Information Services of India Limited) is an Indian anal...',\n",
       " 'At least 2 years of experience implementing Machine learning algorithms such as Random ...',\n",
       " 'Use predictive modeling to increase and optimize customer experiences, revenue generati...',\n",
       " 'Should have strong mathematical background & analytical bent of mind We are looking ONL...',\n",
       " 'Hi, We at Prescience www.prescienceds.com looking for Data Scientist @ Bangalore .Roles...',\n",
       " 'Job Skills Required: Expert data science skills using supervised and unsupervised learn...']"
      ]
     },
     "execution_count": 95,
     "metadata": {},
     "output_type": "execute_result"
    }
   ],
   "source": [
    "job_desc[:10]"
   ]
  },
  {
   "cell_type": "code",
   "execution_count": 66,
   "id": "abd7f4ee",
   "metadata": {},
   "outputs": [
    {
     "data": {
      "text/plain": [
       "20"
      ]
     },
     "execution_count": 66,
     "metadata": {},
     "output_type": "execute_result"
    }
   ],
   "source": [
    "len(job_desc)"
   ]
  },
  {
   "cell_type": "code",
   "execution_count": 67,
   "id": "dee76659",
   "metadata": {},
   "outputs": [],
   "source": [
    "import pandas as pd"
   ]
  },
  {
   "cell_type": "code",
   "execution_count": 68,
   "id": "5a941217",
   "metadata": {},
   "outputs": [
    {
     "data": {
      "text/html": [
       "<div>\n",
       "<style scoped>\n",
       "    .dataframe tbody tr th:only-of-type {\n",
       "        vertical-align: middle;\n",
       "    }\n",
       "\n",
       "    .dataframe tbody tr th {\n",
       "        vertical-align: top;\n",
       "    }\n",
       "\n",
       "    .dataframe thead th {\n",
       "        text-align: right;\n",
       "    }\n",
       "</style>\n",
       "<table border=\"1\" class=\"dataframe\">\n",
       "  <thead>\n",
       "    <tr style=\"text-align: right;\">\n",
       "      <th></th>\n",
       "      <th>title</th>\n",
       "      <th>location</th>\n",
       "      <th>company</th>\n",
       "      <th>description</th>\n",
       "    </tr>\n",
       "  </thead>\n",
       "  <tbody>\n",
       "    <tr>\n",
       "      <th>0</th>\n",
       "      <td>Lead Data Scientist BFSI</td>\n",
       "      <td>Bengaluru/Bangalore</td>\n",
       "      <td>IBM India Pvt. Limited</td>\n",
       "      <td>IntroductionSoftware Developers at IBM are the...</td>\n",
       "    </tr>\n",
       "    <tr>\n",
       "      <th>1</th>\n",
       "      <td>Data Scientist: Advanced Analytics</td>\n",
       "      <td>Bengaluru/Bangalore</td>\n",
       "      <td>IBM India Pvt. Limited</td>\n",
       "      <td>PhD / Masters in STEM-related fields with know...</td>\n",
       "    </tr>\n",
       "    <tr>\n",
       "      <th>2</th>\n",
       "      <td>Senior Data Scientist</td>\n",
       "      <td>Bangalore/Bengaluru</td>\n",
       "      <td>Airbnb</td>\n",
       "      <td>Professional industry experience in a quantita...</td>\n",
       "    </tr>\n",
       "    <tr>\n",
       "      <th>3</th>\n",
       "      <td>SENIOR DATA SCIENTIST</td>\n",
       "      <td>Bangalore/Bengaluru</td>\n",
       "      <td>Happiest Minds Technologies Pvt.Ltd</td>\n",
       "      <td>Should possess extensive knowledge of and expe...</td>\n",
       "    </tr>\n",
       "    <tr>\n",
       "      <th>4</th>\n",
       "      <td>Requirement For Data Scientist - Mumbai &amp; Bang...</td>\n",
       "      <td>Bangalore/Bengaluru, Mumbai (All Areas)</td>\n",
       "      <td>CRISIL LIMITED</td>\n",
       "      <td>CRISIL (formerly Credit Rating Information Ser...</td>\n",
       "    </tr>\n",
       "    <tr>\n",
       "      <th>5</th>\n",
       "      <td>Hiring For Data Scientist / Statistical Analyst</td>\n",
       "      <td>Bangalore/Bengaluru</td>\n",
       "      <td>ManpowerGroup Services India Private Limited</td>\n",
       "      <td>At least 2 years of experience implementing Ma...</td>\n",
       "    </tr>\n",
       "    <tr>\n",
       "      <th>6</th>\n",
       "      <td>Associate Data Scientist</td>\n",
       "      <td>Bangalore/Bengaluru</td>\n",
       "      <td>Philips India Limited</td>\n",
       "      <td>Use predictive modeling to increase and optimi...</td>\n",
       "    </tr>\n",
       "    <tr>\n",
       "      <th>7</th>\n",
       "      <td>Data Scientist</td>\n",
       "      <td>Bangalore/Bengaluru</td>\n",
       "      <td>NeenOpal Intelligent Solutions Private Limited</td>\n",
       "      <td>Should have strong mathematical background &amp; a...</td>\n",
       "    </tr>\n",
       "    <tr>\n",
       "      <th>8</th>\n",
       "      <td>Data Scientist</td>\n",
       "      <td>Bangalore/Bengaluru</td>\n",
       "      <td>PRESCIENCE DECISION SOLUTIONS PRIVATE LIMITED</td>\n",
       "      <td>Hi, We at Prescience www.prescienceds.com look...</td>\n",
       "    </tr>\n",
       "    <tr>\n",
       "      <th>9</th>\n",
       "      <td>Data Scientist</td>\n",
       "      <td>Bangalore/Bengaluru</td>\n",
       "      <td>ELPIS IT SOLUTIONS PVT LTD</td>\n",
       "      <td>Job Skills Required: Expert data science skill...</td>\n",
       "    </tr>\n",
       "  </tbody>\n",
       "</table>\n",
       "</div>"
      ],
      "text/plain": [
       "                                               title  \\\n",
       "0                           Lead Data Scientist BFSI   \n",
       "1                 Data Scientist: Advanced Analytics   \n",
       "2                              Senior Data Scientist   \n",
       "3                              SENIOR DATA SCIENTIST   \n",
       "4  Requirement For Data Scientist - Mumbai & Bang...   \n",
       "5    Hiring For Data Scientist / Statistical Analyst   \n",
       "6                           Associate Data Scientist   \n",
       "7                                     Data Scientist   \n",
       "8                                     Data Scientist   \n",
       "9                                     Data Scientist   \n",
       "\n",
       "                                  location  \\\n",
       "0                      Bengaluru/Bangalore   \n",
       "1                      Bengaluru/Bangalore   \n",
       "2                      Bangalore/Bengaluru   \n",
       "3                      Bangalore/Bengaluru   \n",
       "4  Bangalore/Bengaluru, Mumbai (All Areas)   \n",
       "5                      Bangalore/Bengaluru   \n",
       "6                      Bangalore/Bengaluru   \n",
       "7                      Bangalore/Bengaluru   \n",
       "8                      Bangalore/Bengaluru   \n",
       "9                      Bangalore/Bengaluru   \n",
       "\n",
       "                                          company  \\\n",
       "0                          IBM India Pvt. Limited   \n",
       "1                          IBM India Pvt. Limited   \n",
       "2                                          Airbnb   \n",
       "3             Happiest Minds Technologies Pvt.Ltd   \n",
       "4                                  CRISIL LIMITED   \n",
       "5    ManpowerGroup Services India Private Limited   \n",
       "6                           Philips India Limited   \n",
       "7  NeenOpal Intelligent Solutions Private Limited   \n",
       "8   PRESCIENCE DECISION SOLUTIONS PRIVATE LIMITED   \n",
       "9                      ELPIS IT SOLUTIONS PVT LTD   \n",
       "\n",
       "                                         description  \n",
       "0  IntroductionSoftware Developers at IBM are the...  \n",
       "1  PhD / Masters in STEM-related fields with know...  \n",
       "2  Professional industry experience in a quantita...  \n",
       "3  Should possess extensive knowledge of and expe...  \n",
       "4  CRISIL (formerly Credit Rating Information Ser...  \n",
       "5  At least 2 years of experience implementing Ma...  \n",
       "6  Use predictive modeling to increase and optimi...  \n",
       "7  Should have strong mathematical background & a...  \n",
       "8  Hi, We at Prescience www.prescienceds.com look...  \n",
       "9  Job Skills Required: Expert data science skill...  "
      ]
     },
     "execution_count": 68,
     "metadata": {},
     "output_type": "execute_result"
    }
   ],
   "source": [
    "#answer 2 data frame.\n",
    "\n",
    "jobs=pd.DataFrame({})\n",
    "\n",
    "jobs['title']=job_titles[:10]\n",
    "jobs['location']=job_location[:10]\n",
    "jobs['company']=job_company[:10]\n",
    "jobs['description']=job_desc[:10]\n",
    "\n",
    "jobs"
   ]
  },
  {
   "cell_type": "code",
   "execution_count": 69,
   "id": "cba1c436",
   "metadata": {},
   "outputs": [],
   "source": [
    "url_1='https://www.naukri.com/job-listings-lead-data-scientist-bfsi-ibm-india-pvt-limited-bengaluru-bangalore-5-to-9-years-070921901691?src=jobsearchDesk&sid=1631193653786625&xp=1&px=1'\n",
    "driver.get(url_1)"
   ]
  },
  {
   "cell_type": "code",
   "execution_count": 73,
   "id": "d09eab2e",
   "metadata": {},
   "outputs": [
    {
     "data": {
      "text/plain": [
       "<selenium.webdriver.remote.webelement.WebElement (session=\"72ebe60185c3c833c4a476d87a9e7368\", element=\"7fabf0e4-19cc-4c50-98d8-31e2de9b504f\")>"
      ]
     },
     "execution_count": 73,
     "metadata": {},
     "output_type": "execute_result"
    }
   ],
   "source": [
    "desc1=driver.find_element_by_xpath('//div[@class=\"clearboth description\"]')\n",
    "desc1"
   ]
  },
  {
   "cell_type": "code",
   "execution_count": 74,
   "id": "6a2cb457",
   "metadata": {},
   "outputs": [
    {
     "data": {
      "text/plain": [
       "'Introduction As a Data Scientist at IBM, you will help transform our clients data into tangible business value by analyzing information, communicating outcomes and collaborating on product development. Work with Best in Class open source and visual tools, along with the most flexible and scalable deployment options. Whether it s investigating patient trends or weather patterns, you will work to solve real world problems for the industries transforming how we live.  Your Role and Responsibilities Work with IBM Q Start team on active exploratory research engagements to prepare for future use case commercialization within specific industry Engage and educate client data science teams to define promising areas for quantum exploration Implement quantum approaches, which includes data pre-/post-processing, running numerics and visualizing data Collaborate with industry and solutioning experts to design and shape experiments to demonstrate quantum-enabled advantage Define best practices related to information architecture, including collection, integration, organization, analysis and visualization of data for quantum-enabled impact Engage in practice development initiatives focused on building employee knowledge and skills in specific areas of expertise through coaching and development of training course material  Required Technical and Professional Expertise PhD/Masters in STEM-related fields with knowledge in Quantum Computing. 5 years of data engineering and data science experience 2 years of consulting experience within specific industries with strong domain expertise and business acumen Proficiency with classical approaches to machine learning and linear algebra, including Support Vector Machine (SVM) for linear categorization and Singular Value Decomposition (SVD) to reduce dimensionality of data Familiar with Qiskit software, including Qiskit Aqua for domain applications and Qiskit Terra for quantum circuit design and optimization Excellent ideation, facilitation and communications skills Detail-oriented team player with strong interpersonal skills and ability to take a leadership role when necessary Willingness to travel globally up to 40% once we return to a travel-safe environment. English: Fluent  Preferred Technical and Professional Expertise 2 years of experience in at least one of the industries, with knowledge of industry trends, R&D areas, and computationally intensive processes (e.g. optimization) Familiarity with Qiskit'"
      ]
     },
     "execution_count": 74,
     "metadata": {},
     "output_type": "execute_result"
    }
   ],
   "source": [
    "desc1.text.replace(\"\\n\",\" \")"
   ]
  },
  {
   "cell_type": "code",
   "execution_count": 72,
   "id": "2bb8a93f",
   "metadata": {},
   "outputs": [],
   "source": [
    "url_2='https://www.naukri.com/job-listings-data-scientist-advanced-analytics-ibm-india-pvt-limited-bengaluru-bangalore-3-to-7-years-070921901677?src=jobsearchDesk&sid=16311943684299861&xp=2&px=1'\n",
    "driver.get(url_2)"
   ]
  },
  {
   "cell_type": "code",
   "execution_count": 75,
   "id": "6fa9ce5c",
   "metadata": {},
   "outputs": [
    {
     "data": {
      "text/plain": [
       "<selenium.webdriver.remote.webelement.WebElement (session=\"72ebe60185c3c833c4a476d87a9e7368\", element=\"7fabf0e4-19cc-4c50-98d8-31e2de9b504f\")>"
      ]
     },
     "execution_count": 75,
     "metadata": {},
     "output_type": "execute_result"
    }
   ],
   "source": [
    "desc2=driver.find_element_by_xpath('//div[@class=\"clearboth description\"]')\n",
    "desc2"
   ]
  },
  {
   "cell_type": "code",
   "execution_count": 76,
   "id": "590417ad",
   "metadata": {},
   "outputs": [
    {
     "data": {
      "text/plain": [
       "'IntroductionAs a Data Scientist at IBM, you will help transform our clients data into tangible business value by analyzing information, communicating outcomes and collaborating on product development. Work with Best in Class open source and visual tools, along with the most flexible and scalable deployment options. Whether it s investigating patient trends or weather patterns, you will work to solve real world problems for the industries transforming how we live.Your Role and ResponsibilitiesWork with IBM Q Start team on active exploratory research engagements to prepare for future use case commercialization within specific industryEngage and educate client data science teams to define promising areas for quantum explorationImplement quantum approaches, which includes data pre-/post-processing, running numerics and visualizing dataCollaborate with industry and solutioning experts to design and shape experiments to demonstrate quantum-enabled advantageDefine best practices related to information architecture, including collection, integration, organization, analysis and visualization of data for quantum-enabled impactEngage in practice development initiatives focused on building employee knowledge and skills in specific areas of expertise through coaching and development of training course materialRequired Technical and Professional ExpertisePhD/Masters in STEM-related fields with knowledge in Quantum Computing.5 years of data engineering and data science experience2 years of consulting experience within specific industries with strong domain expertise and business acumenProficiency with classical approaches to machine learning and linear algebra, including Support Vector Machine (SVM) for linear categorization and Singular Value Decomposition (SVD) to reduce dimensionality of dataFamiliar with Qiskit software, including Qiskit Aqua for domain applications and Qiskit Terra for quantum circuit design and optimizationExcellent ideation, facilitation and communications skillsDetail-oriented team player with strong interpersonal skills and ability to take a leadership role when necessaryWillingness to travel globally up to 40% once we return to a travel-safe environment.English: FluentPreferred Technical and Professional Expertise2 years of experience in at least one of the industries, with knowledge of industry trends, R&D areas, and computationally intensive processes (e.g. optimization)Familiarity with Qiskit'"
      ]
     },
     "execution_count": 76,
     "metadata": {},
     "output_type": "execute_result"
    }
   ],
   "source": [
    "desc2.text.replace(\"\\n\",\"\")"
   ]
  },
  {
   "cell_type": "code",
   "execution_count": 77,
   "id": "93459b7c",
   "metadata": {},
   "outputs": [],
   "source": [
    "url_3='https://www.naukri.com/job-listings-senior-data-scientist-airbnb-bangalore-bengaluru-7-to-12-years-080921500017?src=jobsearchDesk&sid=16311947841567869&xp=3&px=1'\n",
    "driver.get(url_3)"
   ]
  },
  {
   "cell_type": "code",
   "execution_count": 78,
   "id": "a0729a3c",
   "metadata": {},
   "outputs": [
    {
     "data": {
      "text/plain": [
       "<selenium.webdriver.remote.webelement.WebElement (session=\"72ebe60185c3c833c4a476d87a9e7368\", element=\"c1331d30-c2fa-4c4d-bae4-b9efa9420ba8\")>"
      ]
     },
     "execution_count": 78,
     "metadata": {},
     "output_type": "execute_result"
    }
   ],
   "source": [
    "desc3=driver.find_element_by_xpath('//section[@class=\"job-desc\"]')\n",
    "desc3"
   ]
  },
  {
   "cell_type": "code",
   "execution_count": 79,
   "id": "e5a69cdf",
   "metadata": {},
   "outputs": [
    {
     "data": {
      "text/plain": [
       "'Job descriptionResponsibilities include:Defining and evaluating key metrics and understanding what moves them and whyOwnership of conceptualizing, developing, and maintaining dashboards and visualizationsInvestigating evolving fraud trends to extract patterns, identify root causes and propose actionable solutionsCommunicating analyses and recommendations to cross functional stakeholders for decision makingEmpowering the team to answer data questions quickly and easily by building high-quality ground truth data setsHere are example traits we value:Professional industry experience in a quantitative analysis role (7+ years preferred)Comfortable in SQL and some experience with a programming language (Python or R a plus)Ability to communicate clearly and effectively to cross functional partners of varying technical levelsAbility to define relevant metrics that can guide and influence stakeholders to the appropriate and accurate insightsExperience or willingness to learn tools to create data pipelines using AirflowBuilding clear and easy to understand dashboards (Tableau) and presentationsRoleGraphic/Web DesignerIndustry TypeInternetFunctional AreaIT Software - DBA, DatawarehousingEmployment TypeFull Time, PermanentRole CategoryProgramming & DesignEducationUG :Any GraduatePG :Any PostgraduateKey SkillsData ScienceRData ScientistTableauPythonSql'"
      ]
     },
     "execution_count": 79,
     "metadata": {},
     "output_type": "execute_result"
    }
   ],
   "source": [
    "desc3.text.replace(\"\\n\",\"\")"
   ]
  },
  {
   "cell_type": "code",
   "execution_count": 80,
   "id": "419d4fbb",
   "metadata": {},
   "outputs": [],
   "source": [
    "url_4='https://www.naukri.com/job-listings-senior-data-scientist-happiest-minds-technologies-pvt-ltd-bangalore-bengaluru-5-to-10-years-070921501517?src=jobsearchDesk&sid=1631194956525753&xp=4&px=1'\n",
    "driver.get(url_4)"
   ]
  },
  {
   "cell_type": "code",
   "execution_count": 81,
   "id": "c70936af",
   "metadata": {},
   "outputs": [
    {
     "data": {
      "text/plain": [
       "<selenium.webdriver.remote.webelement.WebElement (session=\"72ebe60185c3c833c4a476d87a9e7368\", element=\"4b9953e0-1ddb-430c-9109-aee94d1dfeb3\")>"
      ]
     },
     "execution_count": 81,
     "metadata": {},
     "output_type": "execute_result"
    }
   ],
   "source": [
    "desc4=driver.find_element_by_xpath('//section[@class=\"job-desc\"]')\n",
    "desc4"
   ]
  },
  {
   "cell_type": "code",
   "execution_count": 82,
   "id": "0ef0ac1d",
   "metadata": {
    "scrolled": true
   },
   "outputs": [
    {
     "data": {
      "text/plain": [
       "'Job description  SkillsRequired Skills: Data Science, Machine Learning, Deep Learning, Python, NLPDesired Skills: Computer VisionRoles and responsibilitiesExperience in Data Modelling, R, Python, SQL, Data Science, Machine Learning, Deep Learning, NLP, StatisticsHave ability to solve Business problems using DataShould possess extensive knowledge of and experience in applying data mining and machine learning techniques on large amount of datasetsHigh level of proficiency in statistical tools like R, PythonCandidate will be expected to communicate analytical results in a way that is meaningful for business stakeholders and provides actionable insights.Have the ability to discover new opportunities where advanced analytical techniques can be leveraged for solving business problemsGood to HaveExpertise in programming languages like Java/C/C /PythonExperience with relational databases and SQL is good to haveExperience in audio and video analyticsRelevant experience in Big Data platforms like Hadoop eco-systemCome up with innovative algorithms and solutionsStaffing Type:PermanentRoleClinical Research Associate/ScientistIndustry TypeIT Services & ConsultingFunctional AreaMedical, Healthcare, R&D, Pharmaceuticals, BiotechnologyEmployment TypeFull Time, PermanentRole CategoryR&DEducationUG :Any GraduatePG :Any PostgraduateKey SkillsHospitalityNSEStaffingBfsiAnalyticalAgileData miningAnalyticsAutomotiveSQL'"
      ]
     },
     "execution_count": 82,
     "metadata": {},
     "output_type": "execute_result"
    }
   ],
   "source": [
    "desc4.text.replace(\"\\n\",\"\")"
   ]
  },
  {
   "cell_type": "code",
   "execution_count": 83,
   "id": "0697599e",
   "metadata": {},
   "outputs": [],
   "source": [
    "url_5='https://www.naukri.com/job-listings-requirement-for-data-scientist-mumbai-bangalore-crisil-limited-bangalore-bengaluru-mumbai-all-areas-2-to-6-years-080921005523?src=jobsearchDesk&sid=16311950568545770&xp=5&px=1'\n",
    "driver.get(url_5)"
   ]
  },
  {
   "cell_type": "code",
   "execution_count": 84,
   "id": "2b8ad3bf",
   "metadata": {},
   "outputs": [
    {
     "data": {
      "text/plain": [
       "<selenium.webdriver.remote.webelement.WebElement (session=\"72ebe60185c3c833c4a476d87a9e7368\", element=\"53e6b56a-8ccc-40f9-966f-fd20a262efac\")>"
      ]
     },
     "execution_count": 84,
     "metadata": {},
     "output_type": "execute_result"
    }
   ],
   "source": [
    "desc5=driver.find_element_by_xpath('//section[@class=\"job-desc\"]')\n",
    "desc5"
   ]
  },
  {
   "cell_type": "code",
   "execution_count": 85,
   "id": "ec427103",
   "metadata": {},
   "outputs": [
    {
     "data": {
      "text/plain": [
       "'Job descriptionCRISIL (formerly Credit Rating Information Services of India Limited) is an Indian analytical company providing ratings, research, and risk and policy advisory services and is a subsidiary of American company S&P GlobalWe are looking Data Scientist for Mumbai & Bangalore locationCandidates who can join immediately or within 30-45 need only applyPlease refer below JD for your reference-Job Description Data scientist:Client oriented approach to problem solving. Individual should be able to have a holistic view of multiple businesses and develop analytic solutions accordingly.Own and deliver multiple and complex analytic projects. This would require an understanding of business context, conversion of business problems in modeling, and implementing such solutions to create business value.Always up to date with the latest use cases of modeling community, machine learning and deep learning algorithms and share knowledge within the team.Proficiency in basic statistics, hypothesis testing, segmentation and predictive modeling.Ability to translate and articulate technical thoughts and ideas to a larger audience including influencing skills with peers and senior management.Strong project management skills.Ability to coach and mentor juniors.Eagerness to work on new and challenging tasks on a regular basis with an ability to research new ways of doing things better/efficiently.Contribute to organizational initiatives in wide ranging areas including competency development, training, organizational building activities etc.SkillsBasic QualificationsBachelors Degree with 2+ years of experience in data analytics,Hands-on experience in Python / SAS or R programing along with strong experience in SQL and Excel Macros.Experienced in working with large and multiple datasets, data warehouses and ability to pull data using relevant programs and coding.Well versed with necessary data preprocessing and feature engineering skills.At least 2 years of experience implementing Machine learning algorithms such as Random Forest and Gradient Boosting in solving business problems such as Default classification and macroeconomic forecasting.At least 1 year of experience implementing deep learning techniques like neural networksExposure to deep learning packages like TensorflowStrong background in Statistical AnalysisBackground in BFSI space will be preferredRoleData AnalystIndustry TypeBankingFunctional AreaAnalytics & Business IntelligenceEmployment TypeFull Time, PermanentRole CategoryAnalytics & BIEducationUG :Any GraduatePG :Any PostgraduateKey SkillsrMachine LearningPythonTensorflowPredictive ModelingSegmentationNeural NetworksDeep LearningRandom ForestSQLSkills highlighted with ‘‘ are preferred keyskills'"
      ]
     },
     "execution_count": 85,
     "metadata": {},
     "output_type": "execute_result"
    }
   ],
   "source": [
    "desc5.text.replace(\"\\n\",\"\")"
   ]
  },
  {
   "cell_type": "code",
   "execution_count": 86,
   "id": "7f314a47",
   "metadata": {},
   "outputs": [],
   "source": [
    "url_6='https://www.naukri.com/job-listings-hiring-for-data-scientist-statistical-analyst-manpowergroup-services-india-private-limited-bangalore-bengaluru-2-to-4-years-080921011029?src=jobsearchDesk&sid=16311951136905080&xp=6&px=1'\n",
    "driver.get(url_6)"
   ]
  },
  {
   "cell_type": "code",
   "execution_count": 87,
   "id": "8280cdd5",
   "metadata": {},
   "outputs": [
    {
     "data": {
      "text/plain": [
       "<selenium.webdriver.remote.webelement.WebElement (session=\"72ebe60185c3c833c4a476d87a9e7368\", element=\"4b684ee6-ff00-46e9-a4cd-dcd828b69b78\")>"
      ]
     },
     "execution_count": 87,
     "metadata": {},
     "output_type": "execute_result"
    }
   ],
   "source": [
    "desc6=driver.find_element_by_xpath('//section[@class=\"job-desc\"]')\n",
    "desc6"
   ]
  },
  {
   "cell_type": "code",
   "execution_count": 88,
   "id": "15bb27c4",
   "metadata": {},
   "outputs": [
    {
     "data": {
      "text/plain": [
       "'Job descriptionDepartment- BIRS (Business Intelligence Risk Solutions)JD Statistical Analyst/ Data scientist:Client oriented approach to problem solving. Individual should be able to have a holistic view of multiple businesses and develop analytic solutions accordingly.Own and deliver multiple and complex analytic projects. This would require an understanding of business context, conversion of business problems in modeling, and implementing such solutions to create business value.Always up to date with the latest use cases of modeling community, machine learning and deep learning algorithms and share knowledge within the team.Proficiency in basic statistics, hypothesis testing, segmentation and predictive modeling.Ability to translate and articulate technical thoughts and ideas to a larger audience including influencing skills with peers and senior management.Strong project management skills.Ability to coach and mentor juniors.Eagerness to work on new and challenging tasks on a regular basis with an ability to research new ways of doing things better/efficiently.Contribute to organizational initiatives in wide ranging areas including competency development, training, organizational building activities etc.Basic QualificationsBachelor’s Degree with 2+ years of experience in data analytics,Hands-on experience in Python / SAS or R programing along with strong experience in SQL and Excel Macros.Experienced in working with large and multiple datasets, data warehouses and ability to pull data using relevant programs and coding.Well versed with necessary data preprocessing and feature engineering skills.At least 2 years of experience implementing Machine learning algorithms such as Random Forest and Gradient Boosting in solving business problems such as Default classification and macroeconomic forecasting.At least 1 year of experience implementing deep learning techniques like neural networksExposure to deep learning packages like TensorflowStrong background in Statistical AnalysisBackground in BFSI space will be preferredRoles and ResponsibilitiesIf anyone interested, please share your resume to below mail id:-Soundarya.s@manpower.co.in;RoleSoftware DeveloperIndustry TypeIT Services & ConsultingFunctional AreaIT Software - DBA, DatawarehousingEmployment TypeFull Time, PermanentRole CategoryProgramming & DesignEducationUG :B.Tech/B.E. in Any SpecializationKey SkillsTensorflowPredictive ModelingRNeural NetworksMachine LearningStatistical AnalysisDeep LearningPythonRandom ForestSQL'"
      ]
     },
     "execution_count": 88,
     "metadata": {},
     "output_type": "execute_result"
    }
   ],
   "source": [
    "desc6.text.replace(\"\\n\",\"\")"
   ]
  },
  {
   "cell_type": "code",
   "execution_count": 89,
   "id": "0403975a",
   "metadata": {},
   "outputs": [],
   "source": [
    "url_7='https://www.naukri.com/job-listings-associate-data-scientist-philips-india-limited-bangalore-bengaluru-3-to-5-years-060921501985?src=jobsearchDesk&sid=16311952643542981&xp=7&px=1'\n",
    "driver.get(url_7)"
   ]
  },
  {
   "cell_type": "code",
   "execution_count": 90,
   "id": "3482464d",
   "metadata": {},
   "outputs": [
    {
     "data": {
      "text/plain": [
       "<selenium.webdriver.remote.webelement.WebElement (session=\"72ebe60185c3c833c4a476d87a9e7368\", element=\"35f6e445-6309-4dcd-82eb-6b40144a1364\")>"
      ]
     },
     "execution_count": 90,
     "metadata": {},
     "output_type": "execute_result"
    }
   ],
   "source": [
    "desc7=driver.find_element_by_xpath('//section[@class=\"job-desc\"]')\n",
    "desc7"
   ]
  },
  {
   "cell_type": "code",
   "execution_count": 91,
   "id": "7a2681fc",
   "metadata": {},
   "outputs": [
    {
     "data": {
      "text/plain": [
       "'Job descriptionUse predictive modeling to increase and optimize customer experiences, revenue generation, campaign optimization and other business outcomesWork with product management to develop data use cases and embed predictive models in workflows on resource constrained platforms and cloud enabled.Selecting features, building and optimizing classifiers using machine learning and deep learning techniquesCollaborates with Data Engineers to enhance data collection and ingestion/curation techniques to include information that is relevant for building analytic systemsProcessing, cleansing, and verifying the integrity of data used for analysisDevelop processes and tools to monitor and analyze model performance and data accuracy. Life cycle management of predictive models.Adherence to compliance procedures in accordance with regulatory standards, requirements, and policies. Managing and designing the reporting environment, including data sources security, and metadata.Job Qualifications:Master s degree or PhD in Computer Science, Information management, Statistics or related field, with 3 to 5 years of experience in the Consumer or Healthcare industry manipulating data sets and building predictive models with focus on product developmentExperience in statistical modelling, machine learning, data mining, unstructured data analytics and natural language processing. Sound understanding of - Bayesian Modelling, Classification Models, Cluster Analysis, Neural Network, Nonparametric Methods, Multivariate Statistics, etc.Strong hands on knowledge of ML techniques like regression algorithms, K-NN, Na ve Bayes, SVM and ensemble techniques like Random forest, AdaBoost etcHaving strong knowledge in unsupervised learning algorithms using Neural networks and Deep-LearningStrong knowledge in Data Wrangling and Exploration techniques to identify the patterns, trends and outliners.Deep knowledge and practical experience with data science toolkits, such as NumPy, Pandas, scikit-learn or equivalentExperience with data visualization tools, such as QlikView, Matplotlib, seaborn or equivalent tools.Proficiency in using query languages, such as SQL, PL/SQLHands on experience in the one or more databases like Hadoop, AWS Redshift, Snowflake etc.Good applied statistics skills, such as distributions, statistical testing, regression, etc.Good ETL scripting and programming skills, such as Python, R or Scala to integrate developed solution into the proposition.A team player capable of working and integrating across cross-functional team for implementing project requirements. Experience in technical requirements gathering and documentation.Ability to work effectively and independently in a fast-paced global collaborative agile team environment with tight deadlinesA flexible, pragmatic and collaborative team player with innate ability to engage with stakeholders at all levels in the organization.A self-starter with high levels of drive, energy, resilience and a desire for professional excellence with a passion for data and data scienceRoleClinical Research Associate/ScientistIndustry TypeMedical Services / HospitalFunctional AreaMedical, Healthcare, R&D, Pharmaceuticals, BiotechnologyEmployment TypeFull Time, PermanentRole CategoryR&DEducationUG :Any GraduatePG :Post Graduation Not RequiredKey SkillsProduct managementComputer sciencemetadataMachine learningAgilePLSQLHealthcareQlikViewData miningPython'"
      ]
     },
     "execution_count": 91,
     "metadata": {},
     "output_type": "execute_result"
    }
   ],
   "source": [
    "desc7.text.replace(\"\\n\",\"\")"
   ]
  },
  {
   "cell_type": "code",
   "execution_count": 92,
   "id": "fd83c9cf",
   "metadata": {},
   "outputs": [
    {
     "data": {
      "text/plain": [
       "'Job descriptionRoles and ResponsibilitiesWe are looking for someone who would be responsible for analyzing data and providing business insights. As a Data Scientist your responsibilities will include understanding the business problem and experimenting with different modelling architectures to create the best possible setup from model performance as well as computational performance. To do this job successfully, you need exceptional skills in Machine Learning and Programming. Your ultimate goal will be to find the best data-based solution for the problem at hand.Moreover, you are expected to learn fast and deliver quickly in a fast-paced startup environment. If you thrive on ambiguity and are a problem solver and yet deliver value to clients, feel free to reach out to us.We are looking ONLY FOR SELF DRIVEN INDIVIDUALS with a desire to excel in Data Science Domain.Understanding business objectives and developing models that help to achieve them, along with metrics to track their progressDevelop and maintain robust data processing pipelines and reproducible modeling pipelinesBuild mathematical models to solve various problems ranging from Time Series forecasting to Neural Networks and ensure seamless deployment in production pipelines.Analyze experimental results, iterate and refine models to create significant business impactFollow strict coding standards and other software engineering best practicesDesired Candidate ProfileProven experience as a Data Scientist or similar roleStrong SQL, R/Python SkillsShould have familiarity with Machine Learning Models and fundamentals in Forecasting and Optimization TechniquesShould have strong mathematical background & analytical bent of mindStrong Problem-Solving AbilityAbility to communicate well in a highly collaborative team environment, consisting of both technical and non-technical personnelReliable self-starter that is capable of working with a high degree of autonomyPerks and BenefitsNeenOpal is a global management consulting firm with a unique and specialized focus on Data Science.We provide services across the whole value chain of an organization - Digital Strategy, Sales & Marketing, Supply Chain & Logistics as well as Finance. Youll have a blast doing it in our fun, passionate environment.RoleData scientistIndustry TypeManagement ConsultingFunctional AreaIT Software - OtherEmployment TypeFull Time, PermanentRole CategoryNot mentionedEducationUG :Any GraduatePG :Any PostgraduateKey SkillsData SciencePythonSQLExcelSoftware EngineeringProblem SolvingNeural NetworksTime SeriesData AnalysisBusiness InsightsData ProcessingMachine LearningSkills highlighted with ‘‘ are preferred keyskills'"
      ]
     },
     "execution_count": 92,
     "metadata": {},
     "output_type": "execute_result"
    }
   ],
   "source": [
    "url_8='https://www.naukri.com/job-listings-data-scientist-neenopal-intelligent-solutions-private-limited-bangalore-bengaluru-2-to-5-years-080921006998?src=jobsearchDesk&sid=16311953614924326&xp=8&px=1'\n",
    "driver.get(url_8)\n",
    "\n",
    "desc8=driver.find_element_by_xpath('//section[@class=\"job-desc\"]')\n",
    "desc8\n",
    "\n",
    "desc8.text.replace(\"\\n\",\"\")"
   ]
  },
  {
   "cell_type": "code",
   "execution_count": 93,
   "id": "c946d9fa",
   "metadata": {},
   "outputs": [
    {
     "data": {
      "text/plain": [
       "'Job descriptionHi,We at Prescience www.prescienceds.com looking for Data Scientist @ Bangalore .Roles and ResponsibilitiesAs a Data Scientist you will be working with senior management of clients to understand the business requirements, define right problem statement and come up with a framework for the solution. You will also work on the solution and at time guide a small team to deliver the same. Part of job role would be develop products in the area of Natural Language Processing, Conversational Interfaces, Text Mining etc.Desired Candidate ProfileWhat we are looking for:Good applied statistics skills, such as distributions, statistical testing, regression, etc. Experience in Natural Language Processing, Computer Vision. Exposure to common data science business problems like clustering, classification, anomaly detection, prediction etc.Good understanding of machine learning techniques and algorithmsExperience with common data science toolkits Python, R, SASProficiency in using query languages such as SQL, Hive, etc Experience with NoSQL database, SQL Server, PostgreSQL, MongoDBGreat communication skillsData-oriented personality and excellent business analysis skillsExperience in solutioning for data science related problems, work with business stakeholders to define right problem statement and solution.Open to professionals who have data analytics / BI background and then moved to Data Scientist roles.Perks and BenefitsRoleOtherIndustry TypeIT Services & ConsultingFunctional AreaAnalytics & Business IntelligenceEmployment TypeFull Time, PermanentRole CategoryOtherEducationUG :Any GraduateKey SkillsTensorflowPostgreSQLNatural Language ProcessingNeural NetworksMachine LearningStatisticsSQLData ScienceAnomaly DetectionPytorchRNLPMongoDBQlikViewComputer VisionData AnalyticsPython'"
      ]
     },
     "execution_count": 93,
     "metadata": {},
     "output_type": "execute_result"
    }
   ],
   "source": [
    "url_9='https://www.naukri.com/job-listings-data-scientist-prescience-decision-solutions-private-limited-bangalore-bengaluru-5-to-10-years-080921005624?src=jobsearchDesk&sid=16311954354508896&xp=9&px=1'\n",
    "driver.get(url_9)\n",
    "\n",
    "desc9=driver.find_element_by_xpath('//section[@class=\"job-desc\"]')\n",
    "desc9\n",
    "\n",
    "desc9.text.replace(\"\\n\",\"\")"
   ]
  },
  {
   "cell_type": "code",
   "execution_count": 106,
   "id": "3c04eac0",
   "metadata": {
    "scrolled": true
   },
   "outputs": [
    {
     "data": {
      "text/plain": [
       "'Job descriptionRoles and ResponsibilitiesJob Description:Develop data powered insights deriving from distributed, real time streaming applications, and develop AI systems leveraging on such data powered insights.Looking for candidates with passion and energy to work in a high energy team with entrepreneurial culture: Self starter attitude, quick learning aptitude, passion and willingness to deliver on time with quality.Job Skills Required:Expert data science skills using supervised and unsupervised learning. Deep learning.Compute: Spark/Storm/NiFi/Flink/Redis, or other.Visualization: Banana UI, Kibana, or other,Tools: H2O, TensorFlow, Mlib, Scikit, Keras or other.Messaging: Kafka, RabbitMQ, or other.Strong Analytical and Math/Statistics skills.Qualification :M.Tech/M.E./M.S. in Computer Science, Engineering or a related field, preferably with a concentration, major or minor in Data Science or Machine Learning. PhD would be added advantage.Desired Candidate ProfileDesirable s that would strengthen candidacy: Proven track record from public competitions such as from Kagel, Analytics Vidya, etc. Expertise in one or more high level programming languages such as Java, Scala, Python, Go, Erlang, etc.Expertise in developing scalable applications in a distributed environment.Strong SQL or NoSQL skills with one or more open source DBMS such as MySql, MongoDB, Cassandra.Expertise in containerized environments on private or public clouds - Aws Azure, etc.RoleSoftware DeveloperIndustry TypeIT Services & ConsultingFunctional AreaIT Software - Application Programming, MaintenanceEmployment TypeFull Time, Temporary/ContractualRole CategoryProgramming & DesignEducationUG :Any GraduatePG :Any PostgraduateKey Skillsdeep learningKibanatensorflowdata scienceKafkakerasSparkMachine Learning'"
      ]
     },
     "execution_count": 106,
     "metadata": {},
     "output_type": "execute_result"
    }
   ],
   "source": [
    "url_10='https://www.naukri.com/job-listings-data-scientist-elpis-it-solutions-pvt-ltd-bangalore-bengaluru-3-to-8-years-070921602158?src=jobsearchDesk&sid=16311954913772425&xp=10&px=1'\n",
    "driver.get(url_10)\n",
    "\n",
    "desc10=driver.find_element_by_xpath('//section[@class=\"job-desc\"]')\n",
    "desc10\n",
    "\n",
    "desc10.text.replace(\"\\n\",\"\")"
   ]
  },
  {
   "cell_type": "code",
   "execution_count": 109,
   "id": "0d1b3729",
   "metadata": {},
   "outputs": [
    {
     "data": {
      "text/plain": [
       "['desc1',\n",
       " 'desc2',\n",
       " 'desc3',\n",
       " 'desc4',\n",
       " 'desc5',\n",
       " 'desc6',\n",
       " 'desc7',\n",
       " 'desc8',\n",
       " 'desc9',\n",
       " 'desc10']"
      ]
     },
     "execution_count": 109,
     "metadata": {},
     "output_type": "execute_result"
    }
   ],
   "source": [
    "list=[\"desc1\",\"desc2\",\"desc3\",\"desc4\",\"desc5\",\"desc6\",\"desc7\",\"desc8\",\"desc9\",\"desc10\"]\n",
    "list"
   ]
  },
  {
   "cell_type": "code",
   "execution_count": 110,
   "id": "b07ccca2",
   "metadata": {
    "scrolled": false
   },
   "outputs": [
    {
     "data": {
      "text/html": [
       "<div>\n",
       "<style scoped>\n",
       "    .dataframe tbody tr th:only-of-type {\n",
       "        vertical-align: middle;\n",
       "    }\n",
       "\n",
       "    .dataframe tbody tr th {\n",
       "        vertical-align: top;\n",
       "    }\n",
       "\n",
       "    .dataframe thead th {\n",
       "        text-align: right;\n",
       "    }\n",
       "</style>\n",
       "<table border=\"1\" class=\"dataframe\">\n",
       "  <thead>\n",
       "    <tr style=\"text-align: right;\">\n",
       "      <th></th>\n",
       "      <th>title</th>\n",
       "      <th>location</th>\n",
       "      <th>company</th>\n",
       "      <th>description</th>\n",
       "    </tr>\n",
       "  </thead>\n",
       "  <tbody>\n",
       "    <tr>\n",
       "      <th>0</th>\n",
       "      <td>Lead Data Scientist BFSI</td>\n",
       "      <td>Bengaluru/Bangalore</td>\n",
       "      <td>IBM India Pvt. Limited</td>\n",
       "      <td>desc1</td>\n",
       "    </tr>\n",
       "    <tr>\n",
       "      <th>1</th>\n",
       "      <td>Data Scientist: Advanced Analytics</td>\n",
       "      <td>Bengaluru/Bangalore</td>\n",
       "      <td>IBM India Pvt. Limited</td>\n",
       "      <td>desc2</td>\n",
       "    </tr>\n",
       "    <tr>\n",
       "      <th>2</th>\n",
       "      <td>Senior Data Scientist</td>\n",
       "      <td>Bangalore/Bengaluru</td>\n",
       "      <td>Airbnb</td>\n",
       "      <td>desc3</td>\n",
       "    </tr>\n",
       "    <tr>\n",
       "      <th>3</th>\n",
       "      <td>SENIOR DATA SCIENTIST</td>\n",
       "      <td>Bangalore/Bengaluru</td>\n",
       "      <td>Happiest Minds Technologies Pvt.Ltd</td>\n",
       "      <td>desc4</td>\n",
       "    </tr>\n",
       "    <tr>\n",
       "      <th>4</th>\n",
       "      <td>Requirement For Data Scientist - Mumbai &amp; Bang...</td>\n",
       "      <td>Bangalore/Bengaluru, Mumbai (All Areas)</td>\n",
       "      <td>CRISIL LIMITED</td>\n",
       "      <td>desc5</td>\n",
       "    </tr>\n",
       "    <tr>\n",
       "      <th>5</th>\n",
       "      <td>Hiring For Data Scientist / Statistical Analyst</td>\n",
       "      <td>Bangalore/Bengaluru</td>\n",
       "      <td>ManpowerGroup Services India Private Limited</td>\n",
       "      <td>desc6</td>\n",
       "    </tr>\n",
       "    <tr>\n",
       "      <th>6</th>\n",
       "      <td>Associate Data Scientist</td>\n",
       "      <td>Bangalore/Bengaluru</td>\n",
       "      <td>Philips India Limited</td>\n",
       "      <td>desc7</td>\n",
       "    </tr>\n",
       "    <tr>\n",
       "      <th>7</th>\n",
       "      <td>Data Scientist</td>\n",
       "      <td>Bangalore/Bengaluru</td>\n",
       "      <td>NeenOpal Intelligent Solutions Private Limited</td>\n",
       "      <td>desc8</td>\n",
       "    </tr>\n",
       "    <tr>\n",
       "      <th>8</th>\n",
       "      <td>Data Scientist</td>\n",
       "      <td>Bangalore/Bengaluru</td>\n",
       "      <td>PRESCIENCE DECISION SOLUTIONS PRIVATE LIMITED</td>\n",
       "      <td>desc9</td>\n",
       "    </tr>\n",
       "    <tr>\n",
       "      <th>9</th>\n",
       "      <td>Data Scientist</td>\n",
       "      <td>Bangalore/Bengaluru</td>\n",
       "      <td>ELPIS IT SOLUTIONS PVT LTD</td>\n",
       "      <td>desc10</td>\n",
       "    </tr>\n",
       "  </tbody>\n",
       "</table>\n",
       "</div>"
      ],
      "text/plain": [
       "                                               title  \\\n",
       "0                           Lead Data Scientist BFSI   \n",
       "1                 Data Scientist: Advanced Analytics   \n",
       "2                              Senior Data Scientist   \n",
       "3                              SENIOR DATA SCIENTIST   \n",
       "4  Requirement For Data Scientist - Mumbai & Bang...   \n",
       "5    Hiring For Data Scientist / Statistical Analyst   \n",
       "6                           Associate Data Scientist   \n",
       "7                                     Data Scientist   \n",
       "8                                     Data Scientist   \n",
       "9                                     Data Scientist   \n",
       "\n",
       "                                  location  \\\n",
       "0                      Bengaluru/Bangalore   \n",
       "1                      Bengaluru/Bangalore   \n",
       "2                      Bangalore/Bengaluru   \n",
       "3                      Bangalore/Bengaluru   \n",
       "4  Bangalore/Bengaluru, Mumbai (All Areas)   \n",
       "5                      Bangalore/Bengaluru   \n",
       "6                      Bangalore/Bengaluru   \n",
       "7                      Bangalore/Bengaluru   \n",
       "8                      Bangalore/Bengaluru   \n",
       "9                      Bangalore/Bengaluru   \n",
       "\n",
       "                                          company description  \n",
       "0                          IBM India Pvt. Limited       desc1  \n",
       "1                          IBM India Pvt. Limited       desc2  \n",
       "2                                          Airbnb       desc3  \n",
       "3             Happiest Minds Technologies Pvt.Ltd       desc4  \n",
       "4                                  CRISIL LIMITED       desc5  \n",
       "5    ManpowerGroup Services India Private Limited       desc6  \n",
       "6                           Philips India Limited       desc7  \n",
       "7  NeenOpal Intelligent Solutions Private Limited       desc8  \n",
       "8   PRESCIENCE DECISION SOLUTIONS PRIVATE LIMITED       desc9  \n",
       "9                      ELPIS IT SOLUTIONS PVT LTD      desc10  "
      ]
     },
     "execution_count": 110,
     "metadata": {},
     "output_type": "execute_result"
    }
   ],
   "source": [
    "#answer 2 data frame.\n",
    "\n",
    "jobs=pd.DataFrame({})\n",
    "\n",
    "jobs['title']=job_titles[:10]\n",
    "jobs['location']=job_location[:10]\n",
    "jobs['company']=job_company[:10]\n",
    "jobs['description']=list\n",
    "\n",
    "jobs"
   ]
  },
  {
   "cell_type": "markdown",
   "id": "1a9f6412",
   "metadata": {},
   "source": [
    "Q3: In this question you have to scrape data using the filters available on the \n",
    "webpage as shown below:\n",
    "You have to use the location and salary filter.\n",
    "You have to scrape data for “Data Scientist” designation for first 10 job results.\n",
    "You have to scrape the job-title, job-location, company_name,\n",
    "experience_required.\n",
    "The location filter to be used is “Delhi/NCR”\n",
    "The salary filter to be used is “3-6” lakhs\n",
    "The task will be done as shown in the below steps:\n",
    "1. first get the webpage https://www.naukri.com/\n",
    "2. Enter “Data Scientist” in “Skill,Designations,Companies” field.\n",
    "3. Then click the search button.\n",
    "4. Then apply the location filter and salary filter by checking the respective boxes\n",
    "4. Then scrape the data for the first 10 jobs results you get.\n",
    "5. Finally create a dataframe of the scraped data."
   ]
  },
  {
   "cell_type": "code",
   "execution_count": 175,
   "id": "1a5add32",
   "metadata": {},
   "outputs": [],
   "source": [
    "url='https://www.naukri.com/'\n",
    "driver.get(url)"
   ]
  },
  {
   "cell_type": "code",
   "execution_count": 176,
   "id": "686a8b93",
   "metadata": {},
   "outputs": [],
   "source": [
    "search_jobs=driver.find_element_by_id('qsb-keyword-sugg')\n",
    "\n",
    "search_jobs.send_keys(\"Data Scientist\")"
   ]
  },
  {
   "cell_type": "code",
   "execution_count": 177,
   "id": "373e7536",
   "metadata": {},
   "outputs": [],
   "source": [
    "search_btn=driver.find_element_by_xpath('//button[@class=\"btn\"]')\n",
    "search_btn.click()"
   ]
  },
  {
   "cell_type": "code",
   "execution_count": 170,
   "id": "39d41031",
   "metadata": {},
   "outputs": [],
   "source": [
    "url='https://www.naukri.com/data-scientist-jobs?k=data%20scientist'\n",
    "driver.get(url)"
   ]
  },
  {
   "cell_type": "code",
   "execution_count": 196,
   "id": "a2bf80a6",
   "metadata": {},
   "outputs": [],
   "source": [
    "loca=driver.find_element_by_xpath('//label[@for=\"chk-Delhi / NCR-cityTypeGid-\"]//i')\n",
    "loca.click()"
   ]
  },
  {
   "cell_type": "code",
   "execution_count": 197,
   "id": "206fadd7",
   "metadata": {},
   "outputs": [],
   "source": [
    "salry=driver.find_element_by_xpath('//label[@for=\"chk-3-6 Lakhs-ctcFilter-\"]//i')\n",
    "salry.click()"
   ]
  },
  {
   "cell_type": "code",
   "execution_count": 199,
   "id": "4e16470c",
   "metadata": {},
   "outputs": [
    {
     "data": {
      "text/plain": [
       "['Data Analyst/Data Scientist',\n",
       " 'Data Scientist/ Machine Learning Engineer',\n",
       " 'Data Scientist / Data Analyst / Business Analytics - MNC Jobs Freshers',\n",
       " 'Data Scientist / Data Analyst',\n",
       " 'Only Fresher / Data Scientist / Data Analyst / Analytics - MNC Jobs',\n",
       " 'Immediate Openings For Data Scientist For Wipro C2H',\n",
       " 'Data Scientist',\n",
       " 'Data Scientist',\n",
       " 'Data Scientist - WFH - MIND Infotech',\n",
       " 'Junior Data Scientists & Engineers']"
      ]
     },
     "execution_count": 199,
     "metadata": {},
     "output_type": "execute_result"
    }
   ],
   "source": [
    "job_title=driver.find_elements_by_xpath('//a[@class=\"title fw500 ellipsis\"]')\n",
    "\n",
    "job_titles=[]\n",
    "for i in job_title:\n",
    "    job_titles.append(i.text)\n",
    "    \n",
    "job_titles[:10]"
   ]
  },
  {
   "cell_type": "code",
   "execution_count": 206,
   "id": "bfb39796",
   "metadata": {},
   "outputs": [
    {
     "data": {
      "text/plain": [
       "['Bangalore/Bengaluru, Delhi / NCR, Mumbai (All Areas)',\n",
       " 'Mohali/SAS Nagar, Hyderabad/Secunderabad, Ahmedabad, Gurgaon/Gurugram, Chennai, Bangalore/Bengaluru',\n",
       " 'Noida, New Delhi, Gurgaon/Gurugram',\n",
       " 'Gurgaon/Gurugram',\n",
       " 'Noida, Gurgaon/Gurugram, Delhi / NCR',\n",
       " 'Gurgaon/Gurugram',\n",
       " 'Noida',\n",
       " 'Gurgaon/Gurugram',\n",
       " 'Pune, Chennai, Bangalore/Bengaluru, Delhi / NCR, Mumbai (All Areas)',\n",
       " 'New Delhi, Delhi / NCR']"
      ]
     },
     "execution_count": 206,
     "metadata": {},
     "output_type": "execute_result"
    }
   ],
   "source": [
    "job_loc=driver.find_elements_by_xpath('//li[@class=\"fleft grey-text br2 placeHolderLi location\"]//span[1]')\n",
    "\n",
    "job_loca=[]\n",
    "for i in job_loc:\n",
    "    job_loca.append(i.text)\n",
    "    \n",
    "job_loca[:10]"
   ]
  },
  {
   "cell_type": "code",
   "execution_count": 208,
   "id": "7c9d20fa",
   "metadata": {},
   "outputs": [
    {
     "data": {
      "text/plain": [
       "['Skillenable Fintech Private Limited',\n",
       " 'Creative Hands HR Consultancy',\n",
       " 'GABA Consultancy services',\n",
       " 'CARS24',\n",
       " 'GABA Consultancy services',\n",
       " 'IDESLABS PRIVATE LIMITED',\n",
       " 'R Systems International Ltd.',\n",
       " 'PROCESS NINE TECHNOLOGIES PVT.LTD.',\n",
       " 'MOTHERSONSUMI INFOTECH & DESIGNS LIMITED',\n",
       " 'PY Consultancy']"
      ]
     },
     "execution_count": 208,
     "metadata": {},
     "output_type": "execute_result"
    }
   ],
   "source": [
    "job_com=driver.find_elements_by_xpath('//a[@class=\"subTitle ellipsis fleft\"]')\n",
    "\n",
    "job_compa=[]\n",
    "for i in job_com:\n",
    "    job_compa.append(i.text)\n",
    "    \n",
    "job_compa[:10]"
   ]
  },
  {
   "cell_type": "code",
   "execution_count": 209,
   "id": "34980710",
   "metadata": {},
   "outputs": [
    {
     "data": {
      "text/plain": [
       "['2-5 Yrs',\n",
       " '0-0 Yrs',\n",
       " '0-0 Yrs',\n",
       " '1-5 Yrs',\n",
       " '0-0 Yrs',\n",
       " '5-10 Yrs',\n",
       " '3-6 Yrs',\n",
       " '1-3 Yrs',\n",
       " '3-7 Yrs',\n",
       " '0-3 Yrs']"
      ]
     },
     "execution_count": 209,
     "metadata": {},
     "output_type": "execute_result"
    }
   ],
   "source": [
    "job_exp=driver.find_elements_by_xpath('//li[@class=\"fleft grey-text br2 placeHolderLi experience\"]//span[1]')\n",
    "\n",
    "job_exper=[]\n",
    "for i in job_exp:\n",
    "    job_exper.append(i.text)\n",
    "    \n",
    "job_exper[:10]"
   ]
  },
  {
   "cell_type": "code",
   "execution_count": 210,
   "id": "377211a7",
   "metadata": {},
   "outputs": [],
   "source": [
    "import pandas as pd"
   ]
  },
  {
   "cell_type": "code",
   "execution_count": 212,
   "id": "bec3bf46",
   "metadata": {},
   "outputs": [
    {
     "data": {
      "text/html": [
       "<div>\n",
       "<style scoped>\n",
       "    .dataframe tbody tr th:only-of-type {\n",
       "        vertical-align: middle;\n",
       "    }\n",
       "\n",
       "    .dataframe tbody tr th {\n",
       "        vertical-align: top;\n",
       "    }\n",
       "\n",
       "    .dataframe thead th {\n",
       "        text-align: right;\n",
       "    }\n",
       "</style>\n",
       "<table border=\"1\" class=\"dataframe\">\n",
       "  <thead>\n",
       "    <tr style=\"text-align: right;\">\n",
       "      <th></th>\n",
       "      <th>title</th>\n",
       "      <th>location</th>\n",
       "      <th>company</th>\n",
       "      <th>experience</th>\n",
       "    </tr>\n",
       "  </thead>\n",
       "  <tbody>\n",
       "    <tr>\n",
       "      <th>0</th>\n",
       "      <td>Data Analyst/Data Scientist</td>\n",
       "      <td>Bangalore/Bengaluru, Delhi / NCR, Mumbai (All ...</td>\n",
       "      <td>Skillenable Fintech Private Limited</td>\n",
       "      <td>2-5 Yrs</td>\n",
       "    </tr>\n",
       "    <tr>\n",
       "      <th>1</th>\n",
       "      <td>Data Scientist/ Machine Learning Engineer</td>\n",
       "      <td>Mohali/SAS Nagar, Hyderabad/Secunderabad, Ahme...</td>\n",
       "      <td>Creative Hands HR Consultancy</td>\n",
       "      <td>0-0 Yrs</td>\n",
       "    </tr>\n",
       "    <tr>\n",
       "      <th>2</th>\n",
       "      <td>Data Scientist / Data Analyst / Business Analy...</td>\n",
       "      <td>Noida, New Delhi, Gurgaon/Gurugram</td>\n",
       "      <td>GABA Consultancy services</td>\n",
       "      <td>0-0 Yrs</td>\n",
       "    </tr>\n",
       "    <tr>\n",
       "      <th>3</th>\n",
       "      <td>Data Scientist / Data Analyst</td>\n",
       "      <td>Gurgaon/Gurugram</td>\n",
       "      <td>CARS24</td>\n",
       "      <td>1-5 Yrs</td>\n",
       "    </tr>\n",
       "    <tr>\n",
       "      <th>4</th>\n",
       "      <td>Only Fresher / Data Scientist / Data Analyst /...</td>\n",
       "      <td>Noida, Gurgaon/Gurugram, Delhi / NCR</td>\n",
       "      <td>GABA Consultancy services</td>\n",
       "      <td>0-0 Yrs</td>\n",
       "    </tr>\n",
       "    <tr>\n",
       "      <th>5</th>\n",
       "      <td>Immediate Openings For Data Scientist For Wipr...</td>\n",
       "      <td>Gurgaon/Gurugram</td>\n",
       "      <td>IDESLABS PRIVATE LIMITED</td>\n",
       "      <td>5-10 Yrs</td>\n",
       "    </tr>\n",
       "    <tr>\n",
       "      <th>6</th>\n",
       "      <td>Data Scientist</td>\n",
       "      <td>Noida</td>\n",
       "      <td>R Systems International Ltd.</td>\n",
       "      <td>3-6 Yrs</td>\n",
       "    </tr>\n",
       "    <tr>\n",
       "      <th>7</th>\n",
       "      <td>Data Scientist</td>\n",
       "      <td>Gurgaon/Gurugram</td>\n",
       "      <td>PROCESS NINE TECHNOLOGIES PVT.LTD.</td>\n",
       "      <td>1-3 Yrs</td>\n",
       "    </tr>\n",
       "    <tr>\n",
       "      <th>8</th>\n",
       "      <td>Data Scientist - WFH - MIND Infotech</td>\n",
       "      <td>Pune, Chennai, Bangalore/Bengaluru, Delhi / NC...</td>\n",
       "      <td>MOTHERSONSUMI INFOTECH &amp; DESIGNS LIMITED</td>\n",
       "      <td>3-7 Yrs</td>\n",
       "    </tr>\n",
       "    <tr>\n",
       "      <th>9</th>\n",
       "      <td>Junior Data Scientists &amp; Engineers</td>\n",
       "      <td>New Delhi, Delhi / NCR</td>\n",
       "      <td>PY Consultancy</td>\n",
       "      <td>0-3 Yrs</td>\n",
       "    </tr>\n",
       "  </tbody>\n",
       "</table>\n",
       "</div>"
      ],
      "text/plain": [
       "                                               title  \\\n",
       "0                        Data Analyst/Data Scientist   \n",
       "1          Data Scientist/ Machine Learning Engineer   \n",
       "2  Data Scientist / Data Analyst / Business Analy...   \n",
       "3                      Data Scientist / Data Analyst   \n",
       "4  Only Fresher / Data Scientist / Data Analyst /...   \n",
       "5  Immediate Openings For Data Scientist For Wipr...   \n",
       "6                                     Data Scientist   \n",
       "7                                     Data Scientist   \n",
       "8               Data Scientist - WFH - MIND Infotech   \n",
       "9                 Junior Data Scientists & Engineers   \n",
       "\n",
       "                                            location  \\\n",
       "0  Bangalore/Bengaluru, Delhi / NCR, Mumbai (All ...   \n",
       "1  Mohali/SAS Nagar, Hyderabad/Secunderabad, Ahme...   \n",
       "2                 Noida, New Delhi, Gurgaon/Gurugram   \n",
       "3                                   Gurgaon/Gurugram   \n",
       "4               Noida, Gurgaon/Gurugram, Delhi / NCR   \n",
       "5                                   Gurgaon/Gurugram   \n",
       "6                                              Noida   \n",
       "7                                   Gurgaon/Gurugram   \n",
       "8  Pune, Chennai, Bangalore/Bengaluru, Delhi / NC...   \n",
       "9                             New Delhi, Delhi / NCR   \n",
       "\n",
       "                                    company experience  \n",
       "0       Skillenable Fintech Private Limited    2-5 Yrs  \n",
       "1             Creative Hands HR Consultancy    0-0 Yrs  \n",
       "2                 GABA Consultancy services    0-0 Yrs  \n",
       "3                                    CARS24    1-5 Yrs  \n",
       "4                 GABA Consultancy services    0-0 Yrs  \n",
       "5                  IDESLABS PRIVATE LIMITED   5-10 Yrs  \n",
       "6              R Systems International Ltd.    3-6 Yrs  \n",
       "7        PROCESS NINE TECHNOLOGIES PVT.LTD.    1-3 Yrs  \n",
       "8  MOTHERSONSUMI INFOTECH & DESIGNS LIMITED    3-7 Yrs  \n",
       "9                            PY Consultancy    0-3 Yrs  "
      ]
     },
     "execution_count": 212,
     "metadata": {},
     "output_type": "execute_result"
    }
   ],
   "source": [
    "#answer3 \n",
    "\n",
    "jobs=pd.DataFrame({})\n",
    "\n",
    "jobs['title']=job_titles[:10]\n",
    "jobs['location']=job_loca[:10]\n",
    "jobs['company']=job_compa[:10]\n",
    "jobs['experience']=job_exper[:10]\n",
    "\n",
    "jobs"
   ]
  },
  {
   "cell_type": "markdown",
   "id": "cbc83655",
   "metadata": {},
   "source": [
    "Q4: Write a python program to scrape data for first 10 job results for Data scientist \n",
    "Designation in Noida location. You have to scrape company_name, No. of days \n",
    "ago when job was posted, Rating of the company.\n",
    "This task will be done in following steps:\n",
    "1. first get the webpage https://www.glassdoor.co.in/index.htm\n",
    "2. Enter “Data Scientist” in “Job Title,Keyword,Company” field and enter “Noida” \n",
    "in “location” field.\n",
    "3. Then click the search button. You will land up in the below page:\n",
    "4. Then scrape the data for the first 10 jobs results you get in the above shown \n",
    "page.\n",
    "5. Finally create a dataframe of the scraped data."
   ]
  },
  {
   "cell_type": "code",
   "execution_count": 222,
   "id": "b4f77bd5",
   "metadata": {},
   "outputs": [],
   "source": [
    "url=driver.get(\"https://www.glassdoor.co.in/index.htm\")\n",
    "url"
   ]
  },
  {
   "cell_type": "code",
   "execution_count": 224,
   "id": "a7eba88d",
   "metadata": {},
   "outputs": [],
   "source": [
    "search_gd=driver.find_element_by_xpath('//input[@class=\"css-1etjok6\"]')\n",
    "search_gd.send_keys(\"Data Scientist\")"
   ]
  },
  {
   "cell_type": "code",
   "execution_count": 225,
   "id": "aca8b3d3",
   "metadata": {},
   "outputs": [],
   "source": [
    "loc_gd=driver.find_element_by_id(\"sc.location\")\n",
    "loc_gd.send_keys(\"Noida\")"
   ]
  },
  {
   "cell_type": "code",
   "execution_count": 226,
   "id": "64d15504",
   "metadata": {},
   "outputs": [],
   "source": [
    "btn_gd=driver.find_element_by_xpath('//button[@class=\"gd-ui-button ml-std col-auto search__SearchStyles__newSearchButton css-1dqvyh7\"]')\n",
    "btn_gd.click()"
   ]
  },
  {
   "cell_type": "code",
   "execution_count": 232,
   "id": "8d3c56f4",
   "metadata": {},
   "outputs": [
    {
     "data": {
      "text/plain": [
       "['Noisy Lion',\n",
       " 'Grail Insights',\n",
       " 'Liberin Technologies Private Limited',\n",
       " 'AlgoScale Technologies Private Limited',\n",
       " 'Grail Insights',\n",
       " 'Lenskart',\n",
       " 'Salasar New Age Technologies',\n",
       " 'Techlive',\n",
       " 'Ericsson',\n",
       " 'Newgen Software']"
      ]
     },
     "execution_count": 232,
     "metadata": {},
     "output_type": "execute_result"
    }
   ],
   "source": [
    "job_com=driver.find_elements_by_xpath('//div[@class=\"d-flex justify-content-between align-items-start\"]')\n",
    "\n",
    "job_comp=[]\n",
    "for i in job_com:\n",
    "    job_comp.append(i.text)\n",
    "    \n",
    "job_comp[:10]"
   ]
  },
  {
   "cell_type": "code",
   "execution_count": 233,
   "id": "31976758",
   "metadata": {},
   "outputs": [
    {
     "data": {
      "text/plain": [
       "['1d', '1d', '30d+', '15d', '1d', '3d', '30d+', '30d+', '8d', '30d+']"
      ]
     },
     "execution_count": 233,
     "metadata": {},
     "output_type": "execute_result"
    }
   ],
   "source": [
    "job_post=driver.find_elements_by_xpath('//div[@class=\"d-flex align-items-end pl-std css-17n8uzw\"]')\n",
    "\n",
    "job_posted=[]\n",
    "for i in job_post:\n",
    "    job_posted.append(i.text)\n",
    "    \n",
    "job_posted[:10]"
   ]
  },
  {
   "cell_type": "code",
   "execution_count": 236,
   "id": "a3152a38",
   "metadata": {},
   "outputs": [
    {
     "data": {
      "text/plain": [
       "['3.9', '3.5', '3.5', '3.6', '4.1', '3.3', '3.8', '3.9', '4.0', '3.8']"
      ]
     },
     "execution_count": 236,
     "metadata": {},
     "output_type": "execute_result"
    }
   ],
   "source": [
    "job_rat=driver.find_elements_by_xpath('//span[@class=\" job-search-key-srfzj0 e1cjmv6j0\"]')\n",
    "\n",
    "job_rating=[]\n",
    "for i in job_rat:\n",
    "    job_rating.append(i.text)\n",
    "    \n",
    "job_rating[:10]"
   ]
  },
  {
   "cell_type": "code",
   "execution_count": 237,
   "id": "488c9e92",
   "metadata": {},
   "outputs": [
    {
     "data": {
      "text/plain": [
       "20"
      ]
     },
     "execution_count": 237,
     "metadata": {},
     "output_type": "execute_result"
    }
   ],
   "source": [
    "len(job_rating)"
   ]
  },
  {
   "cell_type": "code",
   "execution_count": 238,
   "id": "cfb97ba3",
   "metadata": {},
   "outputs": [
    {
     "data": {
      "text/html": [
       "<div>\n",
       "<style scoped>\n",
       "    .dataframe tbody tr th:only-of-type {\n",
       "        vertical-align: middle;\n",
       "    }\n",
       "\n",
       "    .dataframe tbody tr th {\n",
       "        vertical-align: top;\n",
       "    }\n",
       "\n",
       "    .dataframe thead th {\n",
       "        text-align: right;\n",
       "    }\n",
       "</style>\n",
       "<table border=\"1\" class=\"dataframe\">\n",
       "  <thead>\n",
       "    <tr style=\"text-align: right;\">\n",
       "      <th></th>\n",
       "      <th>company</th>\n",
       "      <th>job_posted</th>\n",
       "      <th>job_rating</th>\n",
       "    </tr>\n",
       "  </thead>\n",
       "  <tbody>\n",
       "    <tr>\n",
       "      <th>0</th>\n",
       "      <td>Noisy Lion</td>\n",
       "      <td>1d</td>\n",
       "      <td>3.9</td>\n",
       "    </tr>\n",
       "    <tr>\n",
       "      <th>1</th>\n",
       "      <td>Grail Insights</td>\n",
       "      <td>1d</td>\n",
       "      <td>3.5</td>\n",
       "    </tr>\n",
       "    <tr>\n",
       "      <th>2</th>\n",
       "      <td>Liberin Technologies Private Limited</td>\n",
       "      <td>30d+</td>\n",
       "      <td>3.5</td>\n",
       "    </tr>\n",
       "    <tr>\n",
       "      <th>3</th>\n",
       "      <td>AlgoScale Technologies Private Limited</td>\n",
       "      <td>15d</td>\n",
       "      <td>3.6</td>\n",
       "    </tr>\n",
       "    <tr>\n",
       "      <th>4</th>\n",
       "      <td>Grail Insights</td>\n",
       "      <td>1d</td>\n",
       "      <td>4.1</td>\n",
       "    </tr>\n",
       "    <tr>\n",
       "      <th>5</th>\n",
       "      <td>Lenskart</td>\n",
       "      <td>3d</td>\n",
       "      <td>3.3</td>\n",
       "    </tr>\n",
       "    <tr>\n",
       "      <th>6</th>\n",
       "      <td>Salasar New Age Technologies</td>\n",
       "      <td>30d+</td>\n",
       "      <td>3.8</td>\n",
       "    </tr>\n",
       "    <tr>\n",
       "      <th>7</th>\n",
       "      <td>Techlive</td>\n",
       "      <td>30d+</td>\n",
       "      <td>3.9</td>\n",
       "    </tr>\n",
       "    <tr>\n",
       "      <th>8</th>\n",
       "      <td>Ericsson</td>\n",
       "      <td>8d</td>\n",
       "      <td>4.0</td>\n",
       "    </tr>\n",
       "    <tr>\n",
       "      <th>9</th>\n",
       "      <td>Newgen Software</td>\n",
       "      <td>30d+</td>\n",
       "      <td>3.8</td>\n",
       "    </tr>\n",
       "  </tbody>\n",
       "</table>\n",
       "</div>"
      ],
      "text/plain": [
       "                                  company job_posted job_rating\n",
       "0                              Noisy Lion         1d        3.9\n",
       "1                          Grail Insights         1d        3.5\n",
       "2    Liberin Technologies Private Limited       30d+        3.5\n",
       "3  AlgoScale Technologies Private Limited        15d        3.6\n",
       "4                          Grail Insights         1d        4.1\n",
       "5                                Lenskart         3d        3.3\n",
       "6            Salasar New Age Technologies       30d+        3.8\n",
       "7                                Techlive       30d+        3.9\n",
       "8                                Ericsson         8d        4.0\n",
       "9                         Newgen Software       30d+        3.8"
      ]
     },
     "execution_count": 238,
     "metadata": {},
     "output_type": "execute_result"
    }
   ],
   "source": [
    "#answer4\n",
    "\n",
    "jobs=pd.DataFrame({})\n",
    "jobs['company']=job_comp[:10]\n",
    "jobs['job_posted']=job_posted[:10]\n",
    "jobs['job_rating']=job_rating[:10]\n",
    "\n",
    "jobs"
   ]
  },
  {
   "cell_type": "markdown",
   "id": "a3bb98d7",
   "metadata": {},
   "source": [
    "Q5: Write a python program to scrape the salary data for Data Scientist designation \n",
    "in Noida location.\n",
    "You have to scrape Company name, Number of salaries, Average salary, Min\n",
    "salary, Max Salary.\n",
    "The above task will be, done as shown in the below steps:\n",
    "1. first get the webpage https://www.glassdoor.co.in/Salaries/index.htm\n",
    "2. Enter “Data Scientist” in Job title field and “Noida” in location field.\n",
    "3. Click the search button.\n",
    "4. After that you will land on the below page \n",
    "You have to scrape whole data from this webpage\n",
    "5. Scrape data for first 10 companies. Scrape the min salary, max salary, company \n",
    "name, Average salary and rating of the company.\n",
    "6.Store the data in a dataframe."
   ]
  },
  {
   "cell_type": "code",
   "execution_count": 243,
   "id": "625d4628",
   "metadata": {},
   "outputs": [],
   "source": [
    "url=driver.get(\"https://www.glassdoor.co.in/Salaries/index.htm\")\n",
    "url"
   ]
  },
  {
   "cell_type": "code",
   "execution_count": 244,
   "id": "ec789903",
   "metadata": {},
   "outputs": [],
   "source": [
    "search_job=driver.find_element_by_xpath('//input[@class=\"keyword\"]')\n",
    "search_job.send_keys(\"Data Scientist\")"
   ]
  },
  {
   "cell_type": "code",
   "execution_count": 245,
   "id": "fbe12e3a",
   "metadata": {},
   "outputs": [],
   "source": [
    "search_loc=driver.find_element_by_id(\"LocationSearch\")\n",
    "search_loc.send_keys(\"Noida\")"
   ]
  },
  {
   "cell_type": "code",
   "execution_count": 246,
   "id": "521f462c",
   "metadata": {},
   "outputs": [],
   "source": [
    "search_btn=driver.find_element_by_xpath('//button[@class=\"gd-btn-mkt\"]')\n",
    "search_btn.click()"
   ]
  },
  {
   "cell_type": "code",
   "execution_count": 247,
   "id": "c1210665",
   "metadata": {},
   "outputs": [
    {
     "data": {
      "text/plain": [
       "['Tata Consultancy Services',\n",
       " 'IBM',\n",
       " 'Accenture',\n",
       " 'Delhivery',\n",
       " 'Ericsson-Worldwide',\n",
       " 'UnitedHealth Group',\n",
       " 'Optum',\n",
       " 'Optum Global Solutions',\n",
       " 'Valiance Solutions',\n",
       " 'EXL Service']"
      ]
     },
     "execution_count": 247,
     "metadata": {},
     "output_type": "execute_result"
    }
   ],
   "source": [
    "job_title=driver.find_elements_by_xpath('//a[@class=\"css-f3vw95 e1aj7ssy3\"]')\n",
    "\n",
    "job_titles=[]\n",
    "for i in job_title:\n",
    "    job_titles.append(i.text)\n",
    "    \n",
    "job_titles[:10]"
   ]
  },
  {
   "cell_type": "code",
   "execution_count": 250,
   "id": "e248f9d9",
   "metadata": {},
   "outputs": [
    {
     "data": {
      "text/plain": [
       "['₹6,31,184 /yr',\n",
       " '₹9,08,246 /yr',\n",
       " '₹11,93,390 /yr',\n",
       " '₹xx,xx,xxx /yr',\n",
       " '₹x,xx,xxx /yr',\n",
       " '₹xx,xx,xxx /yr',\n",
       " '₹xx,xx,xxx /yr',\n",
       " '₹xx,xx,xxx /yr',\n",
       " '₹x,xx,xxx /yr',\n",
       " '₹xx,xx,xxx /yr']"
      ]
     },
     "execution_count": 250,
     "metadata": {},
     "output_type": "execute_result"
    }
   ],
   "source": [
    "job_pay=driver.find_elements_by_xpath('//div[@class=\"col-12 col-lg-4 px-lg-0 d-flex align-items-baseline\"]')\n",
    "\n",
    "job_paym=[]\n",
    "for i in job_pay:\n",
    "    job_paym.append(i.text.replace(\"\\n\",\"\"))\n",
    "    \n",
    "job_paym[:10]"
   ]
  },
  {
   "cell_type": "code",
   "execution_count": 258,
   "id": "a2bfa454",
   "metadata": {},
   "outputs": [
    {
     "data": {
      "text/plain": [
       "['₹4L₹13L',\n",
       " '₹1L₹28L',\n",
       " '₹6L₹23L',\n",
       " '₹xL₹xCr',\n",
       " '₹xL₹xxL',\n",
       " '₹xL₹xxL',\n",
       " '₹xL₹xxL',\n",
       " '₹xxL₹xxL',\n",
       " '₹xL₹xxL',\n",
       " '₹xL₹xxL']"
      ]
     },
     "execution_count": 258,
     "metadata": {},
     "output_type": "execute_result"
    }
   ],
   "source": [
    "job_min=driver.find_elements_by_xpath('//div[@class=\"d-flex mt-xxsm css-79elbk epuxyqn0\"]')\n",
    "\n",
    "job_mini=[]\n",
    "for i in job_min:\n",
    "    job_mini.append(i.text.replace(\"\\n\",\"\"))\n",
    "    \n",
    "job_mini[:10]"
   ]
  },
  {
   "cell_type": "code",
   "execution_count": 260,
   "id": "82bc80ae",
   "metadata": {},
   "outputs": [
    {
     "data": {
      "text/plain": [
       "['3.9', '3.9', '4.1', '3.8', '4', '3.7', '3.7', '3.9', '4.2', '3.6']"
      ]
     },
     "execution_count": 260,
     "metadata": {},
     "output_type": "execute_result"
    }
   ],
   "source": [
    "job_rat=driver.find_elements_by_xpath('//span[@class=\"m-0 css-kyx745\"]')\n",
    "\n",
    "job_rating=[]\n",
    "for i in job_rat:\n",
    "    job_rating.append(i.text.replace(\"\\n\",\"\"))\n",
    "    \n",
    "job_rating[:10]"
   ]
  },
  {
   "cell_type": "code",
   "execution_count": 265,
   "id": "7bad9af6",
   "metadata": {},
   "outputs": [
    {
     "data": {
      "text/plain": [
       "['21 salaries',\n",
       " '20 salaries',\n",
       " '15 salaries',\n",
       " '15 salaries',\n",
       " '14 salaries',\n",
       " '14 salaries',\n",
       " '10 salaries',\n",
       " '10 salaries',\n",
       " '10 salaries',\n",
       " '9 salaries']"
      ]
     },
     "execution_count": 265,
     "metadata": {},
     "output_type": "execute_result"
    }
   ],
   "source": [
    "sal=driver.find_elements_by_xpath('//div[@class=\"col-12 col-lg-auto\"]')\n",
    "\n",
    "sal_num=[]\n",
    "for i in sal:\n",
    "    sal_num.append(i.text.replace(\"\\n\",\"\"))\n",
    "    \n",
    "sal_num[:10]"
   ]
  },
  {
   "cell_type": "code",
   "execution_count": 266,
   "id": "52da2f2a",
   "metadata": {},
   "outputs": [
    {
     "data": {
      "text/html": [
       "<div>\n",
       "<style scoped>\n",
       "    .dataframe tbody tr th:only-of-type {\n",
       "        vertical-align: middle;\n",
       "    }\n",
       "\n",
       "    .dataframe tbody tr th {\n",
       "        vertical-align: top;\n",
       "    }\n",
       "\n",
       "    .dataframe thead th {\n",
       "        text-align: right;\n",
       "    }\n",
       "</style>\n",
       "<table border=\"1\" class=\"dataframe\">\n",
       "  <thead>\n",
       "    <tr style=\"text-align: right;\">\n",
       "      <th></th>\n",
       "      <th>Job Titles</th>\n",
       "      <th>Avg Sal</th>\n",
       "      <th>Min-Max</th>\n",
       "      <th>Rating</th>\n",
       "      <th>Salaries_num</th>\n",
       "    </tr>\n",
       "  </thead>\n",
       "  <tbody>\n",
       "    <tr>\n",
       "      <th>0</th>\n",
       "      <td>Tata Consultancy Services</td>\n",
       "      <td>₹6,31,184 /yr</td>\n",
       "      <td>₹4L₹13L</td>\n",
       "      <td>3.9</td>\n",
       "      <td>21 salaries</td>\n",
       "    </tr>\n",
       "    <tr>\n",
       "      <th>1</th>\n",
       "      <td>IBM</td>\n",
       "      <td>₹9,08,246 /yr</td>\n",
       "      <td>₹1L₹28L</td>\n",
       "      <td>3.9</td>\n",
       "      <td>20 salaries</td>\n",
       "    </tr>\n",
       "    <tr>\n",
       "      <th>2</th>\n",
       "      <td>Accenture</td>\n",
       "      <td>₹11,93,390 /yr</td>\n",
       "      <td>₹6L₹23L</td>\n",
       "      <td>4.1</td>\n",
       "      <td>15 salaries</td>\n",
       "    </tr>\n",
       "    <tr>\n",
       "      <th>3</th>\n",
       "      <td>Delhivery</td>\n",
       "      <td>₹xx,xx,xxx /yr</td>\n",
       "      <td>₹xL₹xCr</td>\n",
       "      <td>3.8</td>\n",
       "      <td>15 salaries</td>\n",
       "    </tr>\n",
       "    <tr>\n",
       "      <th>4</th>\n",
       "      <td>Ericsson-Worldwide</td>\n",
       "      <td>₹x,xx,xxx /yr</td>\n",
       "      <td>₹xL₹xxL</td>\n",
       "      <td>4</td>\n",
       "      <td>14 salaries</td>\n",
       "    </tr>\n",
       "    <tr>\n",
       "      <th>5</th>\n",
       "      <td>UnitedHealth Group</td>\n",
       "      <td>₹xx,xx,xxx /yr</td>\n",
       "      <td>₹xL₹xxL</td>\n",
       "      <td>3.7</td>\n",
       "      <td>14 salaries</td>\n",
       "    </tr>\n",
       "    <tr>\n",
       "      <th>6</th>\n",
       "      <td>Optum</td>\n",
       "      <td>₹xx,xx,xxx /yr</td>\n",
       "      <td>₹xL₹xxL</td>\n",
       "      <td>3.7</td>\n",
       "      <td>10 salaries</td>\n",
       "    </tr>\n",
       "    <tr>\n",
       "      <th>7</th>\n",
       "      <td>Optum Global Solutions</td>\n",
       "      <td>₹xx,xx,xxx /yr</td>\n",
       "      <td>₹xxL₹xxL</td>\n",
       "      <td>3.9</td>\n",
       "      <td>10 salaries</td>\n",
       "    </tr>\n",
       "    <tr>\n",
       "      <th>8</th>\n",
       "      <td>Valiance Solutions</td>\n",
       "      <td>₹x,xx,xxx /yr</td>\n",
       "      <td>₹xL₹xxL</td>\n",
       "      <td>4.2</td>\n",
       "      <td>10 salaries</td>\n",
       "    </tr>\n",
       "    <tr>\n",
       "      <th>9</th>\n",
       "      <td>EXL Service</td>\n",
       "      <td>₹xx,xx,xxx /yr</td>\n",
       "      <td>₹xL₹xxL</td>\n",
       "      <td>3.6</td>\n",
       "      <td>9 salaries</td>\n",
       "    </tr>\n",
       "  </tbody>\n",
       "</table>\n",
       "</div>"
      ],
      "text/plain": [
       "                  Job Titles         Avg Sal   Min-Max Rating Salaries_num\n",
       "0  Tata Consultancy Services   ₹6,31,184 /yr   ₹4L₹13L    3.9  21 salaries\n",
       "1                        IBM   ₹9,08,246 /yr   ₹1L₹28L    3.9  20 salaries\n",
       "2                  Accenture  ₹11,93,390 /yr   ₹6L₹23L    4.1  15 salaries\n",
       "3                  Delhivery  ₹xx,xx,xxx /yr   ₹xL₹xCr    3.8  15 salaries\n",
       "4         Ericsson-Worldwide   ₹x,xx,xxx /yr   ₹xL₹xxL      4  14 salaries\n",
       "5         UnitedHealth Group  ₹xx,xx,xxx /yr   ₹xL₹xxL    3.7  14 salaries\n",
       "6                      Optum  ₹xx,xx,xxx /yr   ₹xL₹xxL    3.7  10 salaries\n",
       "7     Optum Global Solutions  ₹xx,xx,xxx /yr  ₹xxL₹xxL    3.9  10 salaries\n",
       "8         Valiance Solutions   ₹x,xx,xxx /yr   ₹xL₹xxL    4.2  10 salaries\n",
       "9                EXL Service  ₹xx,xx,xxx /yr   ₹xL₹xxL    3.6   9 salaries"
      ]
     },
     "execution_count": 266,
     "metadata": {},
     "output_type": "execute_result"
    }
   ],
   "source": [
    "#Answer5\n",
    "\n",
    "jobs=pd.DataFrame({})\n",
    "jobs['Job Titles']=job_titles[:10]\n",
    "jobs['Avg Sal']=job_paym[:10]\n",
    "jobs['Min-Max']=job_mini[:10]\n",
    "jobs['Rating']=job_rating[:10]\n",
    "jobs['Salaries_num']=sal_num[:10]\n",
    "\n",
    "jobs"
   ]
  },
  {
   "cell_type": "markdown",
   "id": "09dbfe7d",
   "metadata": {},
   "source": [
    "Q6 : Scrape data of first 100 sunglasses listings on flipkart.com. You have to \n",
    "scrape four attributes:\n",
    "1. Brand\n",
    "2. Product Description\n",
    "3. Price\n",
    "4. Discount %\n",
    "\n",
    "To scrape the data you have to go through following steps:\n",
    "1. Go to flipkart webpage by url https://www.flipkart.com/\n",
    "2. Enter “sunglasses” in the search field where “search for products, brands and more” is written and click the search icon\n",
    "3. after that you will reach to a webpage having a lot of sunglasses. From this page you can scrap the required data as usual.\n",
    "4. after scraping data from the first page, go to the “Next” Button at the bottom of the page , then click on it.\n",
    "5. Now scrape data from this page as usual\n",
    "6. repeat this until you get data for 100 sunglasses"
   ]
  },
  {
   "cell_type": "code",
   "execution_count": 267,
   "id": "27767ef7",
   "metadata": {},
   "outputs": [],
   "source": [
    "url=driver.get(\"https://www.flipkart.com/\")\n",
    "url"
   ]
  },
  {
   "cell_type": "code",
   "execution_count": 269,
   "id": "186af848",
   "metadata": {},
   "outputs": [],
   "source": [
    "search=driver.find_element_by_xpath('//input[@class=\"_3704LK\"]')\n",
    "\n",
    "search.send_keys(\"sunglasses\")"
   ]
  },
  {
   "cell_type": "code",
   "execution_count": 270,
   "id": "501d1a3e",
   "metadata": {},
   "outputs": [],
   "source": [
    "btn=driver.find_element_by_xpath('//button[@class=\"L0Z3Pu\"]')\n",
    "\n",
    "btn.click()"
   ]
  },
  {
   "cell_type": "code",
   "execution_count": 273,
   "id": "ae8c9461",
   "metadata": {
    "scrolled": true
   },
   "outputs": [
    {
     "data": {
      "text/plain": [
       "['SHAAH COLLECTIONS',\n",
       " 'PIRASO',\n",
       " 'Elligator',\n",
       " 'kingsunglasses',\n",
       " 'ROYAL SON',\n",
       " 'PIRASO',\n",
       " 'Fastrack',\n",
       " 'Fastrack',\n",
       " 'kingsunglasses',\n",
       " 'ROZZETTA CRAFT',\n",
       " 'SHAAH COLLECTIONS',\n",
       " 'SHAAH COLLECTIONS',\n",
       " 'Fastrack',\n",
       " 'NuVew',\n",
       " 'SUNBEE',\n",
       " 'PHENOMENAL',\n",
       " 'kingsunglasses',\n",
       " 'Fastrack',\n",
       " 'DEIXELS',\n",
       " 'Silver Kartz',\n",
       " 'ROZZETTA CRAFT',\n",
       " 'PIRASO',\n",
       " 'ROZZETTA CRAFT',\n",
       " 'Rich Club',\n",
       " 'PIRASO',\n",
       " 'PIRASO',\n",
       " 'Fastrack',\n",
       " 'OCCARIO',\n",
       " 'ROYAL SON',\n",
       " 'Elligator',\n",
       " 'HIPPON',\n",
       " 'hipe',\n",
       " 'GANSTA',\n",
       " 'kingsunglasses',\n",
       " 'SUNBEE',\n",
       " 'ROZZETTA CRAFT',\n",
       " 'hipe',\n",
       " 'kingsunglasses',\n",
       " 'Elligator',\n",
       " 'Singco India']"
      ]
     },
     "execution_count": 273,
     "metadata": {},
     "output_type": "execute_result"
    }
   ],
   "source": [
    "brand=driver.find_elements_by_xpath('//div[@class=\"_2WkVRV\"]')\n",
    "\n",
    "brand_nam40=[]\n",
    "for i in brand:\n",
    "    brand_nam40.append(i.text.replace(\"\\n\",\"\"))\n",
    "    \n",
    "brand_nam40"
   ]
  },
  {
   "cell_type": "code",
   "execution_count": 281,
   "id": "5f68e0a3",
   "metadata": {},
   "outputs": [
    {
     "data": {
      "text/plain": [
       "40"
      ]
     },
     "execution_count": 281,
     "metadata": {},
     "output_type": "execute_result"
    }
   ],
   "source": [
    "len(brand_nam40)"
   ]
  },
  {
   "cell_type": "code",
   "execution_count": 274,
   "id": "4db57a12",
   "metadata": {
    "scrolled": true
   },
   "outputs": [
    {
     "data": {
      "text/plain": [
       "['UV Protection, Polarized, Mirrored Rectangular Sunglass...',\n",
       " 'UV Protection Aviator Sunglasses (54)',\n",
       " 'UV Protection Round Sunglasses (54)',\n",
       " 'Mirrored, UV Protection Wayfarer Sunglasses (Free Size)',\n",
       " 'UV Protection Rectangular Sunglasses (58)',\n",
       " 'UV Protection Aviator Sunglasses (54)',\n",
       " 'UV Protection Wayfarer Sunglasses (Free Size)',\n",
       " 'Gradient, UV Protection Wayfarer Sunglasses (Free Size)',\n",
       " 'UV Protection Round Sunglasses (54)',\n",
       " 'UV Protection, Gradient Rectangular Sunglasses (Free Si...',\n",
       " 'UV Protection Round Sunglasses (Free Size)',\n",
       " 'UV Protection, Polarized, Mirrored Rectangular Sunglass...',\n",
       " 'UV Protection Aviator Sunglasses (Free Size)',\n",
       " 'UV Protection, Mirrored Aviator Sunglasses (58)',\n",
       " 'UV Protection, Polarized, Mirrored Wayfarer Sunglasses ...',\n",
       " 'UV Protection Retro Square Sunglasses (Free Size)',\n",
       " 'Mirrored, UV Protection Wayfarer Sunglasses (Free Size)',\n",
       " 'UV Protection Wayfarer Sunglasses (Free Size)',\n",
       " 'UV Protection Aviator, Wayfarer Sunglasses (Free Size)',\n",
       " 'UV Protection Wayfarer Sunglasses (Free Size)',\n",
       " 'UV Protection Retro Square Sunglasses (Free Size)',\n",
       " 'UV Protection Aviator Sunglasses (54)',\n",
       " 'UV Protection, Riding Glasses Rectangular Sunglasses (F...',\n",
       " 'UV Protection, Mirrored, Gradient Round Sunglasses (51)',\n",
       " 'UV Protection Aviator Sunglasses (58)',\n",
       " 'UV Protection Butterfly Sunglasses (65)',\n",
       " 'UV Protection Wayfarer Sunglasses (57)',\n",
       " 'Others Round Sunglasses (52)',\n",
       " 'Mirrored Aviator Sunglasses (55)',\n",
       " 'Mirrored Round Sunglasses (53)',\n",
       " 'UV Protection Wayfarer Sunglasses (55)',\n",
       " 'UV Protection, Gradient, Mirrored, Riding Glasses Aviat...',\n",
       " 'UV Protection, Night Vision, Riding Glasses Aviator Sun...',\n",
       " 'UV Protection Round Sunglasses (Free Size)',\n",
       " 'UV Protection, Polarized, Mirrored Wayfarer Sunglasses ...',\n",
       " 'UV Protection, Gradient Round Sunglasses (Free Size)',\n",
       " 'UV Protection, Night Vision, Riding Glasses, Gradient, ...',\n",
       " 'UV Protection Rectangular Sunglasses (55)',\n",
       " 'UV Protection, Riding Glasses Rectangular, Retro Square...',\n",
       " 'UV Protection Aviator Sunglasses (Free Size)']"
      ]
     },
     "execution_count": 274,
     "metadata": {},
     "output_type": "execute_result"
    }
   ],
   "source": [
    "desc=driver.find_elements_by_xpath('//a[@class=\"IRpwTa\"]')\n",
    "\n",
    "desc40=[]\n",
    "for i in desc:\n",
    "    desc40.append(i.text.replace(\"\\n\",\"\"))\n",
    "    \n",
    "desc40"
   ]
  },
  {
   "cell_type": "code",
   "execution_count": 275,
   "id": "4858d4fc",
   "metadata": {},
   "outputs": [
    {
     "data": {
      "text/plain": [
       "40"
      ]
     },
     "execution_count": 275,
     "metadata": {},
     "output_type": "execute_result"
    }
   ],
   "source": [
    "len(desc40)"
   ]
  },
  {
   "cell_type": "code",
   "execution_count": 276,
   "id": "4d842cec",
   "metadata": {
    "scrolled": true
   },
   "outputs": [
    {
     "data": {
      "text/plain": [
       "['₹198',\n",
       " '₹225',\n",
       " '₹329',\n",
       " '₹269',\n",
       " '₹474',\n",
       " '₹225',\n",
       " '₹758',\n",
       " '₹509',\n",
       " '₹202',\n",
       " '₹404',\n",
       " '₹331',\n",
       " '₹215',\n",
       " '₹520',\n",
       " '₹186',\n",
       " '₹265',\n",
       " '₹399',\n",
       " '₹269',\n",
       " '₹899',\n",
       " '₹202',\n",
       " '₹246',\n",
       " '₹499',\n",
       " '₹225',\n",
       " '₹449',\n",
       " '₹215',\n",
       " '₹399',\n",
       " '₹449',\n",
       " '₹499',\n",
       " '₹179',\n",
       " '₹379',\n",
       " '₹355',\n",
       " '₹257',\n",
       " '₹209',\n",
       " '₹279',\n",
       " '₹314',\n",
       " '₹284',\n",
       " '₹449',\n",
       " '₹210',\n",
       " '₹189',\n",
       " '₹443',\n",
       " '₹334']"
      ]
     },
     "execution_count": 276,
     "metadata": {},
     "output_type": "execute_result"
    }
   ],
   "source": [
    "price=driver.find_elements_by_xpath('//div[@class=\"_30jeq3\"]')\n",
    "\n",
    "price40=[]\n",
    "for i in price:\n",
    "    price40.append(i.text.replace(\"\\n\",\"\"))\n",
    "    \n",
    "price40"
   ]
  },
  {
   "cell_type": "code",
   "execution_count": 294,
   "id": "2f2cba50",
   "metadata": {
    "scrolled": true
   },
   "outputs": [
    {
     "data": {
      "text/plain": [
       "['88% off',\n",
       " '85% off',\n",
       " '86% off',\n",
       " '89% off',\n",
       " '68% off',\n",
       " '85% off',\n",
       " '15% off',\n",
       " '36% off',\n",
       " '81% off',\n",
       " '79% off',\n",
       " '80% off',\n",
       " '78% off',\n",
       " '34% off',\n",
       " '78% off',\n",
       " '73% off',\n",
       " '80% off',\n",
       " '89% off',\n",
       " '83% off',\n",
       " '83% off',\n",
       " '77% off',\n",
       " '85% off',\n",
       " '79% off',\n",
       " '73% off',\n",
       " '84% off',\n",
       " '82% off',\n",
       " '37% off',\n",
       " '69% off',\n",
       " '74% off',\n",
       " '87% off',\n",
       " '78% off',\n",
       " '79% off',\n",
       " '86% off',\n",
       " '80% off',\n",
       " '71% off',\n",
       " '77% off',\n",
       " '83% off',\n",
       " '85% off',\n",
       " '73% off',\n",
       " '72% off']"
      ]
     },
     "execution_count": 294,
     "metadata": {},
     "output_type": "execute_result"
    }
   ],
   "source": [
    "disc=driver.find_elements_by_xpath('//div[@class=\"_25b18c\"]//span[1]')\n",
    "\n",
    "disc40=[]\n",
    "for i in disc:\n",
    "    disc40.append(i.text.replace(\"\\n\",\"\"))\n",
    "    \n",
    "disc40[:39]"
   ]
  },
  {
   "cell_type": "code",
   "execution_count": 297,
   "id": "0328e622",
   "metadata": {
    "scrolled": true
   },
   "outputs": [
    {
     "data": {
      "text/html": [
       "<div>\n",
       "<style scoped>\n",
       "    .dataframe tbody tr th:only-of-type {\n",
       "        vertical-align: middle;\n",
       "    }\n",
       "\n",
       "    .dataframe tbody tr th {\n",
       "        vertical-align: top;\n",
       "    }\n",
       "\n",
       "    .dataframe thead th {\n",
       "        text-align: right;\n",
       "    }\n",
       "</style>\n",
       "<table border=\"1\" class=\"dataframe\">\n",
       "  <thead>\n",
       "    <tr style=\"text-align: right;\">\n",
       "      <th></th>\n",
       "      <th>Brand Name</th>\n",
       "      <th>Description</th>\n",
       "      <th>Price</th>\n",
       "      <th>Discount</th>\n",
       "    </tr>\n",
       "  </thead>\n",
       "  <tbody>\n",
       "    <tr>\n",
       "      <th>0</th>\n",
       "      <td>SHAAH COLLECTIONS</td>\n",
       "      <td>UV Protection, Polarized, Mirrored Rectangular...</td>\n",
       "      <td>₹198</td>\n",
       "      <td>88% off</td>\n",
       "    </tr>\n",
       "    <tr>\n",
       "      <th>1</th>\n",
       "      <td>PIRASO</td>\n",
       "      <td>UV Protection Aviator Sunglasses (54)</td>\n",
       "      <td>₹225</td>\n",
       "      <td>85% off</td>\n",
       "    </tr>\n",
       "    <tr>\n",
       "      <th>2</th>\n",
       "      <td>Elligator</td>\n",
       "      <td>UV Protection Round Sunglasses (54)</td>\n",
       "      <td>₹329</td>\n",
       "      <td>86% off</td>\n",
       "    </tr>\n",
       "    <tr>\n",
       "      <th>3</th>\n",
       "      <td>kingsunglasses</td>\n",
       "      <td>Mirrored, UV Protection Wayfarer Sunglasses (F...</td>\n",
       "      <td>₹269</td>\n",
       "      <td>89% off</td>\n",
       "    </tr>\n",
       "    <tr>\n",
       "      <th>4</th>\n",
       "      <td>ROYAL SON</td>\n",
       "      <td>UV Protection Rectangular Sunglasses (58)</td>\n",
       "      <td>₹474</td>\n",
       "      <td>68% off</td>\n",
       "    </tr>\n",
       "    <tr>\n",
       "      <th>5</th>\n",
       "      <td>PIRASO</td>\n",
       "      <td>UV Protection Aviator Sunglasses (54)</td>\n",
       "      <td>₹225</td>\n",
       "      <td>85% off</td>\n",
       "    </tr>\n",
       "    <tr>\n",
       "      <th>6</th>\n",
       "      <td>Fastrack</td>\n",
       "      <td>UV Protection Wayfarer Sunglasses (Free Size)</td>\n",
       "      <td>₹758</td>\n",
       "      <td>15% off</td>\n",
       "    </tr>\n",
       "    <tr>\n",
       "      <th>7</th>\n",
       "      <td>Fastrack</td>\n",
       "      <td>Gradient, UV Protection Wayfarer Sunglasses (F...</td>\n",
       "      <td>₹509</td>\n",
       "      <td>36% off</td>\n",
       "    </tr>\n",
       "    <tr>\n",
       "      <th>8</th>\n",
       "      <td>kingsunglasses</td>\n",
       "      <td>UV Protection Round Sunglasses (54)</td>\n",
       "      <td>₹202</td>\n",
       "      <td>81% off</td>\n",
       "    </tr>\n",
       "    <tr>\n",
       "      <th>9</th>\n",
       "      <td>ROZZETTA CRAFT</td>\n",
       "      <td>UV Protection, Gradient Rectangular Sunglasses...</td>\n",
       "      <td>₹404</td>\n",
       "      <td>79% off</td>\n",
       "    </tr>\n",
       "    <tr>\n",
       "      <th>10</th>\n",
       "      <td>SHAAH COLLECTIONS</td>\n",
       "      <td>UV Protection Round Sunglasses (Free Size)</td>\n",
       "      <td>₹331</td>\n",
       "      <td>80% off</td>\n",
       "    </tr>\n",
       "    <tr>\n",
       "      <th>11</th>\n",
       "      <td>SHAAH COLLECTIONS</td>\n",
       "      <td>UV Protection, Polarized, Mirrored Rectangular...</td>\n",
       "      <td>₹215</td>\n",
       "      <td>78% off</td>\n",
       "    </tr>\n",
       "    <tr>\n",
       "      <th>12</th>\n",
       "      <td>Fastrack</td>\n",
       "      <td>UV Protection Aviator Sunglasses (Free Size)</td>\n",
       "      <td>₹520</td>\n",
       "      <td>34% off</td>\n",
       "    </tr>\n",
       "    <tr>\n",
       "      <th>13</th>\n",
       "      <td>NuVew</td>\n",
       "      <td>UV Protection, Mirrored Aviator Sunglasses (58)</td>\n",
       "      <td>₹186</td>\n",
       "      <td>78% off</td>\n",
       "    </tr>\n",
       "    <tr>\n",
       "      <th>14</th>\n",
       "      <td>SUNBEE</td>\n",
       "      <td>UV Protection, Polarized, Mirrored Wayfarer Su...</td>\n",
       "      <td>₹265</td>\n",
       "      <td>73% off</td>\n",
       "    </tr>\n",
       "    <tr>\n",
       "      <th>15</th>\n",
       "      <td>PHENOMENAL</td>\n",
       "      <td>UV Protection Retro Square Sunglasses (Free Size)</td>\n",
       "      <td>₹399</td>\n",
       "      <td>80% off</td>\n",
       "    </tr>\n",
       "    <tr>\n",
       "      <th>16</th>\n",
       "      <td>kingsunglasses</td>\n",
       "      <td>Mirrored, UV Protection Wayfarer Sunglasses (F...</td>\n",
       "      <td>₹269</td>\n",
       "      <td>89% off</td>\n",
       "    </tr>\n",
       "    <tr>\n",
       "      <th>17</th>\n",
       "      <td>Fastrack</td>\n",
       "      <td>UV Protection Wayfarer Sunglasses (Free Size)</td>\n",
       "      <td>₹899</td>\n",
       "      <td>83% off</td>\n",
       "    </tr>\n",
       "    <tr>\n",
       "      <th>18</th>\n",
       "      <td>DEIXELS</td>\n",
       "      <td>UV Protection Aviator, Wayfarer Sunglasses (Fr...</td>\n",
       "      <td>₹202</td>\n",
       "      <td>83% off</td>\n",
       "    </tr>\n",
       "    <tr>\n",
       "      <th>19</th>\n",
       "      <td>Silver Kartz</td>\n",
       "      <td>UV Protection Wayfarer Sunglasses (Free Size)</td>\n",
       "      <td>₹246</td>\n",
       "      <td>77% off</td>\n",
       "    </tr>\n",
       "    <tr>\n",
       "      <th>20</th>\n",
       "      <td>ROZZETTA CRAFT</td>\n",
       "      <td>UV Protection Retro Square Sunglasses (Free Size)</td>\n",
       "      <td>₹499</td>\n",
       "      <td>85% off</td>\n",
       "    </tr>\n",
       "    <tr>\n",
       "      <th>21</th>\n",
       "      <td>PIRASO</td>\n",
       "      <td>UV Protection Aviator Sunglasses (54)</td>\n",
       "      <td>₹225</td>\n",
       "      <td>79% off</td>\n",
       "    </tr>\n",
       "    <tr>\n",
       "      <th>22</th>\n",
       "      <td>ROZZETTA CRAFT</td>\n",
       "      <td>UV Protection, Riding Glasses Rectangular Sung...</td>\n",
       "      <td>₹449</td>\n",
       "      <td>73% off</td>\n",
       "    </tr>\n",
       "    <tr>\n",
       "      <th>23</th>\n",
       "      <td>Rich Club</td>\n",
       "      <td>UV Protection, Mirrored, Gradient Round Sungla...</td>\n",
       "      <td>₹215</td>\n",
       "      <td>84% off</td>\n",
       "    </tr>\n",
       "    <tr>\n",
       "      <th>24</th>\n",
       "      <td>PIRASO</td>\n",
       "      <td>UV Protection Aviator Sunglasses (58)</td>\n",
       "      <td>₹399</td>\n",
       "      <td>82% off</td>\n",
       "    </tr>\n",
       "    <tr>\n",
       "      <th>25</th>\n",
       "      <td>PIRASO</td>\n",
       "      <td>UV Protection Butterfly Sunglasses (65)</td>\n",
       "      <td>₹449</td>\n",
       "      <td>37% off</td>\n",
       "    </tr>\n",
       "    <tr>\n",
       "      <th>26</th>\n",
       "      <td>Fastrack</td>\n",
       "      <td>UV Protection Wayfarer Sunglasses (57)</td>\n",
       "      <td>₹499</td>\n",
       "      <td>69% off</td>\n",
       "    </tr>\n",
       "    <tr>\n",
       "      <th>27</th>\n",
       "      <td>OCCARIO</td>\n",
       "      <td>Others Round Sunglasses (52)</td>\n",
       "      <td>₹179</td>\n",
       "      <td>74% off</td>\n",
       "    </tr>\n",
       "    <tr>\n",
       "      <th>28</th>\n",
       "      <td>ROYAL SON</td>\n",
       "      <td>Mirrored Aviator Sunglasses (55)</td>\n",
       "      <td>₹379</td>\n",
       "      <td>87% off</td>\n",
       "    </tr>\n",
       "    <tr>\n",
       "      <th>29</th>\n",
       "      <td>Elligator</td>\n",
       "      <td>Mirrored Round Sunglasses (53)</td>\n",
       "      <td>₹355</td>\n",
       "      <td>78% off</td>\n",
       "    </tr>\n",
       "    <tr>\n",
       "      <th>30</th>\n",
       "      <td>HIPPON</td>\n",
       "      <td>UV Protection Wayfarer Sunglasses (55)</td>\n",
       "      <td>₹257</td>\n",
       "      <td>79% off</td>\n",
       "    </tr>\n",
       "    <tr>\n",
       "      <th>31</th>\n",
       "      <td>hipe</td>\n",
       "      <td>UV Protection, Gradient, Mirrored, Riding Glas...</td>\n",
       "      <td>₹209</td>\n",
       "      <td>86% off</td>\n",
       "    </tr>\n",
       "    <tr>\n",
       "      <th>32</th>\n",
       "      <td>GANSTA</td>\n",
       "      <td>UV Protection, Night Vision, Riding Glasses Av...</td>\n",
       "      <td>₹279</td>\n",
       "      <td>80% off</td>\n",
       "    </tr>\n",
       "    <tr>\n",
       "      <th>33</th>\n",
       "      <td>kingsunglasses</td>\n",
       "      <td>UV Protection Round Sunglasses (Free Size)</td>\n",
       "      <td>₹314</td>\n",
       "      <td>71% off</td>\n",
       "    </tr>\n",
       "    <tr>\n",
       "      <th>34</th>\n",
       "      <td>SUNBEE</td>\n",
       "      <td>UV Protection, Polarized, Mirrored Wayfarer Su...</td>\n",
       "      <td>₹284</td>\n",
       "      <td>77% off</td>\n",
       "    </tr>\n",
       "    <tr>\n",
       "      <th>35</th>\n",
       "      <td>ROZZETTA CRAFT</td>\n",
       "      <td>UV Protection, Gradient Round Sunglasses (Free...</td>\n",
       "      <td>₹449</td>\n",
       "      <td>83% off</td>\n",
       "    </tr>\n",
       "    <tr>\n",
       "      <th>36</th>\n",
       "      <td>hipe</td>\n",
       "      <td>UV Protection, Night Vision, Riding Glasses, G...</td>\n",
       "      <td>₹210</td>\n",
       "      <td>85% off</td>\n",
       "    </tr>\n",
       "    <tr>\n",
       "      <th>37</th>\n",
       "      <td>kingsunglasses</td>\n",
       "      <td>UV Protection Rectangular Sunglasses (55)</td>\n",
       "      <td>₹189</td>\n",
       "      <td>73% off</td>\n",
       "    </tr>\n",
       "    <tr>\n",
       "      <th>38</th>\n",
       "      <td>Elligator</td>\n",
       "      <td>UV Protection, Riding Glasses Rectangular, Ret...</td>\n",
       "      <td>₹443</td>\n",
       "      <td>72% off</td>\n",
       "    </tr>\n",
       "    <tr>\n",
       "      <th>39</th>\n",
       "      <td>Singco India</td>\n",
       "      <td>UV Protection Aviator Sunglasses (Free Size)</td>\n",
       "      <td>₹334</td>\n",
       "      <td>68% off</td>\n",
       "    </tr>\n",
       "  </tbody>\n",
       "</table>\n",
       "</div>"
      ],
      "text/plain": [
       "           Brand Name                                        Description  \\\n",
       "0   SHAAH COLLECTIONS  UV Protection, Polarized, Mirrored Rectangular...   \n",
       "1              PIRASO              UV Protection Aviator Sunglasses (54)   \n",
       "2           Elligator                UV Protection Round Sunglasses (54)   \n",
       "3      kingsunglasses  Mirrored, UV Protection Wayfarer Sunglasses (F...   \n",
       "4           ROYAL SON          UV Protection Rectangular Sunglasses (58)   \n",
       "5              PIRASO              UV Protection Aviator Sunglasses (54)   \n",
       "6            Fastrack      UV Protection Wayfarer Sunglasses (Free Size)   \n",
       "7            Fastrack  Gradient, UV Protection Wayfarer Sunglasses (F...   \n",
       "8      kingsunglasses                UV Protection Round Sunglasses (54)   \n",
       "9      ROZZETTA CRAFT  UV Protection, Gradient Rectangular Sunglasses...   \n",
       "10  SHAAH COLLECTIONS         UV Protection Round Sunglasses (Free Size)   \n",
       "11  SHAAH COLLECTIONS  UV Protection, Polarized, Mirrored Rectangular...   \n",
       "12           Fastrack       UV Protection Aviator Sunglasses (Free Size)   \n",
       "13              NuVew    UV Protection, Mirrored Aviator Sunglasses (58)   \n",
       "14             SUNBEE  UV Protection, Polarized, Mirrored Wayfarer Su...   \n",
       "15         PHENOMENAL  UV Protection Retro Square Sunglasses (Free Size)   \n",
       "16     kingsunglasses  Mirrored, UV Protection Wayfarer Sunglasses (F...   \n",
       "17           Fastrack      UV Protection Wayfarer Sunglasses (Free Size)   \n",
       "18            DEIXELS  UV Protection Aviator, Wayfarer Sunglasses (Fr...   \n",
       "19       Silver Kartz      UV Protection Wayfarer Sunglasses (Free Size)   \n",
       "20     ROZZETTA CRAFT  UV Protection Retro Square Sunglasses (Free Size)   \n",
       "21             PIRASO              UV Protection Aviator Sunglasses (54)   \n",
       "22     ROZZETTA CRAFT  UV Protection, Riding Glasses Rectangular Sung...   \n",
       "23          Rich Club  UV Protection, Mirrored, Gradient Round Sungla...   \n",
       "24             PIRASO              UV Protection Aviator Sunglasses (58)   \n",
       "25             PIRASO            UV Protection Butterfly Sunglasses (65)   \n",
       "26           Fastrack             UV Protection Wayfarer Sunglasses (57)   \n",
       "27            OCCARIO                       Others Round Sunglasses (52)   \n",
       "28          ROYAL SON                   Mirrored Aviator Sunglasses (55)   \n",
       "29          Elligator                     Mirrored Round Sunglasses (53)   \n",
       "30             HIPPON             UV Protection Wayfarer Sunglasses (55)   \n",
       "31               hipe  UV Protection, Gradient, Mirrored, Riding Glas...   \n",
       "32             GANSTA  UV Protection, Night Vision, Riding Glasses Av...   \n",
       "33     kingsunglasses         UV Protection Round Sunglasses (Free Size)   \n",
       "34             SUNBEE  UV Protection, Polarized, Mirrored Wayfarer Su...   \n",
       "35     ROZZETTA CRAFT  UV Protection, Gradient Round Sunglasses (Free...   \n",
       "36               hipe  UV Protection, Night Vision, Riding Glasses, G...   \n",
       "37     kingsunglasses          UV Protection Rectangular Sunglasses (55)   \n",
       "38          Elligator  UV Protection, Riding Glasses Rectangular, Ret...   \n",
       "39       Singco India       UV Protection Aviator Sunglasses (Free Size)   \n",
       "\n",
       "   Price Discount  \n",
       "0   ₹198  88% off  \n",
       "1   ₹225  85% off  \n",
       "2   ₹329  86% off  \n",
       "3   ₹269  89% off  \n",
       "4   ₹474  68% off  \n",
       "5   ₹225  85% off  \n",
       "6   ₹758  15% off  \n",
       "7   ₹509  36% off  \n",
       "8   ₹202  81% off  \n",
       "9   ₹404  79% off  \n",
       "10  ₹331  80% off  \n",
       "11  ₹215  78% off  \n",
       "12  ₹520  34% off  \n",
       "13  ₹186  78% off  \n",
       "14  ₹265  73% off  \n",
       "15  ₹399  80% off  \n",
       "16  ₹269  89% off  \n",
       "17  ₹899  83% off  \n",
       "18  ₹202  83% off  \n",
       "19  ₹246  77% off  \n",
       "20  ₹499  85% off  \n",
       "21  ₹225  79% off  \n",
       "22  ₹449  73% off  \n",
       "23  ₹215  84% off  \n",
       "24  ₹399  82% off  \n",
       "25  ₹449  37% off  \n",
       "26  ₹499  69% off  \n",
       "27  ₹179  74% off  \n",
       "28  ₹379  87% off  \n",
       "29  ₹355  78% off  \n",
       "30  ₹257  79% off  \n",
       "31  ₹209  86% off  \n",
       "32  ₹279  80% off  \n",
       "33  ₹314  71% off  \n",
       "34  ₹284  77% off  \n",
       "35  ₹449  83% off  \n",
       "36  ₹210  85% off  \n",
       "37  ₹189  73% off  \n",
       "38  ₹443  72% off  \n",
       "39  ₹334  68% off  "
      ]
     },
     "execution_count": 297,
     "metadata": {},
     "output_type": "execute_result"
    }
   ],
   "source": [
    "#Answer6(first 40)\n",
    "\n",
    "flip=pd.DataFrame({})\n",
    "flip['Brand Name']=brand_nam40\n",
    "flip['Description']=desc40\n",
    "flip['Price']=price40\n",
    "flip['Discount']=disc40[:40]\n",
    "\n",
    "flip"
   ]
  },
  {
   "cell_type": "code",
   "execution_count": 298,
   "id": "17c2dfbd",
   "metadata": {},
   "outputs": [],
   "source": [
    "next_pg=driver.find_element_by_xpath('//a[@class=\"ge-49M\"]')\n",
    "next_pg.click()"
   ]
  },
  {
   "cell_type": "code",
   "execution_count": 299,
   "id": "a58cf2af",
   "metadata": {
    "scrolled": true
   },
   "outputs": [
    {
     "data": {
      "text/plain": [
       "['PHENOMENAL',\n",
       " 'Fastrack',\n",
       " 'Elligator',\n",
       " 'PHENOMENAL',\n",
       " 'ROYAL SON',\n",
       " 'SRPM',\n",
       " 'Silver Kartz',\n",
       " 'Singco',\n",
       " 'PIRASO',\n",
       " 'NuVew',\n",
       " 'GANSTA',\n",
       " 'DEIXELS',\n",
       " 'povty',\n",
       " 'Singco India',\n",
       " 'ROYAL SON',\n",
       " 'GANSTA',\n",
       " 'AISLIN',\n",
       " 'SUNBEE',\n",
       " 'GANSTA',\n",
       " 'Badfella',\n",
       " 'kingsunglasses',\n",
       " 'Fravy',\n",
       " 'ROYAL SON',\n",
       " 'PHENOMENAL',\n",
       " 'Elligator',\n",
       " 'ROYAL SON',\n",
       " 'GANSTA',\n",
       " 'agera',\n",
       " 'ROYAL SON',\n",
       " 'Singco India',\n",
       " 'Singco India',\n",
       " 'ROYAL SON',\n",
       " 'GANSTA',\n",
       " 'ROYAL SON',\n",
       " 'elegante',\n",
       " 'ROZZETTA CRAFT',\n",
       " 'hipe',\n",
       " 'NuVew',\n",
       " 'NuVew',\n",
       " 'AISLIN']"
      ]
     },
     "execution_count": 299,
     "metadata": {},
     "output_type": "execute_result"
    }
   ],
   "source": [
    "brand=driver.find_elements_by_xpath('//div[@class=\"_2WkVRV\"]')\n",
    "\n",
    "brand_nam80=[]\n",
    "for i in brand:\n",
    "    brand_nam80.append(i.text.replace(\"\\n\",\"\"))\n",
    "    \n",
    "brand_nam80"
   ]
  },
  {
   "cell_type": "code",
   "execution_count": 300,
   "id": "13744291",
   "metadata": {
    "scrolled": true
   },
   "outputs": [
    {
     "data": {
      "text/plain": [
       "['UV Protection, Mirrored Retro Square Sunglasses (53)',\n",
       " 'UV Protection Aviator Sunglasses (Free Size)',\n",
       " 'UV Protection, Riding Glasses Rectangular, Retro Square...',\n",
       " 'UV Protection Round Sunglasses (53)',\n",
       " 'UV Protection Retro Square Sunglasses (88)',\n",
       " 'UV Protection Wayfarer Sunglasses (53)',\n",
       " 'UV Protection Oval Sunglasses (56)',\n",
       " 'Mirrored Aviator Sunglasses (53)',\n",
       " 'UV Protection Aviator Sunglasses (Free Size)',\n",
       " 'UV Protection Aviator Sunglasses (58)',\n",
       " 'UV Protection Aviator Sunglasses (57)',\n",
       " 'Polarized, UV Protection, Riding Glasses Wayfarer Sungl...',\n",
       " 'UV Protection Wayfarer Sunglasses (Free Size)',\n",
       " 'Riding Glasses, Others, UV Protection Wrap-around Sungl...',\n",
       " 'UV Protection Retro Square Sunglasses (88)',\n",
       " 'UV Protection, Gradient Aviator Sunglasses (55)',\n",
       " 'UV Protection, Gradient Cat-eye Sunglasses (61)',\n",
       " 'UV Protection, Polarized, Mirrored Retro Square Sunglas...',\n",
       " 'Night Vision, Riding Glasses Wayfarer Sunglasses (53)',\n",
       " 'Polarized, UV Protection Retro Square Sunglasses (53)',\n",
       " 'UV Protection, Riding Glasses, Mirrored Wayfarer Sungla...',\n",
       " 'UV Protection Retro Square Sunglasses (Free Size)',\n",
       " 'UV Protection, Gradient Wayfarer Sunglasses (55)',\n",
       " 'UV Protection Clubmaster Sunglasses (Free Size)',\n",
       " 'UV Protection Retro Square, Aviator Sunglasses (54)',\n",
       " 'UV Protection Retro Square Sunglasses (58)',\n",
       " 'UV Protection, Mirrored Wayfarer Sunglasses (53)',\n",
       " 'Gradient Aviator Sunglasses (55)',\n",
       " 'UV Protection Over-sized Sunglasses (60)',\n",
       " 'Mirrored, UV Protection, Riding Glasses, Others Wrap-ar...',\n",
       " 'UV Protection, Riding Glasses, Others Aviator, Wayfarer...',\n",
       " 'UV Protection Wayfarer Sunglasses (55)',\n",
       " 'UV Protection Aviator Sunglasses (57)',\n",
       " 'Polarized Rectangular Sunglasses (65)',\n",
       " 'Mirrored Round Sunglasses (Free Size)',\n",
       " 'Gradient, UV Protection Round Sunglasses (Free Size)',\n",
       " 'UV Protection Sports Sunglasses (Free Size)',\n",
       " 'UV Protection, Mirrored Sports Sunglasses (62)',\n",
       " 'UV Protection Wayfarer Sunglasses (56)',\n",
       " 'UV Protection, Gradient Oval Sunglasses (58)']"
      ]
     },
     "execution_count": 300,
     "metadata": {},
     "output_type": "execute_result"
    }
   ],
   "source": [
    "desc=driver.find_elements_by_xpath('//a[@class=\"IRpwTa\"]')\n",
    "\n",
    "desc80=[]\n",
    "for i in desc:\n",
    "    desc80.append(i.text.replace(\"\\n\",\"\"))\n",
    "    \n",
    "desc80"
   ]
  },
  {
   "cell_type": "code",
   "execution_count": 301,
   "id": "6e4915e0",
   "metadata": {
    "scrolled": true
   },
   "outputs": [
    {
     "data": {
      "text/plain": [
       "['₹399',\n",
       " '₹695',\n",
       " '₹398',\n",
       " '₹295',\n",
       " '₹569',\n",
       " '₹230',\n",
       " '₹284',\n",
       " '₹239',\n",
       " '₹314',\n",
       " '₹202',\n",
       " '₹269',\n",
       " '₹236',\n",
       " '₹349',\n",
       " '₹293',\n",
       " '₹569',\n",
       " '₹274',\n",
       " '₹498',\n",
       " '₹314',\n",
       " '₹198',\n",
       " '₹269',\n",
       " '₹206',\n",
       " '₹299',\n",
       " '₹203',\n",
       " '₹319',\n",
       " '₹312',\n",
       " '₹474',\n",
       " '₹221',\n",
       " '₹224',\n",
       " '₹664',\n",
       " '₹331',\n",
       " '₹225',\n",
       " '₹248',\n",
       " '₹230',\n",
       " '₹664',\n",
       " '₹399',\n",
       " '₹449',\n",
       " '₹319',\n",
       " '₹327',\n",
       " '₹186',\n",
       " '₹498']"
      ]
     },
     "execution_count": 301,
     "metadata": {},
     "output_type": "execute_result"
    }
   ],
   "source": [
    "price=driver.find_elements_by_xpath('//div[@class=\"_30jeq3\"]')\n",
    "\n",
    "price80=[]\n",
    "for i in price:\n",
    "    price80.append(i.text.replace(\"\\n\",\"\"))\n",
    "    \n",
    "price80"
   ]
  },
  {
   "cell_type": "code",
   "execution_count": 305,
   "id": "9743257e",
   "metadata": {
    "scrolled": true
   },
   "outputs": [
    {
     "data": {
      "text/plain": [
       "['80% off',\n",
       " '13% off',\n",
       " '73% off',\n",
       " '87% off',\n",
       " '71% off',\n",
       " '76% off',\n",
       " '76% off',\n",
       " '76% off',\n",
       " '80% off',\n",
       " '74% off',\n",
       " '86% off',\n",
       " '60% off',\n",
       " '65% off',\n",
       " '82% off',\n",
       " '71% off',\n",
       " '86% off',\n",
       " '70% off',\n",
       " '75% off',\n",
       " '88% off',\n",
       " '73% off',\n",
       " '82% off',\n",
       " '80% off',\n",
       " '79% off',\n",
       " '84% off',\n",
       " '84% off',\n",
       " '68% off',\n",
       " '77% off',\n",
       " '80% off',\n",
       " '66% off',\n",
       " '83% off',\n",
       " '67% off',\n",
       " '80% off',\n",
       " '78% off',\n",
       " '66% off',\n",
       " '80% off',\n",
       " '77% off',\n",
       " '83% off',\n",
       " '73% off',\n",
       " '72% off',\n",
       " '67% off']"
      ]
     },
     "execution_count": 305,
     "metadata": {},
     "output_type": "execute_result"
    }
   ],
   "source": [
    "disc=driver.find_elements_by_xpath('//div[@class=\"_25b18c\"]//span[1]')\n",
    "\n",
    "disc80=[]\n",
    "for i in disc:\n",
    "    disc80.append(i.text.replace(\"\\n\",\"\"))\n",
    "    \n",
    "disc80[:40]"
   ]
  },
  {
   "cell_type": "code",
   "execution_count": 303,
   "id": "61d0c285",
   "metadata": {},
   "outputs": [
    {
     "data": {
      "text/plain": [
       "45"
      ]
     },
     "execution_count": 303,
     "metadata": {},
     "output_type": "execute_result"
    }
   ],
   "source": [
    "len(disc80)"
   ]
  },
  {
   "cell_type": "code",
   "execution_count": 306,
   "id": "dcf86f6c",
   "metadata": {},
   "outputs": [
    {
     "data": {
      "text/html": [
       "<div>\n",
       "<style scoped>\n",
       "    .dataframe tbody tr th:only-of-type {\n",
       "        vertical-align: middle;\n",
       "    }\n",
       "\n",
       "    .dataframe tbody tr th {\n",
       "        vertical-align: top;\n",
       "    }\n",
       "\n",
       "    .dataframe thead th {\n",
       "        text-align: right;\n",
       "    }\n",
       "</style>\n",
       "<table border=\"1\" class=\"dataframe\">\n",
       "  <thead>\n",
       "    <tr style=\"text-align: right;\">\n",
       "      <th></th>\n",
       "      <th>Brand Name</th>\n",
       "      <th>Description</th>\n",
       "      <th>Price</th>\n",
       "      <th>Discount</th>\n",
       "    </tr>\n",
       "  </thead>\n",
       "  <tbody>\n",
       "    <tr>\n",
       "      <th>0</th>\n",
       "      <td>PHENOMENAL</td>\n",
       "      <td>UV Protection, Mirrored Retro Square Sunglasse...</td>\n",
       "      <td>₹399</td>\n",
       "      <td>80% off</td>\n",
       "    </tr>\n",
       "    <tr>\n",
       "      <th>1</th>\n",
       "      <td>Fastrack</td>\n",
       "      <td>UV Protection Aviator Sunglasses (Free Size)</td>\n",
       "      <td>₹695</td>\n",
       "      <td>13% off</td>\n",
       "    </tr>\n",
       "    <tr>\n",
       "      <th>2</th>\n",
       "      <td>Elligator</td>\n",
       "      <td>UV Protection, Riding Glasses Rectangular, Ret...</td>\n",
       "      <td>₹398</td>\n",
       "      <td>73% off</td>\n",
       "    </tr>\n",
       "    <tr>\n",
       "      <th>3</th>\n",
       "      <td>PHENOMENAL</td>\n",
       "      <td>UV Protection Round Sunglasses (53)</td>\n",
       "      <td>₹295</td>\n",
       "      <td>87% off</td>\n",
       "    </tr>\n",
       "    <tr>\n",
       "      <th>4</th>\n",
       "      <td>ROYAL SON</td>\n",
       "      <td>UV Protection Retro Square Sunglasses (88)</td>\n",
       "      <td>₹569</td>\n",
       "      <td>71% off</td>\n",
       "    </tr>\n",
       "    <tr>\n",
       "      <th>5</th>\n",
       "      <td>SRPM</td>\n",
       "      <td>UV Protection Wayfarer Sunglasses (53)</td>\n",
       "      <td>₹230</td>\n",
       "      <td>76% off</td>\n",
       "    </tr>\n",
       "    <tr>\n",
       "      <th>6</th>\n",
       "      <td>Silver Kartz</td>\n",
       "      <td>UV Protection Oval Sunglasses (56)</td>\n",
       "      <td>₹284</td>\n",
       "      <td>76% off</td>\n",
       "    </tr>\n",
       "    <tr>\n",
       "      <th>7</th>\n",
       "      <td>Singco</td>\n",
       "      <td>Mirrored Aviator Sunglasses (53)</td>\n",
       "      <td>₹239</td>\n",
       "      <td>76% off</td>\n",
       "    </tr>\n",
       "    <tr>\n",
       "      <th>8</th>\n",
       "      <td>PIRASO</td>\n",
       "      <td>UV Protection Aviator Sunglasses (Free Size)</td>\n",
       "      <td>₹314</td>\n",
       "      <td>80% off</td>\n",
       "    </tr>\n",
       "    <tr>\n",
       "      <th>9</th>\n",
       "      <td>NuVew</td>\n",
       "      <td>UV Protection Aviator Sunglasses (58)</td>\n",
       "      <td>₹202</td>\n",
       "      <td>74% off</td>\n",
       "    </tr>\n",
       "    <tr>\n",
       "      <th>10</th>\n",
       "      <td>GANSTA</td>\n",
       "      <td>UV Protection Aviator Sunglasses (57)</td>\n",
       "      <td>₹269</td>\n",
       "      <td>86% off</td>\n",
       "    </tr>\n",
       "    <tr>\n",
       "      <th>11</th>\n",
       "      <td>DEIXELS</td>\n",
       "      <td>Polarized, UV Protection, Riding Glasses Wayfa...</td>\n",
       "      <td>₹236</td>\n",
       "      <td>60% off</td>\n",
       "    </tr>\n",
       "    <tr>\n",
       "      <th>12</th>\n",
       "      <td>povty</td>\n",
       "      <td>UV Protection Wayfarer Sunglasses (Free Size)</td>\n",
       "      <td>₹349</td>\n",
       "      <td>65% off</td>\n",
       "    </tr>\n",
       "    <tr>\n",
       "      <th>13</th>\n",
       "      <td>Singco India</td>\n",
       "      <td>Riding Glasses, Others, UV Protection Wrap-aro...</td>\n",
       "      <td>₹293</td>\n",
       "      <td>82% off</td>\n",
       "    </tr>\n",
       "    <tr>\n",
       "      <th>14</th>\n",
       "      <td>ROYAL SON</td>\n",
       "      <td>UV Protection Retro Square Sunglasses (88)</td>\n",
       "      <td>₹569</td>\n",
       "      <td>71% off</td>\n",
       "    </tr>\n",
       "    <tr>\n",
       "      <th>15</th>\n",
       "      <td>GANSTA</td>\n",
       "      <td>UV Protection, Gradient Aviator Sunglasses (55)</td>\n",
       "      <td>₹274</td>\n",
       "      <td>86% off</td>\n",
       "    </tr>\n",
       "    <tr>\n",
       "      <th>16</th>\n",
       "      <td>AISLIN</td>\n",
       "      <td>UV Protection, Gradient Cat-eye Sunglasses (61)</td>\n",
       "      <td>₹498</td>\n",
       "      <td>70% off</td>\n",
       "    </tr>\n",
       "    <tr>\n",
       "      <th>17</th>\n",
       "      <td>SUNBEE</td>\n",
       "      <td>UV Protection, Polarized, Mirrored Retro Squar...</td>\n",
       "      <td>₹314</td>\n",
       "      <td>75% off</td>\n",
       "    </tr>\n",
       "    <tr>\n",
       "      <th>18</th>\n",
       "      <td>GANSTA</td>\n",
       "      <td>Night Vision, Riding Glasses Wayfarer Sunglass...</td>\n",
       "      <td>₹198</td>\n",
       "      <td>88% off</td>\n",
       "    </tr>\n",
       "    <tr>\n",
       "      <th>19</th>\n",
       "      <td>Badfella</td>\n",
       "      <td>Polarized, UV Protection Retro Square Sunglass...</td>\n",
       "      <td>₹269</td>\n",
       "      <td>73% off</td>\n",
       "    </tr>\n",
       "    <tr>\n",
       "      <th>20</th>\n",
       "      <td>kingsunglasses</td>\n",
       "      <td>UV Protection, Riding Glasses, Mirrored Wayfar...</td>\n",
       "      <td>₹206</td>\n",
       "      <td>82% off</td>\n",
       "    </tr>\n",
       "    <tr>\n",
       "      <th>21</th>\n",
       "      <td>Fravy</td>\n",
       "      <td>UV Protection Retro Square Sunglasses (Free Size)</td>\n",
       "      <td>₹299</td>\n",
       "      <td>80% off</td>\n",
       "    </tr>\n",
       "    <tr>\n",
       "      <th>22</th>\n",
       "      <td>ROYAL SON</td>\n",
       "      <td>UV Protection, Gradient Wayfarer Sunglasses (55)</td>\n",
       "      <td>₹203</td>\n",
       "      <td>79% off</td>\n",
       "    </tr>\n",
       "    <tr>\n",
       "      <th>23</th>\n",
       "      <td>PHENOMENAL</td>\n",
       "      <td>UV Protection Clubmaster Sunglasses (Free Size)</td>\n",
       "      <td>₹319</td>\n",
       "      <td>84% off</td>\n",
       "    </tr>\n",
       "    <tr>\n",
       "      <th>24</th>\n",
       "      <td>Elligator</td>\n",
       "      <td>UV Protection Retro Square, Aviator Sunglasses...</td>\n",
       "      <td>₹312</td>\n",
       "      <td>84% off</td>\n",
       "    </tr>\n",
       "    <tr>\n",
       "      <th>25</th>\n",
       "      <td>ROYAL SON</td>\n",
       "      <td>UV Protection Retro Square Sunglasses (58)</td>\n",
       "      <td>₹474</td>\n",
       "      <td>68% off</td>\n",
       "    </tr>\n",
       "    <tr>\n",
       "      <th>26</th>\n",
       "      <td>GANSTA</td>\n",
       "      <td>UV Protection, Mirrored Wayfarer Sunglasses (53)</td>\n",
       "      <td>₹221</td>\n",
       "      <td>77% off</td>\n",
       "    </tr>\n",
       "    <tr>\n",
       "      <th>27</th>\n",
       "      <td>agera</td>\n",
       "      <td>Gradient Aviator Sunglasses (55)</td>\n",
       "      <td>₹224</td>\n",
       "      <td>80% off</td>\n",
       "    </tr>\n",
       "    <tr>\n",
       "      <th>28</th>\n",
       "      <td>ROYAL SON</td>\n",
       "      <td>UV Protection Over-sized Sunglasses (60)</td>\n",
       "      <td>₹664</td>\n",
       "      <td>66% off</td>\n",
       "    </tr>\n",
       "    <tr>\n",
       "      <th>29</th>\n",
       "      <td>Singco India</td>\n",
       "      <td>Mirrored, UV Protection, Riding Glasses, Other...</td>\n",
       "      <td>₹331</td>\n",
       "      <td>83% off</td>\n",
       "    </tr>\n",
       "    <tr>\n",
       "      <th>30</th>\n",
       "      <td>Singco India</td>\n",
       "      <td>UV Protection, Riding Glasses, Others Aviator,...</td>\n",
       "      <td>₹225</td>\n",
       "      <td>67% off</td>\n",
       "    </tr>\n",
       "    <tr>\n",
       "      <th>31</th>\n",
       "      <td>ROYAL SON</td>\n",
       "      <td>UV Protection Wayfarer Sunglasses (55)</td>\n",
       "      <td>₹248</td>\n",
       "      <td>80% off</td>\n",
       "    </tr>\n",
       "    <tr>\n",
       "      <th>32</th>\n",
       "      <td>GANSTA</td>\n",
       "      <td>UV Protection Aviator Sunglasses (57)</td>\n",
       "      <td>₹230</td>\n",
       "      <td>78% off</td>\n",
       "    </tr>\n",
       "    <tr>\n",
       "      <th>33</th>\n",
       "      <td>ROYAL SON</td>\n",
       "      <td>Polarized Rectangular Sunglasses (65)</td>\n",
       "      <td>₹664</td>\n",
       "      <td>66% off</td>\n",
       "    </tr>\n",
       "    <tr>\n",
       "      <th>34</th>\n",
       "      <td>elegante</td>\n",
       "      <td>Mirrored Round Sunglasses (Free Size)</td>\n",
       "      <td>₹399</td>\n",
       "      <td>80% off</td>\n",
       "    </tr>\n",
       "    <tr>\n",
       "      <th>35</th>\n",
       "      <td>ROZZETTA CRAFT</td>\n",
       "      <td>Gradient, UV Protection Round Sunglasses (Free...</td>\n",
       "      <td>₹449</td>\n",
       "      <td>77% off</td>\n",
       "    </tr>\n",
       "    <tr>\n",
       "      <th>36</th>\n",
       "      <td>hipe</td>\n",
       "      <td>UV Protection Sports Sunglasses (Free Size)</td>\n",
       "      <td>₹319</td>\n",
       "      <td>83% off</td>\n",
       "    </tr>\n",
       "    <tr>\n",
       "      <th>37</th>\n",
       "      <td>NuVew</td>\n",
       "      <td>UV Protection, Mirrored Sports Sunglasses (62)</td>\n",
       "      <td>₹327</td>\n",
       "      <td>73% off</td>\n",
       "    </tr>\n",
       "    <tr>\n",
       "      <th>38</th>\n",
       "      <td>NuVew</td>\n",
       "      <td>UV Protection Wayfarer Sunglasses (56)</td>\n",
       "      <td>₹186</td>\n",
       "      <td>72% off</td>\n",
       "    </tr>\n",
       "    <tr>\n",
       "      <th>39</th>\n",
       "      <td>AISLIN</td>\n",
       "      <td>UV Protection, Gradient Oval Sunglasses (58)</td>\n",
       "      <td>₹498</td>\n",
       "      <td>67% off</td>\n",
       "    </tr>\n",
       "  </tbody>\n",
       "</table>\n",
       "</div>"
      ],
      "text/plain": [
       "        Brand Name                                        Description Price  \\\n",
       "0       PHENOMENAL  UV Protection, Mirrored Retro Square Sunglasse...  ₹399   \n",
       "1         Fastrack       UV Protection Aviator Sunglasses (Free Size)  ₹695   \n",
       "2        Elligator  UV Protection, Riding Glasses Rectangular, Ret...  ₹398   \n",
       "3       PHENOMENAL                UV Protection Round Sunglasses (53)  ₹295   \n",
       "4        ROYAL SON         UV Protection Retro Square Sunglasses (88)  ₹569   \n",
       "5             SRPM             UV Protection Wayfarer Sunglasses (53)  ₹230   \n",
       "6     Silver Kartz                 UV Protection Oval Sunglasses (56)  ₹284   \n",
       "7           Singco                   Mirrored Aviator Sunglasses (53)  ₹239   \n",
       "8           PIRASO       UV Protection Aviator Sunglasses (Free Size)  ₹314   \n",
       "9            NuVew              UV Protection Aviator Sunglasses (58)  ₹202   \n",
       "10          GANSTA              UV Protection Aviator Sunglasses (57)  ₹269   \n",
       "11         DEIXELS  Polarized, UV Protection, Riding Glasses Wayfa...  ₹236   \n",
       "12           povty      UV Protection Wayfarer Sunglasses (Free Size)  ₹349   \n",
       "13    Singco India  Riding Glasses, Others, UV Protection Wrap-aro...  ₹293   \n",
       "14       ROYAL SON         UV Protection Retro Square Sunglasses (88)  ₹569   \n",
       "15          GANSTA    UV Protection, Gradient Aviator Sunglasses (55)  ₹274   \n",
       "16          AISLIN    UV Protection, Gradient Cat-eye Sunglasses (61)  ₹498   \n",
       "17          SUNBEE  UV Protection, Polarized, Mirrored Retro Squar...  ₹314   \n",
       "18          GANSTA  Night Vision, Riding Glasses Wayfarer Sunglass...  ₹198   \n",
       "19        Badfella  Polarized, UV Protection Retro Square Sunglass...  ₹269   \n",
       "20  kingsunglasses  UV Protection, Riding Glasses, Mirrored Wayfar...  ₹206   \n",
       "21           Fravy  UV Protection Retro Square Sunglasses (Free Size)  ₹299   \n",
       "22       ROYAL SON   UV Protection, Gradient Wayfarer Sunglasses (55)  ₹203   \n",
       "23      PHENOMENAL    UV Protection Clubmaster Sunglasses (Free Size)  ₹319   \n",
       "24       Elligator  UV Protection Retro Square, Aviator Sunglasses...  ₹312   \n",
       "25       ROYAL SON         UV Protection Retro Square Sunglasses (58)  ₹474   \n",
       "26          GANSTA   UV Protection, Mirrored Wayfarer Sunglasses (53)  ₹221   \n",
       "27           agera                   Gradient Aviator Sunglasses (55)  ₹224   \n",
       "28       ROYAL SON           UV Protection Over-sized Sunglasses (60)  ₹664   \n",
       "29    Singco India  Mirrored, UV Protection, Riding Glasses, Other...  ₹331   \n",
       "30    Singco India  UV Protection, Riding Glasses, Others Aviator,...  ₹225   \n",
       "31       ROYAL SON             UV Protection Wayfarer Sunglasses (55)  ₹248   \n",
       "32          GANSTA              UV Protection Aviator Sunglasses (57)  ₹230   \n",
       "33       ROYAL SON              Polarized Rectangular Sunglasses (65)  ₹664   \n",
       "34        elegante              Mirrored Round Sunglasses (Free Size)  ₹399   \n",
       "35  ROZZETTA CRAFT  Gradient, UV Protection Round Sunglasses (Free...  ₹449   \n",
       "36            hipe        UV Protection Sports Sunglasses (Free Size)  ₹319   \n",
       "37           NuVew     UV Protection, Mirrored Sports Sunglasses (62)  ₹327   \n",
       "38           NuVew             UV Protection Wayfarer Sunglasses (56)  ₹186   \n",
       "39          AISLIN       UV Protection, Gradient Oval Sunglasses (58)  ₹498   \n",
       "\n",
       "   Discount  \n",
       "0   80% off  \n",
       "1   13% off  \n",
       "2   73% off  \n",
       "3   87% off  \n",
       "4   71% off  \n",
       "5   76% off  \n",
       "6   76% off  \n",
       "7   76% off  \n",
       "8   80% off  \n",
       "9   74% off  \n",
       "10  86% off  \n",
       "11  60% off  \n",
       "12  65% off  \n",
       "13  82% off  \n",
       "14  71% off  \n",
       "15  86% off  \n",
       "16  70% off  \n",
       "17  75% off  \n",
       "18  88% off  \n",
       "19  73% off  \n",
       "20  82% off  \n",
       "21  80% off  \n",
       "22  79% off  \n",
       "23  84% off  \n",
       "24  84% off  \n",
       "25  68% off  \n",
       "26  77% off  \n",
       "27  80% off  \n",
       "28  66% off  \n",
       "29  83% off  \n",
       "30  67% off  \n",
       "31  80% off  \n",
       "32  78% off  \n",
       "33  66% off  \n",
       "34  80% off  \n",
       "35  77% off  \n",
       "36  83% off  \n",
       "37  73% off  \n",
       "38  72% off  \n",
       "39  67% off  "
      ]
     },
     "execution_count": 306,
     "metadata": {},
     "output_type": "execute_result"
    }
   ],
   "source": [
    "#Answer6(next 40)\n",
    "\n",
    "flip=pd.DataFrame({})\n",
    "flip['Brand Name']=brand_nam80\n",
    "flip['Description']=desc80\n",
    "flip['Price']=price80\n",
    "flip['Discount']=disc80[:40]\n",
    "\n",
    "flip"
   ]
  },
  {
   "cell_type": "code",
   "execution_count": 344,
   "id": "b1399563",
   "metadata": {},
   "outputs": [
    {
     "data": {
      "text/plain": [
       "'https://www.flipkart.com/search?q=sunglasses&otracker=search&otracker1=search&marketplace=FLIPKART&as-show=on&as=off&page=3'"
      ]
     },
     "execution_count": 344,
     "metadata": {},
     "output_type": "execute_result"
    }
   ],
   "source": [
    "next_pg3=driver.find_elements_by_xpath('//nav[@class=\"yFHi8N\"]//a')\n",
    "\n",
    "nxt_pg=[]\n",
    "for i in next_pg3:\n",
    "    nxt_pg.append(i.get_attribute('href'))\n",
    "    \n",
    "nxt_pg[3]"
   ]
  },
  {
   "cell_type": "code",
   "execution_count": 346,
   "id": "246b2bbe",
   "metadata": {},
   "outputs": [
    {
     "ename": "NameError",
     "evalue": "name 'By' is not defined",
     "output_type": "error",
     "traceback": [
      "\u001b[1;31m---------------------------------------------------------------------------\u001b[0m",
      "\u001b[1;31mNameError\u001b[0m                                 Traceback (most recent call last)",
      "\u001b[1;32m<ipython-input-346-4ee3ff5c0b2b>\u001b[0m in \u001b[0;36m<module>\u001b[1;34m\u001b[0m\n\u001b[1;32m----> 1\u001b[1;33m \u001b[0mdriver\u001b[0m\u001b[1;33m.\u001b[0m\u001b[0mfind_elements\u001b[0m\u001b[1;33m(\u001b[0m\u001b[0mBy\u001b[0m\u001b[1;33m.\u001b[0m\u001b[0mXPATH\u001b[0m\u001b[1;33m,\u001b[0m\u001b[1;34m\"//nav[@class='yFHi8N']/a\"\u001b[0m\u001b[1;33m)\u001b[0m\u001b[1;33m[\u001b[0m\u001b[1;33m-\u001b[0m\u001b[1;36m1\u001b[0m\u001b[1;33m]\u001b[0m\u001b[1;33m.\u001b[0m\u001b[0mclick\u001b[0m\u001b[1;33m(\u001b[0m\u001b[1;33m)\u001b[0m\u001b[1;33m\u001b[0m\u001b[1;33m\u001b[0m\u001b[0m\n\u001b[0m\u001b[0;32m      2\u001b[0m \u001b[0mtime\u001b[0m\u001b[1;33m.\u001b[0m\u001b[0msleep\u001b[0m\u001b[1;33m(\u001b[0m\u001b[1;36m2\u001b[0m\u001b[1;33m)\u001b[0m\u001b[1;33m\u001b[0m\u001b[1;33m\u001b[0m\u001b[0m\n",
      "\u001b[1;31mNameError\u001b[0m: name 'By' is not defined"
     ]
    }
   ],
   "source": [
    "next_page3=driver.find_elements(By.XPATH,\"//nav[@class='yFHi8N']/a\")[-1].click()\n",
    "time.sleep(2)"
   ]
  },
  {
   "cell_type": "markdown",
   "id": "03991df7",
   "metadata": {},
   "source": [
    "Q7: Scrape 100 reviews data from flipkart.com for iphone11 phone. You have to \n",
    "go the link: https://www.flipkart.com/apple-iphone-11-black-64-gb-includes\u0002earpods-power\u0002adapter/p/itm0f37c2240b217?pid=MOBFKCTSVZAXUHGR&lid=LSTMOBFKC\n",
    "TSVZAXUHGREPBFGI&marketplace.\n",
    "As shown in the above page you have to scrape the tick marked attributes.\n",
    "These are \n",
    "1. Rating \n",
    "2. Review_summary \n",
    "3. Full review\n",
    "You have to scrape this data for first 100 reviews.\n"
   ]
  },
  {
   "cell_type": "code",
   "execution_count": 5,
   "id": "0c6cd9dc",
   "metadata": {},
   "outputs": [],
   "source": [
    "url=driver.get(\"https://www.flipkart.com/apple-iphone-11-black-64-gb-includes-earpods-power-adapter/p/itm0f37c2240b217?pid=MOBFKCTSVZAXUHGR&lid=LSTMOBFKCTSVZAXUHGREPBFGI&marketplace\")\n",
    "url"
   ]
  },
  {
   "cell_type": "code",
   "execution_count": 8,
   "id": "babe12f0",
   "metadata": {},
   "outputs": [
    {
     "data": {
      "text/plain": [
       "['5', '5', '5', '5', '5', '5', '5', '4', '5', '5']"
      ]
     },
     "execution_count": 8,
     "metadata": {},
     "output_type": "execute_result"
    }
   ],
   "source": [
    "rati=driver.find_elements_by_xpath('//div[@class=\"_3LWZlK _1BLPMq\"]')\n",
    "\n",
    "rating=[]\n",
    "for i in rati:\n",
    "    rating.append(i.text)\n",
    "    \n",
    "rating"
   ]
  },
  {
   "cell_type": "code",
   "execution_count": 11,
   "id": "8b1e2702",
   "metadata": {},
   "outputs": [
    {
     "data": {
      "text/plain": [
       "['Brilliant',\n",
       " 'Simply awesome',\n",
       " 'Best in the market!',\n",
       " 'Perfect product!',\n",
       " 'Fabulous!',\n",
       " 'Worth every penny',\n",
       " 'Great product',\n",
       " 'Good choice',\n",
       " 'Worth every penny',\n",
       " 'Highly recommended']"
      ]
     },
     "execution_count": 11,
     "metadata": {},
     "output_type": "execute_result"
    }
   ],
   "source": [
    "rev=driver.find_elements_by_xpath('//p[@class=\"_2-N8zT\"]')\n",
    "\n",
    "review=[]\n",
    "for i in rev:\n",
    "    review.append(i.text)\n",
    "    \n",
    "review"
   ]
  },
  {
   "cell_type": "code",
   "execution_count": 13,
   "id": "fc25df7e",
   "metadata": {},
   "outputs": [
    {
     "data": {
      "text/plain": [
       "['The Best Phone for the Money  The iPhone 11 offers superb cameras, a more durable design and excellent battery life for an affordable price.  Compelling ultra-wide camera New Night mode is excellent Long battery life',\n",
       " 'Really satisfied with the Product I received... It’s totally genuine and the packaging was also really good so if ur planning to buy just go for it.',\n",
       " 'Great iPhone very snappy experience as apple kind. Upgraded from iPhone 7. Pros -Camera top class - Battery top performed -Chipset no need to say as apple kind -Security as you expect from apple - Display super bright industry leading colour accuracy and super responsive -Build quality as expect from apple sturdy premium durable beautiful stylish. -Os most stable os in smartphone industry  Cons -No 5G -Display is not based on OLED technology -Charger headphones and 1 apple stic... READ MORE',\n",
       " 'Amazing phone with great cameras and better battery which gives you the best performance. I just love the camera .',\n",
       " 'This is my first iOS phone. I am very happy with this product. Very much satisfied with this. I love this phone.',\n",
       " 'Previously I was using one plus 3t it was a great phone And then I decided to upgrade I am stuck between Samsung s10 plus or iPhone 11 I have seen the specs and everything were good except the display it’s somewhere between 720-1080 and it’s not even an amoled it’s an LCD display But I decided to go with iPhone because I have never used an IOS device I have Been an android user from the past 9 years I ordered IPhone 11 (128gb) product red My experience after using 3 weeks 1. The delivery ... READ MORE',\n",
       " 'Amazing Powerful and Durable Gadget.  I’m am very happy with the camera picture quality, Amazing face id unlocked in dark room, Strong battery with perfect screen size as you can carry easily in pocket. This is my third iPhone.  I shifted from android Samsung Note series to iPhone because of the strong build quality and peace of mind for next 3-4 years.  Don’t think to much just go for it and I suggest you to go for minimum 128gb variant or more 256gb.  I’ve attached my puppy pics and no fi... READ MORE',\n",
       " 'So far it’s been an AMAZING experience coming back to iOS after nearly a decade but it’s not as versatile as android though phone is sturdy dropped it accidentally a couple of times and nothing happened fortunately camera is awesome',\n",
       " 'i11 is worthy to buy, too much happy with the product. Thank u flipkart I received the item on time..loved it..',\n",
       " 'What a camera .....just awesome ..you can feel this iPhone just awesome . Good for gaming also ...try pubg in hd it’s just wow']"
      ]
     },
     "execution_count": 13,
     "metadata": {},
     "output_type": "execute_result"
    }
   ],
   "source": [
    "desc=driver.find_elements_by_xpath('//div[@class=\"t-ZTKy\"]')\n",
    "\n",
    "descrip=[]\n",
    "for i in desc:\n",
    "    descrip.append(i.text.replace(\"\\n\",\" \"))\n",
    "    \n",
    "descrip"
   ]
  },
  {
   "cell_type": "code",
   "execution_count": 14,
   "id": "1d0d5075",
   "metadata": {},
   "outputs": [
    {
     "data": {
      "text/plain": [
       "10"
      ]
     },
     "execution_count": 14,
     "metadata": {},
     "output_type": "execute_result"
    }
   ],
   "source": [
    "len(descrip)"
   ]
  },
  {
   "cell_type": "code",
   "execution_count": 15,
   "id": "4e0355b0",
   "metadata": {},
   "outputs": [
    {
     "data": {
      "text/html": [
       "<div>\n",
       "<style scoped>\n",
       "    .dataframe tbody tr th:only-of-type {\n",
       "        vertical-align: middle;\n",
       "    }\n",
       "\n",
       "    .dataframe tbody tr th {\n",
       "        vertical-align: top;\n",
       "    }\n",
       "\n",
       "    .dataframe thead th {\n",
       "        text-align: right;\n",
       "    }\n",
       "</style>\n",
       "<table border=\"1\" class=\"dataframe\">\n",
       "  <thead>\n",
       "    <tr style=\"text-align: right;\">\n",
       "      <th></th>\n",
       "      <th>rating</th>\n",
       "      <th>review</th>\n",
       "      <th>description</th>\n",
       "    </tr>\n",
       "  </thead>\n",
       "  <tbody>\n",
       "    <tr>\n",
       "      <th>0</th>\n",
       "      <td>5</td>\n",
       "      <td>Brilliant</td>\n",
       "      <td>The Best Phone for the Money  The iPhone 11 of...</td>\n",
       "    </tr>\n",
       "    <tr>\n",
       "      <th>1</th>\n",
       "      <td>5</td>\n",
       "      <td>Simply awesome</td>\n",
       "      <td>Really satisfied with the Product I received.....</td>\n",
       "    </tr>\n",
       "    <tr>\n",
       "      <th>2</th>\n",
       "      <td>5</td>\n",
       "      <td>Best in the market!</td>\n",
       "      <td>Great iPhone very snappy experience as apple k...</td>\n",
       "    </tr>\n",
       "    <tr>\n",
       "      <th>3</th>\n",
       "      <td>5</td>\n",
       "      <td>Perfect product!</td>\n",
       "      <td>Amazing phone with great cameras and better ba...</td>\n",
       "    </tr>\n",
       "    <tr>\n",
       "      <th>4</th>\n",
       "      <td>5</td>\n",
       "      <td>Fabulous!</td>\n",
       "      <td>This is my first iOS phone. I am very happy wi...</td>\n",
       "    </tr>\n",
       "    <tr>\n",
       "      <th>5</th>\n",
       "      <td>5</td>\n",
       "      <td>Worth every penny</td>\n",
       "      <td>Previously I was using one plus 3t it was a gr...</td>\n",
       "    </tr>\n",
       "    <tr>\n",
       "      <th>6</th>\n",
       "      <td>5</td>\n",
       "      <td>Great product</td>\n",
       "      <td>Amazing Powerful and Durable Gadget.  I’m am v...</td>\n",
       "    </tr>\n",
       "    <tr>\n",
       "      <th>7</th>\n",
       "      <td>4</td>\n",
       "      <td>Good choice</td>\n",
       "      <td>So far it’s been an AMAZING experience coming ...</td>\n",
       "    </tr>\n",
       "    <tr>\n",
       "      <th>8</th>\n",
       "      <td>5</td>\n",
       "      <td>Worth every penny</td>\n",
       "      <td>i11 is worthy to buy, too much happy with the ...</td>\n",
       "    </tr>\n",
       "    <tr>\n",
       "      <th>9</th>\n",
       "      <td>5</td>\n",
       "      <td>Highly recommended</td>\n",
       "      <td>What a camera .....just awesome ..you can feel...</td>\n",
       "    </tr>\n",
       "  </tbody>\n",
       "</table>\n",
       "</div>"
      ],
      "text/plain": [
       "  rating               review  \\\n",
       "0      5            Brilliant   \n",
       "1      5       Simply awesome   \n",
       "2      5  Best in the market!   \n",
       "3      5     Perfect product!   \n",
       "4      5            Fabulous!   \n",
       "5      5    Worth every penny   \n",
       "6      5        Great product   \n",
       "7      4          Good choice   \n",
       "8      5    Worth every penny   \n",
       "9      5   Highly recommended   \n",
       "\n",
       "                                         description  \n",
       "0  The Best Phone for the Money  The iPhone 11 of...  \n",
       "1  Really satisfied with the Product I received.....  \n",
       "2  Great iPhone very snappy experience as apple k...  \n",
       "3  Amazing phone with great cameras and better ba...  \n",
       "4  This is my first iOS phone. I am very happy wi...  \n",
       "5  Previously I was using one plus 3t it was a gr...  \n",
       "6  Amazing Powerful and Durable Gadget.  I’m am v...  \n",
       "7  So far it’s been an AMAZING experience coming ...  \n",
       "8  i11 is worthy to buy, too much happy with the ...  \n",
       "9  What a camera .....just awesome ..you can feel...  "
      ]
     },
     "execution_count": 15,
     "metadata": {},
     "output_type": "execute_result"
    }
   ],
   "source": [
    "first10=pd.DataFrame({})\n",
    "\n",
    "first10['rating']=rating\n",
    "first10['review']=review\n",
    "first10['description']=descrip\n",
    "\n",
    "first10"
   ]
  },
  {
   "cell_type": "markdown",
   "id": "f407c85e",
   "metadata": {},
   "source": [
    "unable to proceed further in next page."
   ]
  },
  {
   "cell_type": "markdown",
   "id": "860d7cac",
   "metadata": {},
   "source": [
    "Mr Keshav Bansal sir shared a code but that's not working or i'm unable that.the code is  "
   ]
  },
  {
   "cell_type": "markdown",
   "id": "a676ff8f",
   "metadata": {},
   "source": [
    "driver.find_elements(By.XPATH,\"//nav[@class='yFHi8N']/a\")[-1].click()\n",
    "time.sleep(2)"
   ]
  },
  {
   "cell_type": "code",
   "execution_count": 19,
   "id": "7c0a6927",
   "metadata": {},
   "outputs": [],
   "source": [
    "next1=driver.find_element_by_xpath('//nav[@class=\"yFHi8N\"]')\n",
    "next1.click()"
   ]
  }
 ],
 "metadata": {
  "kernelspec": {
   "display_name": "Python 3",
   "language": "python",
   "name": "python3"
  },
  "language_info": {
   "codemirror_mode": {
    "name": "ipython",
    "version": 3
   },
   "file_extension": ".py",
   "mimetype": "text/x-python",
   "name": "python",
   "nbconvert_exporter": "python",
   "pygments_lexer": "ipython3",
   "version": "3.8.8"
  }
 },
 "nbformat": 4,
 "nbformat_minor": 5
}
